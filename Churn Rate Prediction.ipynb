{
 "cells": [
  {
   "cell_type": "markdown",
   "metadata": {},
   "source": [
    "# EDA"
   ]
  },
  {
   "cell_type": "code",
   "execution_count": 1,
   "metadata": {},
   "outputs": [],
   "source": [
    "import numpy as np\n",
    "import pandas as pd\n",
    "import seaborn as sns\n",
    "sns.set()\n",
    "from sklearn.model_selection import train_test_split\n",
    "import datetime\n",
    "import matplotlib.pyplot as plt\n",
    "%matplotlib inline\n",
    "plt.style.use('seaborn')"
   ]
  },
  {
   "cell_type": "markdown",
   "metadata": {},
   "source": [
    "Data can be accessed from this google drive link. The \"play log\" contains the records of users active session. There are 9 mini games inside the app \"Lengbear\", an social casino games made and publish exclusively for Cambodia. The transactions log is the records of user in app purchase."
   ]
  },
  {
   "cell_type": "code",
   "execution_count": 2,
   "metadata": {},
   "outputs": [
    {
     "data": {
      "text/html": [
       "<div>\n",
       "<style scoped>\n",
       "    .dataframe tbody tr th:only-of-type {\n",
       "        vertical-align: middle;\n",
       "    }\n",
       "\n",
       "    .dataframe tbody tr th {\n",
       "        vertical-align: top;\n",
       "    }\n",
       "\n",
       "    .dataframe thead th {\n",
       "        text-align: right;\n",
       "    }\n",
       "</style>\n",
       "<table border=\"1\" class=\"dataframe\">\n",
       "  <thead>\n",
       "    <tr style=\"text-align: right;\">\n",
       "      <th></th>\n",
       "      <th>UserID</th>\n",
       "      <th>Amount</th>\n",
       "      <th>Chips</th>\n",
       "      <th>Date</th>\n",
       "      <th>Channel</th>\n",
       "    </tr>\n",
       "  </thead>\n",
       "  <tbody>\n",
       "    <tr>\n",
       "      <th>0</th>\n",
       "      <td>4403840</td>\n",
       "      <td>0.5</td>\n",
       "      <td>600000</td>\n",
       "      <td>2020-03-04 00:00:09.270</td>\n",
       "      <td>DCB_Smart_Axiata</td>\n",
       "    </tr>\n",
       "    <tr>\n",
       "      <th>1</th>\n",
       "      <td>4209368</td>\n",
       "      <td>1.0</td>\n",
       "      <td>2000000</td>\n",
       "      <td>2020-03-04 00:01:07.777</td>\n",
       "      <td>Wing</td>\n",
       "    </tr>\n",
       "    <tr>\n",
       "      <th>2</th>\n",
       "      <td>4627993</td>\n",
       "      <td>0.2</td>\n",
       "      <td>200000</td>\n",
       "      <td>2020-03-04 00:01:15.257</td>\n",
       "      <td>DCB_Smart_Axiata</td>\n",
       "    </tr>\n",
       "    <tr>\n",
       "      <th>3</th>\n",
       "      <td>4689823</td>\n",
       "      <td>0.2</td>\n",
       "      <td>200000</td>\n",
       "      <td>2020-03-04 00:01:53.540</td>\n",
       "      <td>DCB_Smart_Axiata</td>\n",
       "    </tr>\n",
       "    <tr>\n",
       "      <th>4</th>\n",
       "      <td>5209800</td>\n",
       "      <td>0.2</td>\n",
       "      <td>200000</td>\n",
       "      <td>2020-03-04 00:02:11.197</td>\n",
       "      <td>DCB_Smart_Axiata</td>\n",
       "    </tr>\n",
       "    <tr>\n",
       "      <th>...</th>\n",
       "      <td>...</td>\n",
       "      <td>...</td>\n",
       "      <td>...</td>\n",
       "      <td>...</td>\n",
       "      <td>...</td>\n",
       "    </tr>\n",
       "    <tr>\n",
       "      <th>342539</th>\n",
       "      <td>5903879</td>\n",
       "      <td>0.5</td>\n",
       "      <td>600000</td>\n",
       "      <td>2020-05-13 23:58:34.207</td>\n",
       "      <td>DCB_Smart_Axiata</td>\n",
       "    </tr>\n",
       "    <tr>\n",
       "      <th>342540</th>\n",
       "      <td>6094883</td>\n",
       "      <td>0.5</td>\n",
       "      <td>600000</td>\n",
       "      <td>2020-05-13 23:58:46.147</td>\n",
       "      <td>DCB_Smart_Axiata</td>\n",
       "    </tr>\n",
       "    <tr>\n",
       "      <th>342541</th>\n",
       "      <td>6037556</td>\n",
       "      <td>1.0</td>\n",
       "      <td>1200000</td>\n",
       "      <td>2020-05-13 23:58:53.087</td>\n",
       "      <td>DCB_Metfone_Coda</td>\n",
       "    </tr>\n",
       "    <tr>\n",
       "      <th>342542</th>\n",
       "      <td>6027053</td>\n",
       "      <td>0.2</td>\n",
       "      <td>200000</td>\n",
       "      <td>2020-05-13 23:59:18.517</td>\n",
       "      <td>DCB_Smart_Axiata</td>\n",
       "    </tr>\n",
       "    <tr>\n",
       "      <th>342543</th>\n",
       "      <td>6065445</td>\n",
       "      <td>1.0</td>\n",
       "      <td>1200000</td>\n",
       "      <td>2020-05-13 23:59:49.867</td>\n",
       "      <td>DCB_Smart_Axiata</td>\n",
       "    </tr>\n",
       "  </tbody>\n",
       "</table>\n",
       "<p>342544 rows × 5 columns</p>\n",
       "</div>"
      ],
      "text/plain": [
       "         UserID  Amount    Chips                     Date           Channel\n",
       "0       4403840     0.5   600000  2020-03-04 00:00:09.270  DCB_Smart_Axiata\n",
       "1       4209368     1.0  2000000  2020-03-04 00:01:07.777              Wing\n",
       "2       4627993     0.2   200000  2020-03-04 00:01:15.257  DCB_Smart_Axiata\n",
       "3       4689823     0.2   200000  2020-03-04 00:01:53.540  DCB_Smart_Axiata\n",
       "4       5209800     0.2   200000  2020-03-04 00:02:11.197  DCB_Smart_Axiata\n",
       "...         ...     ...      ...                      ...               ...\n",
       "342539  5903879     0.5   600000  2020-05-13 23:58:34.207  DCB_Smart_Axiata\n",
       "342540  6094883     0.5   600000  2020-05-13 23:58:46.147  DCB_Smart_Axiata\n",
       "342541  6037556     1.0  1200000  2020-05-13 23:58:53.087  DCB_Metfone_Coda\n",
       "342542  6027053     0.2   200000  2020-05-13 23:59:18.517  DCB_Smart_Axiata\n",
       "342543  6065445     1.0  1200000  2020-05-13 23:59:49.867  DCB_Smart_Axiata\n",
       "\n",
       "[342544 rows x 5 columns]"
      ]
     },
     "execution_count": 2,
     "metadata": {},
     "output_type": "execute_result"
    }
   ],
   "source": [
    "# Load the transactions log data\n",
    "\n",
    "transactions_df=pd.read_csv('data/transactions.csv', index_col=0, infer_datetime_format=True)\n",
    "transactions_df"
   ]
  },
  {
   "cell_type": "code",
   "execution_count": 3,
   "metadata": {},
   "outputs": [
    {
     "data": {
      "text/plain": [
       "UserID     0\n",
       "Amount     0\n",
       "Chips      0\n",
       "Date       0\n",
       "Channel    0\n",
       "dtype: int64"
      ]
     },
     "execution_count": 3,
     "metadata": {},
     "output_type": "execute_result"
    }
   ],
   "source": [
    "# Check if there is any missing values\n",
    "\n",
    "transactions_df.isna().sum()"
   ]
  },
  {
   "cell_type": "code",
   "execution_count": 4,
   "metadata": {},
   "outputs": [
    {
     "name": "stdout",
     "output_type": "stream",
     "text": [
      "<class 'pandas.core.frame.DataFrame'>\n",
      "Int64Index: 342544 entries, 0 to 342543\n",
      "Data columns (total 5 columns):\n",
      " #   Column   Non-Null Count   Dtype  \n",
      "---  ------   --------------   -----  \n",
      " 0   UserID   342544 non-null  int64  \n",
      " 1   Amount   342544 non-null  float64\n",
      " 2   Chips    342544 non-null  int64  \n",
      " 3   Date     342544 non-null  object \n",
      " 4   Channel  342544 non-null  object \n",
      "dtypes: float64(1), int64(2), object(2)\n",
      "memory usage: 15.7+ MB\n"
     ]
    }
   ],
   "source": [
    "# Inspect the columns and datatype\n",
    "\n",
    "transactions_df.info()"
   ]
  },
  {
   "cell_type": "code",
   "execution_count": 5,
   "metadata": {},
   "outputs": [
    {
     "data": {
      "text/html": [
       "<div>\n",
       "<style scoped>\n",
       "    .dataframe tbody tr th:only-of-type {\n",
       "        vertical-align: middle;\n",
       "    }\n",
       "\n",
       "    .dataframe tbody tr th {\n",
       "        vertical-align: top;\n",
       "    }\n",
       "\n",
       "    .dataframe thead th {\n",
       "        text-align: right;\n",
       "    }\n",
       "</style>\n",
       "<table border=\"1\" class=\"dataframe\">\n",
       "  <thead>\n",
       "    <tr style=\"text-align: right;\">\n",
       "      <th></th>\n",
       "      <th>UserID</th>\n",
       "      <th>Amount</th>\n",
       "      <th>Chips</th>\n",
       "      <th>Date</th>\n",
       "      <th>Channel</th>\n",
       "    </tr>\n",
       "  </thead>\n",
       "  <tbody>\n",
       "    <tr>\n",
       "      <th>0</th>\n",
       "      <td>4403840</td>\n",
       "      <td>0.5</td>\n",
       "      <td>600000</td>\n",
       "      <td>2020-03-04</td>\n",
       "      <td>DCB_Smart_Axiata</td>\n",
       "    </tr>\n",
       "    <tr>\n",
       "      <th>1</th>\n",
       "      <td>4209368</td>\n",
       "      <td>1.0</td>\n",
       "      <td>2000000</td>\n",
       "      <td>2020-03-04</td>\n",
       "      <td>Wing</td>\n",
       "    </tr>\n",
       "    <tr>\n",
       "      <th>2</th>\n",
       "      <td>4627993</td>\n",
       "      <td>0.2</td>\n",
       "      <td>200000</td>\n",
       "      <td>2020-03-04</td>\n",
       "      <td>DCB_Smart_Axiata</td>\n",
       "    </tr>\n",
       "    <tr>\n",
       "      <th>3</th>\n",
       "      <td>4689823</td>\n",
       "      <td>0.2</td>\n",
       "      <td>200000</td>\n",
       "      <td>2020-03-04</td>\n",
       "      <td>DCB_Smart_Axiata</td>\n",
       "    </tr>\n",
       "    <tr>\n",
       "      <th>4</th>\n",
       "      <td>5209800</td>\n",
       "      <td>0.2</td>\n",
       "      <td>200000</td>\n",
       "      <td>2020-03-04</td>\n",
       "      <td>DCB_Smart_Axiata</td>\n",
       "    </tr>\n",
       "    <tr>\n",
       "      <th>...</th>\n",
       "      <td>...</td>\n",
       "      <td>...</td>\n",
       "      <td>...</td>\n",
       "      <td>...</td>\n",
       "      <td>...</td>\n",
       "    </tr>\n",
       "    <tr>\n",
       "      <th>342539</th>\n",
       "      <td>5903879</td>\n",
       "      <td>0.5</td>\n",
       "      <td>600000</td>\n",
       "      <td>2020-05-13</td>\n",
       "      <td>DCB_Smart_Axiata</td>\n",
       "    </tr>\n",
       "    <tr>\n",
       "      <th>342540</th>\n",
       "      <td>6094883</td>\n",
       "      <td>0.5</td>\n",
       "      <td>600000</td>\n",
       "      <td>2020-05-13</td>\n",
       "      <td>DCB_Smart_Axiata</td>\n",
       "    </tr>\n",
       "    <tr>\n",
       "      <th>342541</th>\n",
       "      <td>6037556</td>\n",
       "      <td>1.0</td>\n",
       "      <td>1200000</td>\n",
       "      <td>2020-05-13</td>\n",
       "      <td>DCB_Metfone_Coda</td>\n",
       "    </tr>\n",
       "    <tr>\n",
       "      <th>342542</th>\n",
       "      <td>6027053</td>\n",
       "      <td>0.2</td>\n",
       "      <td>200000</td>\n",
       "      <td>2020-05-13</td>\n",
       "      <td>DCB_Smart_Axiata</td>\n",
       "    </tr>\n",
       "    <tr>\n",
       "      <th>342543</th>\n",
       "      <td>6065445</td>\n",
       "      <td>1.0</td>\n",
       "      <td>1200000</td>\n",
       "      <td>2020-05-13</td>\n",
       "      <td>DCB_Smart_Axiata</td>\n",
       "    </tr>\n",
       "  </tbody>\n",
       "</table>\n",
       "<p>342544 rows × 5 columns</p>\n",
       "</div>"
      ],
      "text/plain": [
       "         UserID  Amount    Chips       Date           Channel\n",
       "0       4403840     0.5   600000 2020-03-04  DCB_Smart_Axiata\n",
       "1       4209368     1.0  2000000 2020-03-04              Wing\n",
       "2       4627993     0.2   200000 2020-03-04  DCB_Smart_Axiata\n",
       "3       4689823     0.2   200000 2020-03-04  DCB_Smart_Axiata\n",
       "4       5209800     0.2   200000 2020-03-04  DCB_Smart_Axiata\n",
       "...         ...     ...      ...        ...               ...\n",
       "342539  5903879     0.5   600000 2020-05-13  DCB_Smart_Axiata\n",
       "342540  6094883     0.5   600000 2020-05-13  DCB_Smart_Axiata\n",
       "342541  6037556     1.0  1200000 2020-05-13  DCB_Metfone_Coda\n",
       "342542  6027053     0.2   200000 2020-05-13  DCB_Smart_Axiata\n",
       "342543  6065445     1.0  1200000 2020-05-13  DCB_Smart_Axiata\n",
       "\n",
       "[342544 rows x 5 columns]"
      ]
     },
     "execution_count": 5,
     "metadata": {},
     "output_type": "execute_result"
    }
   ],
   "source": [
    "# Slice away the purchasing time for date in transaction data\n",
    "\n",
    "transactions_df['Date']=pd.to_datetime(transactions_df['Date'].str[:10])\n",
    "transactions_df"
   ]
  },
  {
   "cell_type": "code",
   "execution_count": 6,
   "metadata": {},
   "outputs": [
    {
     "data": {
      "text/html": [
       "<div>\n",
       "<style scoped>\n",
       "    .dataframe tbody tr th:only-of-type {\n",
       "        vertical-align: middle;\n",
       "    }\n",
       "\n",
       "    .dataframe tbody tr th {\n",
       "        vertical-align: top;\n",
       "    }\n",
       "\n",
       "    .dataframe thead th {\n",
       "        text-align: right;\n",
       "    }\n",
       "</style>\n",
       "<table border=\"1\" class=\"dataframe\">\n",
       "  <thead>\n",
       "    <tr style=\"text-align: right;\">\n",
       "      <th></th>\n",
       "      <th>Date</th>\n",
       "      <th>Amount</th>\n",
       "      <th>Day</th>\n",
       "    </tr>\n",
       "  </thead>\n",
       "  <tbody>\n",
       "    <tr>\n",
       "      <th>0</th>\n",
       "      <td>2020-03-04</td>\n",
       "      <td>6412.86</td>\n",
       "      <td>Wednesday</td>\n",
       "    </tr>\n",
       "    <tr>\n",
       "      <th>1</th>\n",
       "      <td>2020-03-05</td>\n",
       "      <td>5419.21</td>\n",
       "      <td>Thursday</td>\n",
       "    </tr>\n",
       "    <tr>\n",
       "      <th>2</th>\n",
       "      <td>2020-03-06</td>\n",
       "      <td>6745.30</td>\n",
       "      <td>Friday</td>\n",
       "    </tr>\n",
       "    <tr>\n",
       "      <th>3</th>\n",
       "      <td>2020-03-07</td>\n",
       "      <td>6040.70</td>\n",
       "      <td>Saturday</td>\n",
       "    </tr>\n",
       "    <tr>\n",
       "      <th>4</th>\n",
       "      <td>2020-03-08</td>\n",
       "      <td>7039.80</td>\n",
       "      <td>Sunday</td>\n",
       "    </tr>\n",
       "    <tr>\n",
       "      <th>...</th>\n",
       "      <td>...</td>\n",
       "      <td>...</td>\n",
       "      <td>...</td>\n",
       "    </tr>\n",
       "    <tr>\n",
       "      <th>66</th>\n",
       "      <td>2020-05-09</td>\n",
       "      <td>4730.20</td>\n",
       "      <td>Saturday</td>\n",
       "    </tr>\n",
       "    <tr>\n",
       "      <th>67</th>\n",
       "      <td>2020-05-10</td>\n",
       "      <td>4447.30</td>\n",
       "      <td>Sunday</td>\n",
       "    </tr>\n",
       "    <tr>\n",
       "      <th>68</th>\n",
       "      <td>2020-05-11</td>\n",
       "      <td>4923.70</td>\n",
       "      <td>Monday</td>\n",
       "    </tr>\n",
       "    <tr>\n",
       "      <th>69</th>\n",
       "      <td>2020-05-12</td>\n",
       "      <td>4781.60</td>\n",
       "      <td>Tuesday</td>\n",
       "    </tr>\n",
       "    <tr>\n",
       "      <th>70</th>\n",
       "      <td>2020-05-13</td>\n",
       "      <td>5048.13</td>\n",
       "      <td>Wednesday</td>\n",
       "    </tr>\n",
       "  </tbody>\n",
       "</table>\n",
       "<p>71 rows × 3 columns</p>\n",
       "</div>"
      ],
      "text/plain": [
       "         Date   Amount        Day\n",
       "0  2020-03-04  6412.86  Wednesday\n",
       "1  2020-03-05  5419.21   Thursday\n",
       "2  2020-03-06  6745.30     Friday\n",
       "3  2020-03-07  6040.70   Saturday\n",
       "4  2020-03-08  7039.80     Sunday\n",
       "..        ...      ...        ...\n",
       "66 2020-05-09  4730.20   Saturday\n",
       "67 2020-05-10  4447.30     Sunday\n",
       "68 2020-05-11  4923.70     Monday\n",
       "69 2020-05-12  4781.60    Tuesday\n",
       "70 2020-05-13  5048.13  Wednesday\n",
       "\n",
       "[71 rows x 3 columns]"
      ]
     },
     "execution_count": 6,
     "metadata": {},
     "output_type": "execute_result"
    }
   ],
   "source": [
    "transactions_df_sum=pd.DataFrame(transactions_df.groupby('Date').sum()['Amount']).reset_index()\n",
    "transactions_df_sum['Day']=pd.to_datetime(transactions_df_sum['Date']).dt.day_name()\n",
    "transactions_df_sum"
   ]
  },
  {
   "cell_type": "code",
   "execution_count": 9,
   "metadata": {},
   "outputs": [
    {
     "data": {
      "image/png": "[encoded data removed]",
      "text/plain": [
       "<Figure size 936x576 with 1 Axes>"
      ]
     },
     "metadata": {},
     "output_type": "display_data"
    }
   ],
   "source": [
    "plt.figure(figsize=(13,8))\n",
    "sns.lineplot(transactions_df_sum['Date'], transactions_df_sum['Amount'], sizes=(13,8))\n",
    "plt.ylabel('Total In App Purchase in USD')\n",
    "plt.savefig('IAP by data.png', dpi=400)\n",
    "plt.show()"
   ]
  },
  {
   "cell_type": "code",
   "execution_count": 12,
   "metadata": {},
   "outputs": [
    {
     "data": {
      "image/png": "[encoded data removed]",
      "text/plain": [
       "<Figure size 936x576 with 1 Axes>"
      ]
     },
     "metadata": {},
     "output_type": "display_data"
    }
   ],
   "source": [
    "plt.figure(figsize=(13,8))\n",
    "plt.bar(transactions_df_sum['Day'], transactions_df_sum['Amount'])\n",
    "plt.xlabel('Day of week')\n",
    "plt.ylabel('Total In App Purchase in USD')\n",
    "plt.title('Games Popularity')\n",
    "plt.show()"
   ]
  },
  {
   "cell_type": "code",
   "execution_count": 13,
   "metadata": {},
   "outputs": [
    {
     "data": {
      "text/plain": [
       "DCB_Smart_Axiata     226264\n",
       "DCB_Cellcard_Coda     70179\n",
       "Wing                  35917\n",
       "Wing_Local             5712\n",
       "DCB_Metfone_Coda       2941\n",
       "Asia                   1052\n",
       "Pipay                   478\n",
       "DCB_Unitel                1\n",
       "Name: Channel, dtype: int64"
      ]
     },
     "execution_count": 13,
     "metadata": {},
     "output_type": "execute_result"
    }
   ],
   "source": [
    "transactions_df['Channel'].value_counts()"
   ]
  },
  {
   "cell_type": "code",
   "execution_count": 18,
   "metadata": {},
   "outputs": [
    {
     "data": {
      "text/html": [
       "<div>\n",
       "<style scoped>\n",
       "    .dataframe tbody tr th:only-of-type {\n",
       "        vertical-align: middle;\n",
       "    }\n",
       "\n",
       "    .dataframe tbody tr th {\n",
       "        vertical-align: top;\n",
       "    }\n",
       "\n",
       "    .dataframe thead th {\n",
       "        text-align: right;\n",
       "    }\n",
       "</style>\n",
       "<table border=\"1\" class=\"dataframe\">\n",
       "  <thead>\n",
       "    <tr style=\"text-align: right;\">\n",
       "      <th></th>\n",
       "      <th>Channel</th>\n",
       "      <th>Amount</th>\n",
       "    </tr>\n",
       "  </thead>\n",
       "  <tbody>\n",
       "    <tr>\n",
       "      <th>0</th>\n",
       "      <td>Asia</td>\n",
       "      <td>2886.00</td>\n",
       "    </tr>\n",
       "    <tr>\n",
       "      <th>1</th>\n",
       "      <td>DCB_Cellcard_Coda</td>\n",
       "      <td>65953.20</td>\n",
       "    </tr>\n",
       "    <tr>\n",
       "      <th>2</th>\n",
       "      <td>DCB_Metfone_Coda</td>\n",
       "      <td>3277.50</td>\n",
       "    </tr>\n",
       "    <tr>\n",
       "      <th>3</th>\n",
       "      <td>DCB_Smart_Axiata</td>\n",
       "      <td>162931.61</td>\n",
       "    </tr>\n",
       "    <tr>\n",
       "      <th>4</th>\n",
       "      <td>DCB_Unitel</td>\n",
       "      <td>0.23</td>\n",
       "    </tr>\n",
       "    <tr>\n",
       "      <th>5</th>\n",
       "      <td>Pipay</td>\n",
       "      <td>1592.00</td>\n",
       "    </tr>\n",
       "    <tr>\n",
       "      <th>6</th>\n",
       "      <td>Wing</td>\n",
       "      <td>114243.00</td>\n",
       "    </tr>\n",
       "    <tr>\n",
       "      <th>7</th>\n",
       "      <td>Wing_Local</td>\n",
       "      <td>25946.59</td>\n",
       "    </tr>\n",
       "  </tbody>\n",
       "</table>\n",
       "</div>"
      ],
      "text/plain": [
       "             Channel     Amount\n",
       "0               Asia    2886.00\n",
       "1  DCB_Cellcard_Coda   65953.20\n",
       "2   DCB_Metfone_Coda    3277.50\n",
       "3   DCB_Smart_Axiata  162931.61\n",
       "4         DCB_Unitel       0.23\n",
       "5              Pipay    1592.00\n",
       "6               Wing  114243.00\n",
       "7         Wing_Local   25946.59"
      ]
     },
     "execution_count": 18,
     "metadata": {},
     "output_type": "execute_result"
    }
   ],
   "source": [
    "transactions_iap_by_channels=transactions_df.groupby('Channel').sum()['Amount'].reset_index()\n",
    "transactions_iap_by_channels.sort_values(by=['Amount'], ascending=False)\n",
    "transactions_iap_by_channels"
   ]
  },
  {
   "cell_type": "code",
   "execution_count": null,
   "metadata": {},
   "outputs": [],
   "source": [
    "plt.figure(figsize=(13,8))\n",
    "valueshow()"
   ]
  },
  {
   "cell_type": "code",
   "execution_count": null,
   "metadata": {},
   "outputs": [],
   "source": []
  },
  {
   "cell_type": "code",
   "execution_count": null,
   "metadata": {},
   "outputs": [],
   "source": [
    "# Columns name for player log provided by data owner\n",
    "\n",
    "columns_play_log=('Sequence','UserID', 'GameID', 'Level', 'WinNo', 'DrawNo', 'LostNo', 'WinAmt', 'LostAmt', 'Date', 'Currency_Type1', 'Currency_Type2')\n"
   ]
  },
  {
   "cell_type": "code",
   "execution_count": null,
   "metadata": {},
   "outputs": [],
   "source": [
    "# Making the dataframe for GameID and Match_Length (data provided by game owner)\n",
    "\n",
    "# Gamename BINH                9001: 80 seconds\n",
    "# Gamename POKDENG             9002: 80 seconds\n",
    "# Gamename BAUCUA              9005: 20 seconds\n",
    "# Gamename SHOW                9004: 80 seconds\n",
    "# Gamename XOCDIA              9003: 20 seconds\n",
    "# Gamename SIKU                9006: 80 seconds\n",
    "# Gamename SLOT_20_LINE        9008: 20 seconds\n",
    "# Gamename SLOT_100_LINE       1008: 20 seconds\n",
    "# Gamename TIENLEN_CAM         9009: 120 seconds\n",
    "\n",
    "Game_Code_Length=pd.DataFrame({'GameID':[9001, 9002, 9005, 9004, 9003, 9006, 9008, 1008, 9009],\n",
    "                               'Match_Length':[75,75,20,75,20,75,20,20,120]})"
   ]
  },
  {
   "cell_type": "code",
   "execution_count": null,
   "metadata": {},
   "outputs": [],
   "source": [
    "# Load the play log file and check if there is any missing values\n",
    "\n",
    "play_log_df=pd.read_csv('data/PlayerLog.csv', names=columns_play_log, infer_datetime_format=True)\n",
    "play_log_df.isna().sum()\n",
    "play_log_df.to_csv('data/playlog01-130520.csv')"
   ]
  },
  {
   "cell_type": "code",
   "execution_count": null,
   "metadata": {},
   "outputs": [],
   "source": [
    "# Remove redundant columns (suggested by data owner) and set the time to regular format\n",
    "\n",
    "play_log_df.drop(['Sequence', 'DrawNo', 'Currency_Type1', 'Currency_Type2'], axis=1, inplace=True)\n",
    "play_log_df['Date']=pd.to_datetime(play_log_df['Date'].str[:10])\n",
    "play_log_df.head()"
   ]
  },
  {
   "cell_type": "code",
   "execution_count": null,
   "metadata": {},
   "outputs": [],
   "source": [
    "# Getting the Match_Length column ready to calculate the active session of user.\n",
    "\n",
    "play_log_df=play_log_df.merge(Game_Code_Length, on='GameID', how='left')\n",
    "play_log_df.head()"
   ]
  },
  {
   "cell_type": "code",
   "execution_count": null,
   "metadata": {},
   "outputs": [],
   "source": [
    "# Counting the number of games play in each log and get the actual active play time of users.\n",
    "\n",
    "play_log_df['Games_Played']=play_log_df['WinNo']+play_log_df['DrawNo']+play_log_df['LostNo']\n",
    "play_log_df['Active_Time']=play_log_df['Games_Played']*play_log_df['Match_Length']\n",
    "play_log_df"
   ]
  },
  {
   "cell_type": "code",
   "execution_count": null,
   "metadata": {},
   "outputs": [],
   "source": [
    "# Prepare to count number of minigames that user play over the period\n",
    "\n",
    "play_log_df['9001']=np.where(play_log_df['GameID']==9001, play_log_df['Games_Played'], 0)\n",
    "play_log_df['9002']=np.where(play_log_df['GameID']==9002, play_log_df['Games_Played'], 0)\n",
    "play_log_df['9005']=np.where(play_log_df['GameID']==9005, play_log_df['Games_Played'], 0)\n",
    "play_log_df['9004']=np.where(play_log_df['GameID']==9004, play_log_df['Games_Played'], 0)\n",
    "play_log_df['9003']=np.where(play_log_df['GameID']==9003, play_log_df['Games_Played'], 0)\n",
    "play_log_df['9006']=np.where(play_log_df['GameID']==9006, play_log_df['Games_Played'], 0)\n",
    "play_log_df['9008']=np.where(play_log_df['GameID']==9008, play_log_df['Games_Played'], 0)\n",
    "play_log_df['1008']=np.where(play_log_df['GameID']==1008, play_log_df['Games_Played'], 0)\n",
    "play_log_df['9009']=np.where(play_log_df['GameID']==9009, play_log_df['Games_Played'], 0)\n",
    "play_log_df.head()"
   ]
  },
  {
   "cell_type": "code",
   "execution_count": null,
   "metadata": {
    "tags": []
   },
   "outputs": [],
   "source": [
    "play_log_df.describe()"
   ]
  },
  {
   "cell_type": "code",
   "execution_count": null,
   "metadata": {},
   "outputs": [],
   "source": [
    "# Since there is no Draw match, we drop the DrawNo as a feature\n",
    "\n",
    "play_log_df=play_log_df.drop(['DrawNo'], axis=1)\n",
    "play_log_df.head()"
   ]
  },
  {
   "cell_type": "code",
   "execution_count": null,
   "metadata": {},
   "outputs": [],
   "source": [
    "# Count the number of games played by GameID over the study period\n",
    "\n",
    "games_played_breakdown=play_log_df.groupby(['UserID']).sum()[['9001', '9002', '9005', '9004', '9003', '9006', '9008', '1008', '9009']].reset_index()\n",
    "games_played=pd.DataFrame(games_played_breakdown[['9001', '9002', '9005', '9004', '9003', '9006', '9008', '1008', '9009']].sum()).reset_index()\n",
    "games_played.columns=('GameID',\"Games_Played\")\n",
    "games_played=games_played.sort_values(by=['Games_Played'], ascending=False)\n",
    "games_played"
   ]
  },
  {
   "cell_type": "code",
   "execution_count": null,
   "metadata": {},
   "outputs": [],
   "source": [
    "plt.figure(figsize=(13,8))\n",
    "plt.bar(games_played['GameID'], games_played['Games_Played'])\n",
    "plt.xlabel('Game ID')\n",
    "plt.ylabel('Games Played')\n",
    "plt.title('Games Popularity')\n",
    "plt.show()"
   ]
  },
  {
   "cell_type": "markdown",
   "metadata": {},
   "source": [
    "# Clearly GameId: 9009, 9008, 1008 and 9002 are the ones that has the most number of matches played. It is probably where users spend most of their time playing too. If any promotion banner is to take place, it should be paid extra attention. "
   ]
  },
  {
   "cell_type": "code",
   "execution_count": null,
   "metadata": {},
   "outputs": [],
   "source": [
    "\n",
    "\n",
    "players_details=play_log_df.groupby(['UserID']).sum()[['WinNo', 'LostNo', 'WinAmt', 'LostAmt','Active_Time', 'Games_Played', '9001', '9002', '9005', '9004', '9003', '9006', '9008', '1008', '9009']].reset_index()\n",
    "players_details"
   ]
  },
  {
   "cell_type": "code",
   "execution_count": null,
   "metadata": {
    "tags": []
   },
   "outputs": [],
   "source": [
    "# Getting t0 and list of days on which user data can be extracted\n",
    "\n",
    "t0=play_log_df['Date'].min()\n",
    "t_value=[]\n",
    "\n",
    "for i in range(0,9):\n",
    "    t_value.append(t0+datetime.timedelta(days=i))\n",
    "    \n",
    "print(f'The data set can have t0 can start from: {t_value[0]}, to: {t_value[-1]}, pass t_value[number] to function get_data to get the desired player data')"
   ]
  },
  {
   "cell_type": "code",
   "execution_count": null,
   "metadata": {},
   "outputs": [],
   "source": [
    "def get_data(t0):\n",
    "    \n",
    "    # Pass in t0, t4 and tchurn\n",
    "    t0=t0\n",
    "    t4=t0+datetime.timedelta(days=3)\n",
    "    tchurn=t0+datetime.timedelta(days=4)\n",
    "    print(f't0={t0} \\nt4={t4} \\ntchurn={tchurn}')\n",
    "    \n",
    "    # Get unique users on t0\n",
    "    play_log_t0=play_log_df.loc[play_log_df['Date']==t0]\n",
    "    t0_users=pd.DataFrame(play_log_t0['UserID'].unique())\n",
    "    t0_users.columns=['UserID']\n",
    "    \n",
    "    # Slice out the dataframe that contains user playlog from t0 -> t4\n",
    "    play_log_t0_t4=play_log_df.loc[(play_log_df['Date']>=t0) & (play_log_df['Date']<=t4)]\n",
    "    \n",
    "    # Compute the Winning rate and Drawing rate, Losing Rate, Winning Amount, Losing Amount for each user in from t0->t4\n",
    "    WinNo=pd.DataFrame(play_log_t0_t4.groupby(['UserID']).sum()['WinNo'])\n",
    "    LostNo=pd.DataFrame(play_log_t0_t4.groupby(['UserID']).sum()['LostNo'])\n",
    "    WinAmt=pd.DataFrame(play_log_t0_t4.groupby(['UserID']).sum()['WinAmt'])\n",
    "    LostAmt=pd.DataFrame(play_log_t0_t4.groupby(['UserID']).sum()['LostAmt'])\n",
    "    Games_Played=pd.DataFrame(play_log_t0_t4.groupby(['UserID']).sum()['Games_Played'])\n",
    "    Active_Time=pd.DataFrame(play_log_t0_t4.groupby(['UserID']).sum()['Active_Time'])\n",
    "    \n",
    "    # Count the number of games played by GameID over the study period\n",
    "    games_played_breakdown=play_log_df.groupby(['UserID']).sum()[['9001', '9002', '9005', '9004', '9003', '9006', '9008', '1008', '9009']].reset_index()\n",
    "        \n",
    "    # Merging user data into a single dataframe \n",
    "    play_log_summary=WinNo.merge(LostNo, on='UserID', how='left')\\\n",
    "                        .merge(WinAmt, on='UserID', how='left')\\\n",
    "                        .merge(LostAmt, on='UserID', how='left')\\\n",
    "                        .merge(Games_Played, on='UserID', how='left')\\\n",
    "                        .merge(Active_Time, on='UserID', how='left')\n",
    "    play_log_summary.columns=['WinNo', 'LostNo', 'WinAmt', 'LostAmt', 'Games_Played', 'Active_Time']\n",
    "    \n",
    "    # Reset index after merging all new \n",
    "    play_log_summary=play_log_summary.reset_index(level='UserID')\n",
    "        \n",
    "    # Slice out the time for study\n",
    "    transactions_df_t0_t4=transactions_df.loc[(transactions_df['Date']>=t0) & (transactions_df['Date']<=t4)]\n",
    "    \n",
    "    # Sum in-game purchase by users during t0 -> t4\n",
    "    transactions_df_t0_t4=pd.DataFrame(transactions_df_t0_t4.groupby(['UserID']).sum()['Amount'])\n",
    "    transactions_df_t0_t4.reset_index(level='UserID')\n",
    "    \n",
    "    # Merge transactions records with play log\n",
    "    play_log_summary=play_log_summary.merge(transactions_df_t0_t4, on='UserID', how='left')\n",
    "    play_log_summary=play_log_summary.fillna(0)\n",
    "    \n",
    "    # Create new features namely: Winning Rate, Drawing Rate, Losing Rate for all unique users\n",
    "    play_log_summary['WinningRate']=play_log_summary['WinNo']/play_log_summary['Games_Played']\n",
    "    play_log_summary['LosingRate']=play_log_summary['LostNo']/play_log_summary['Games_Played']\n",
    "    \n",
    "    # Slice out tchurn\n",
    "    play_log_tchurn=play_log_df.loc[play_log_df['Date']==tchurn]\n",
    "    \n",
    "    # Getting target \n",
    "    final_play_log=play_log_summary.assign(Churn=play_log_summary.UserID.isin(play_log_tchurn.UserID).astype(int))\n",
    "\n",
    "    return final_play_log"
   ]
  },
  {
   "cell_type": "code",
   "execution_count": null,
   "metadata": {
    "tags": []
   },
   "outputs": [],
   "source": [
    "play_log_train=get_data(t_value[0])\n",
    "play_log_train"
   ]
  },
  {
   "cell_type": "code",
   "execution_count": null,
   "metadata": {},
   "outputs": [],
   "source": []
  },
  {
   "cell_type": "markdown",
   "metadata": {},
   "source": [
    "# Correlation with churn"
   ]
  },
  {
   "cell_type": "code",
   "execution_count": null,
   "metadata": {},
   "outputs": [],
   "source": [
    "play_log_df.corr().style.background_gradient()"
   ]
  },
  {
   "cell_type": "code",
   "execution_count": null,
   "metadata": {},
   "outputs": [],
   "source": [
    "# Assigning X_train and y_train\n",
    "X_train=play_log_train.iloc[:,:-1]\n",
    "X_train=X_train.drop(['UserID'], axis=1)\n",
    "\n",
    "# Fill na for some value of \n",
    "X_train=X_train.fillna(0) \n",
    "X_train.shape"
   ]
  },
  {
   "cell_type": "code",
   "execution_count": null,
   "metadata": {},
   "outputs": [],
   "source": [
    "y_train=play_log_train.iloc[:,-1]"
   ]
  },
  {
   "cell_type": "code",
   "execution_count": null,
   "metadata": {},
   "outputs": [],
   "source": [
    "y_train.value_counts()"
   ]
  },
  {
   "cell_type": "markdown",
   "metadata": {},
   "source": [
    "## Clearly, this is an imbalance data set which can result in inaccuracy for classification models. We will resample the data sets to make it more balance."
   ]
  },
  {
   "cell_type": "code",
   "execution_count": null,
   "metadata": {},
   "outputs": [],
   "source": [
    "from sklearn.utils import resample"
   ]
  },
  {
   "cell_type": "code",
   "execution_count": null,
   "metadata": {
    "tags": []
   },
   "outputs": [],
   "source": [
    "\n",
    "print('Number of class 0 examples before:', X_train[y_train == 0].shape[0])\n",
    "\n",
    "X_downsampled, y_downsampled = resample(X_train[y_train == 0], \n",
    "                                        y_train[y_train == 0], \n",
    "                                        replace=True, \n",
    "                                        n_samples=X_train[y_train == 1].shape[0], \n",
    "                                        random_state=42)\n",
    "\n",
    "print('Number of class 0 examples after:', X_downsampled.shape[0])\n",
    "\n",
    "# Combine upsample with original data\n",
    "X_train_downsampled = np.vstack((X_train[y_train == 1], X_downsampled))\n",
    "y_train_downsampled = np.hstack((y_train[y_train == 1], y_downsampled))"
   ]
  },
  {
   "cell_type": "code",
   "execution_count": null,
   "metadata": {
    "tags": []
   },
   "outputs": [],
   "source": [
    "# Get a new set of users as the test set \n",
    "\n",
    "play_log_test=get_data(t_value[6])\n",
    "play_log_test"
   ]
  },
  {
   "cell_type": "code",
   "execution_count": null,
   "metadata": {},
   "outputs": [],
   "source": [
    "# Assigning X_test and y_test\n",
    "X_test=play_log_test.iloc[:,:-1]\n",
    "X_test=X_test.drop(['UserID'], axis=1)\n",
    "\n",
    "# Fill na for some value of \n",
    "X_test=X_test.fillna(0) "
   ]
  },
  {
   "cell_type": "code",
   "execution_count": null,
   "metadata": {},
   "outputs": [],
   "source": [
    "y_test=play_log_test.iloc[:,-1]\n",
    "y_test.value_counts()"
   ]
  },
  {
   "cell_type": "code",
   "execution_count": null,
   "metadata": {},
   "outputs": [],
   "source": [
    "from sklearn.linear_model import LogisticRegression\n",
    "\n",
    "# 1. Instantiate model\n",
    "churn_logistic_regression=LogisticRegression(random_state=42, max_iter=10000)\n",
    "\n",
    "# 2. Fit model\n",
    "churn_logistic_regression.fit(X_train_downsampled, y_train_downsampled)"
   ]
  },
  {
   "cell_type": "code",
   "execution_count": null,
   "metadata": {
    "tags": []
   },
   "outputs": [],
   "source": [
    "# 3. Score model\n",
    "print(f'Score on train: {churn_logistic_regression.score(X_train_downsampled, y_train_downsampled)}')\n",
    "print(f'Score on test: {churn_logistic_regression.score(X_test, y_test)}')"
   ]
  },
  {
   "cell_type": "code",
   "execution_count": null,
   "metadata": {
    "tags": []
   },
   "outputs": [],
   "source": [
    "from sklearn.tree import DecisionTreeClassifier\n",
    "\n",
    "DT=DecisionTreeClassifier(random_state=42, max_depth=11)\n",
    "DT.fit(X_train, y_train)\n",
    "\n",
    "# Accuracy scores\n",
    "print(DT.score(X_train_downsampled, y_train_downsampled))\n",
    "print(DT.score(X_test, y_test))"
   ]
  },
  {
   "cell_type": "code",
   "execution_count": null,
   "metadata": {
    "tags": []
   },
   "outputs": [],
   "source": [
    "from sklearn.neighbors import KNeighborsClassifier\n",
    "\n",
    "# k_ranges = range(1,15)\n",
    "# train_scores = []\n",
    "# validation_scores = []\n",
    "\n",
    "# for k in k_ranges:\n",
    "my_knn = KNeighborsClassifier(n_neighbors=13)\n",
    "my_knn.fit(X_train, y_train)\n",
    "    \n",
    "# train_scores.append(my_knn.score(X_train, y_train))\n",
    "# validation_scores.append(my_knn.score(X_test, y_test))\n",
    "\n",
    "print(my_knn.score(X_train_downsampled, y_train_downsampled))\n",
    "print(my_knn.score(X_test, y_test))"
   ]
  },
  {
   "cell_type": "code",
   "execution_count": null,
   "metadata": {
    "tags": []
   },
   "outputs": [],
   "source": [
    "from sklearn.ensemble import RandomForestClassifier\n",
    "\n",
    "estimator_number = list(range(1, 100))\n",
    "train_scores = []\n",
    "test_scores = []\n",
    "\n",
    "\n",
    "for number in estimator_number:\n",
    "    my_model = RandomForestClassifier(n_estimators=number, \n",
    "                                      max_depth=1,\n",
    "                                      random_state=1)\n",
    "    my_model.fit(X_train_downsampled, y_train_downsampled)\n",
    "\n",
    "    train_scores.append(my_model.score(X_train_downsampled, y_train_downsampled))\n",
    "    test_scores.append(my_model.score(X_test, y_test))\n",
    "    \n",
    "    print(f'finished {number} estimators', end='\\r')"
   ]
  },
  {
   "cell_type": "code",
   "execution_count": null,
   "metadata": {},
   "outputs": [],
   "source": [
    "plt.figure()\n",
    "plt.plot(estimator_number, train_scores, label=\"Train\")\n",
    "plt.plot(estimator_number, test_scores, label=\"Test\")\n",
    "plt.xlabel(\"Estimator number\")\n",
    "plt.ylabel(\"Accuracy\")\n",
    "plt.legend()\n",
    "plt.show()"
   ]
  },
  {
   "cell_type": "code",
   "execution_count": null,
   "metadata": {},
   "outputs": [],
   "source": []
  },
  {
   "cell_type": "code",
   "execution_count": null,
   "metadata": {},
   "outputs": [],
   "source": [
    "from sklearn.neural_network import MLPClassifier"
   ]
  },
  {
   "cell_type": "code",
   "execution_count": null,
   "metadata": {},
   "outputs": [],
   "source": [
    "my_skl_model = MLPClassifier(hidden_layer_sizes=(10), \n",
    "                             activation='relu',\n",
    "                             max_iter=2000,\n",
    "                             solver = 'adam')"
   ]
  },
  {
   "cell_type": "code",
   "execution_count": null,
   "metadata": {},
   "outputs": [],
   "source": [
    "# 3. Fit\n",
    "my_skl_model.fit(X_train_downsampled, y_train_downsampled)"
   ]
  },
  {
   "cell_type": "code",
   "execution_count": null,
   "metadata": {
    "tags": []
   },
   "outputs": [],
   "source": [
    "# 3. Score\n",
    "print(my_skl_model.score(X_train_downsampled, y_train_downsampled))\n",
    "print(my_skl_model.score(X_test, y_test))"
   ]
  },
  {
   "cell_type": "code",
   "execution_count": null,
   "metadata": {},
   "outputs": [],
   "source": [
    "# importing the feed-forward network object\n",
    "from tensorflow.keras.models import Sequential\n",
    "\n",
    "# importing the required type of layers\n",
    "from tensorflow.keras.layers import Dense, Dropout, BatchNormalization"
   ]
  },
  {
   "cell_type": "code",
   "execution_count": null,
   "metadata": {},
   "outputs": [],
   "source": [
    "# Instantiate feed-forward neural network\n",
    "my_keras_model = Sequential()"
   ]
  },
  {
   "cell_type": "code",
   "execution_count": null,
   "metadata": {},
   "outputs": [],
   "source": [
    "# adding appropriate layers\n",
    "\n",
    "# hidden layer with relu activation function and 10 nodes\n",
    "my_keras_model.add(Dense(units=10, \n",
    "                         activation='relu', \n",
    "                         input_shape=(11,))) \n",
    "# shape of data points come in the model\n",
    "# the next layer you dont need to put in input_shape\n",
    "# output layer with softmax and 3 output nodes\n",
    "my_keras_model.add(Dense(units=2,\n",
    "                         activation='softmax')) #classification problem use softmax"
   ]
  },
  {
   "cell_type": "code",
   "execution_count": null,
   "metadata": {},
   "outputs": [],
   "source": [
    "# compile model with proper optimizer, loss and a metric\n",
    "my_keras_model.compile(optimizer='adam',\n",
    "                       loss='sparse_categorical_crossentropy',\n",
    "                       metrics=['accuracy']) #loss function is what we want to optimize"
   ]
  },
  {
   "cell_type": "code",
   "execution_count": null,
   "metadata": {},
   "outputs": [],
   "source": [
    "# fit model \n",
    "my_keras_model.fit(X_train_downsampled, y_train_downsampled, epochs=2000, verbose=0) \n",
    "# epoch is the number of iteration, \n",
    "# verbose stops the function printing everytime it finishes one iteration "
   ]
  },
  {
   "cell_type": "code",
   "execution_count": null,
   "metadata": {},
   "outputs": [],
   "source": [
    "# training score\n",
    "my_keras_model.evaluate(X_train_downsampled, y_train_downsampled)"
   ]
  },
  {
   "cell_type": "code",
   "execution_count": null,
   "metadata": {},
   "outputs": [],
   "source": [
    "# testing score\n",
    "my_keras_model.evaluate(X_test, y_test)"
   ]
  }
 ],
 "metadata": {
  "kernelspec": {
   "display_name": "Python 3",
   "language": "python",
   "name": "python3"
  },
  "language_info": {
   "codemirror_mode": {
    "name": "ipython",
    "version": 3
   },
   "file_extension": ".py",
   "mimetype": "text/x-python",
   "name": "python",
   "nbconvert_exporter": "python",
   "pygments_lexer": "ipython3",
   "version": "3.7.6"
  }
 },
 "nbformat": 4,
 "nbformat_minor": 4
}
