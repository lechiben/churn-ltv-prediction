{
 "cells": [
  {
   "cell_type": "markdown",
   "metadata": {},
   "source": [
    "# EDA"
   ]
  },
  {
   "cell_type": "code",
   "execution_count": 1,
   "metadata": {},
   "outputs": [],
   "source": [
    "import numpy as np\n",
    "import pandas as pd\n",
    "import matplotlib.pyplot as plt\n",
    "from sklearn.model_selection import train_test_split\n",
    "import datetime"
   ]
  },
  {
   "cell_type": "markdown",
   "metadata": {},
   "source": [
    "Data can be accessed from this google drive link. The \"play log\" contains the records of users active session. There are 9 mini games inside the app \"Lengbear\", an social casino games made and publish exclusively for Cambodia. The transactions log is the records of user in app purchase."
   ]
  },
  {
   "cell_type": "code",
   "execution_count": 2,
   "metadata": {},
   "outputs": [],
   "source": [
    "# Columns name for player log, transactions and match length by GameID provided by data owner\n",
    "\n",
    "columns_play_log=('Sequence','UserID', 'GameID', 'Level', 'WinNo', 'DrawNo', 'LostNo', 'WinAmt', 'LostAmt', 'Date', 'Currency_Type1', 'Currency_Type2')\n",
    "columns_transactions=('UserID','Amount','Chips','Date', 'Channel')"
   ]
  },
  {
   "cell_type": "code",
   "execution_count": 3,
   "metadata": {},
   "outputs": [
    {
     "data": {
      "text/html": [
       "<div>\n",
       "<style scoped>\n",
       "    .dataframe tbody tr th:only-of-type {\n",
       "        vertical-align: middle;\n",
       "    }\n",
       "\n",
       "    .dataframe tbody tr th {\n",
       "        vertical-align: top;\n",
       "    }\n",
       "\n",
       "    .dataframe thead th {\n",
       "        text-align: right;\n",
       "    }\n",
       "</style>\n",
       "<table border=\"1\" class=\"dataframe\">\n",
       "  <thead>\n",
       "    <tr style=\"text-align: right;\">\n",
       "      <th></th>\n",
       "      <th>GameID</th>\n",
       "      <th>Match_Length</th>\n",
       "    </tr>\n",
       "  </thead>\n",
       "  <tbody>\n",
       "    <tr>\n",
       "      <th>0</th>\n",
       "      <td>9001</td>\n",
       "      <td>75</td>\n",
       "    </tr>\n",
       "    <tr>\n",
       "      <th>1</th>\n",
       "      <td>9002</td>\n",
       "      <td>75</td>\n",
       "    </tr>\n",
       "    <tr>\n",
       "      <th>2</th>\n",
       "      <td>9005</td>\n",
       "      <td>20</td>\n",
       "    </tr>\n",
       "    <tr>\n",
       "      <th>3</th>\n",
       "      <td>9004</td>\n",
       "      <td>75</td>\n",
       "    </tr>\n",
       "    <tr>\n",
       "      <th>4</th>\n",
       "      <td>9003</td>\n",
       "      <td>20</td>\n",
       "    </tr>\n",
       "    <tr>\n",
       "      <th>5</th>\n",
       "      <td>9006</td>\n",
       "      <td>75</td>\n",
       "    </tr>\n",
       "    <tr>\n",
       "      <th>6</th>\n",
       "      <td>9008</td>\n",
       "      <td>20</td>\n",
       "    </tr>\n",
       "    <tr>\n",
       "      <th>7</th>\n",
       "      <td>1008</td>\n",
       "      <td>20</td>\n",
       "    </tr>\n",
       "    <tr>\n",
       "      <th>8</th>\n",
       "      <td>9009</td>\n",
       "      <td>120</td>\n",
       "    </tr>\n",
       "  </tbody>\n",
       "</table>\n",
       "</div>"
      ],
      "text/plain": [
       "   GameID  Match_Length\n",
       "0    9001            75\n",
       "1    9002            75\n",
       "2    9005            20\n",
       "3    9004            75\n",
       "4    9003            20\n",
       "5    9006            75\n",
       "6    9008            20\n",
       "7    1008            20\n",
       "8    9009           120"
      ]
     },
     "execution_count": 3,
     "metadata": {},
     "output_type": "execute_result"
    }
   ],
   "source": [
    "#making the dataframe for GameID and Match_Length (data provided by game owner)\n",
    "\n",
    "#define BINH                9001: 80 seconds\n",
    "#define POKDENG             9002: 80 seconds\n",
    "#define BAUCUA              9005: 20 seconds\n",
    "#define SHOW                9004: 80 seconds\n",
    "#define XOCDIA              9003: 20 seconds\n",
    "#define SIKU                9006: 80 seconds\n",
    "#define SLOT_20_LINE        9008: 20 seconds\n",
    "#define SLOT_100_LINE       1008: 20 seconds\n",
    "#define TIENLEN_CAM         9009: 120 seconds\n",
    "\n",
    "Game_Code_Length=pd.DataFrame({'GameID':[9001, 9002, 9005, 9004, 9003, 9006, 9008, 1008, 9009],\n",
    "                               'Match_Length':[75,75,20,75,20,75,20,20,120]})\n",
    "Game_Code_Length"
   ]
  },
  {
   "cell_type": "code",
   "execution_count": 4,
   "metadata": {},
   "outputs": [
    {
     "data": {
      "text/plain": [
       "Sequence          0\n",
       "UserID            0\n",
       "GameID            0\n",
       "Level             0\n",
       "WinNo             0\n",
       "DrawNo            0\n",
       "LostNo            0\n",
       "WinAmt            0\n",
       "LostAmt           0\n",
       "Date              0\n",
       "Currency_Type1    0\n",
       "Currency_Type2    0\n",
       "dtype: int64"
      ]
     },
     "execution_count": 4,
     "metadata": {},
     "output_type": "execute_result"
    }
   ],
   "source": [
    "# Load the play log file and check if there is any missing values\n",
    "\n",
    "play_log_df=pd.read_csv('data/PlayerLog.csv', names=columns_play_log)\n",
    "play_log_df.isna().sum()"
   ]
  },
  {
   "cell_type": "code",
   "execution_count": 5,
   "metadata": {},
   "outputs": [
    {
     "data": {
      "text/plain": [
       "UserID     0\n",
       "Amount     0\n",
       "Chips      0\n",
       "Date       0\n",
       "Channel    0\n",
       "dtype: int64"
      ]
     },
     "execution_count": 5,
     "metadata": {},
     "output_type": "execute_result"
    }
   ],
   "source": [
    "# Load the transactions log data and check if there is any missing values\n",
    "\n",
    "transactions_df=pd.read_csv('data/TransactionLog.csv', names=columns_transactions)\n",
    "transactions_df.isna().sum()"
   ]
  },
  {
   "cell_type": "code",
   "execution_count": null,
   "metadata": {},
   "outputs": [],
   "source": [
    "# Getting the right format for date in transaction data\n",
    "\n",
    "transactions_df['Date']=pd.to_datetime(transactions_df['Date'].str[:10])"
   ]
  },
  {
   "cell_type": "code",
   "execution_count": null,
   "metadata": {},
   "outputs": [],
   "source": [
    "# Remove redundant columns (suggested by data owner) and set the time to regular format\n",
    "\n",
    "play_log_df.drop(['Sequence','Currency_Type1','Currency_Type2'], axis=1, inplace=True)\n",
    "play_log_df['Date']=pd.to_datetime(play_log_df['Date'].str[:10])\n",
    "play_log_df.head()"
   ]
  },
  {
   "cell_type": "code",
   "execution_count": null,
   "metadata": {},
   "outputs": [],
   "source": [
    "# Getting the Match_Length column ready to calculate the active session of user.\n",
    "\n",
    "play_log_df=play_log_df.merge(Game_Code_Length, on='GameID', how='left')\n",
    "play_log_df.head()"
   ]
  },
  {
   "cell_type": "code",
   "execution_count": null,
   "metadata": {},
   "outputs": [],
   "source": [
    "# Counting the number of games play in each log and get the actual active play time of users.\n",
    "\n",
    "play_log_df['Games_Played']=play_log_df['WinNo']+play_log_df['DrawNo']+play_log_df['LostNo']\n",
    "play_log_df['Active_Time']=play_log_df['Games_Played']*play_log_df['Match_Length']\n",
    "play_log_df"
   ]
  },
  {
   "cell_type": "code",
   "execution_count": null,
   "metadata": {},
   "outputs": [],
   "source": [
    "# Getting t0 and list of days on which user data can be extracted\n",
    "\n",
    "t0=play_log_df['Date'].min()\n",
    "t_value=[]\n",
    "\n",
    "for i in range(0,9):\n",
    "    t_value.append(t0+datetime.timedelta(days=i))\n",
    "    \n",
    "print(f't0 can start from: {t_value[0]}, to: {t_value[-1]}, pass t_value[number] to function get_data to get the desired player data')"
   ]
  },
  {
   "cell_type": "code",
   "execution_count": null,
   "metadata": {},
   "outputs": [],
   "source": [
    "def get_data(t0):\n",
    "    \n",
    "    # Pass in t0, t4 and tchurn\n",
    "    t0=t0\n",
    "    t4=t0+datetime.timedelta(days=3)\n",
    "    tchurn=t0+datetime.timedelta(days=4)\n",
    "    print(f't0={t0} \\nt4={t4} \\ntchurn={tchurn}')\n",
    "    \n",
    "    # Get unique users on t0\n",
    "    play_log_t0=play_log_df.loc[play_log_df['Date']==t0]\n",
    "    t0_users=pd.DataFrame(play_log_t0['UserID'].unique())\n",
    "    t0_users.columns=['UserID']\n",
    "    \n",
    "    # Slice out the dataframe that contains user playlog from t0 -> t4\n",
    "    play_log_t0_t4=play_log_df.loc[(play_log_df['Date']>=t0) & (play_log_df['Date']<=t4)]\n",
    "    \n",
    "    # Compute the Winning rate and Drawing rate, Losing Rate, Winning Amount, Losing Amount for each user in from t0->t4\n",
    "    WinNo=pd.DataFrame(play_log_t0_t4.groupby(['UserID']).sum()['WinNo'])\n",
    "    DrawNo=pd.DataFrame(play_log_t0_t4.groupby(['UserID']).sum()['DrawNo'])\n",
    "    LostNo=pd.DataFrame(play_log_t0_t4.groupby(['UserID']).sum()['LostNo'])\n",
    "    WinAmt=pd.DataFrame(play_log_t0_t4.groupby(['UserID']).sum()['WinAmt'])\n",
    "    LostAmt=pd.DataFrame(play_log_t0_t4.groupby(['UserID']).sum()['LostAmt'])\n",
    "    Games_Played=pd.DataFrame(play_log_t0_t4.groupby(['UserID']).sum()['Games_Played'])\n",
    "    Active_Time=pd.DataFrame(play_log_t0_t4.groupby(['UserID']).sum()['Active_Time'])\n",
    "    \n",
    "    # Merging user data into a single dataframe \n",
    "    play_log_summary=WinNo.merge(DrawNo, on='UserID', how='left')\\\n",
    "                        .merge(LostNo, on='UserID', how='left')\\\n",
    "                        .merge(WinAmt, on='UserID', how='left')\\\n",
    "                        .merge(LostAmt, on='UserID', how='left')\\\n",
    "                        .merge(Games_Played, on='UserID', how='left')\\\n",
    "                        .merge(Active_Time, on='UserID', how='left')\n",
    "    play_log_summary.columns=['WinNo', 'DrawNo', 'LostNo', 'WinAmt', 'LostAmt', 'Games_Played', 'Active_Time']\n",
    "    \n",
    "    # Reset index after merging all new \n",
    "    play_log_summary=play_log_summary.reset_index(level='UserID')\n",
    "        \n",
    "    # Slice out the time for study\n",
    "    transactions_df_t0_t4=transactions_df.loc[(transactions_df['Date']>=t0) & (transactions_df['Date']<=t4)]\n",
    "    \n",
    "    # Sum in-game purchase by users during t0 -> t4\n",
    "    transactions_df_t0_t4=pd.DataFrame(transactions_df_t0_t4.groupby(['UserID']).sum()['Amount'])\n",
    "    transactions_df_t0_t4.reset_index(level='UserID')\n",
    "    \n",
    "    # Merge transactions records with play log\n",
    "    play_log_summary=play_log_summary.merge(transactions_df_t0_t4, on='UserID', how='left')\n",
    "    play_log_summary=play_log_summary.fillna(0)\n",
    "    \n",
    "    # Create new features namely: Winning Rate, Drawing Rate, Losing Rate for all unique users\n",
    "    play_log_summary['WinningRate']=play_log_summary['WinNo']/play_log_summary['Games_Played']\n",
    "    play_log_summary['DrawRate']=play_log_summary['DrawNo']/play_log_summary['Games_Played']\n",
    "    play_log_summary['LosingRate']=play_log_summary['LostNo']/play_log_summary['Games_Played']\n",
    "    \n",
    "    # Getting target \n",
    "\n",
    "    final_play_log=play_log_summary.assign(Churn=play_log_summary.UserID.isin(play_log_tchurn.UserID).astype(int))\n",
    "\n",
    "    return final_play_log"
   ]
  },
  {
   "cell_type": "code",
   "execution_count": null,
   "metadata": {},
   "outputs": [],
   "source": [
    "get_data(t_value[8])"
   ]
  },
  {
   "cell_type": "code",
   "execution_count": null,
   "metadata": {},
   "outputs": [],
   "source": [
    "# Assigning X and y\n",
    "X=final_play_log.iloc[:,:-1]\n",
    "X=X.drop(['UserID'], axis=1)\n",
    "\n",
    "# Fill na for some value of \n",
    "X=X.fillna(0) "
   ]
  },
  {
   "cell_type": "code",
   "execution_count": null,
   "metadata": {},
   "outputs": [],
   "source": [
    "y=final_play_log.iloc[:,-1]"
   ]
  },
  {
   "cell_type": "code",
   "execution_count": null,
   "metadata": {},
   "outputs": [],
   "source": [
    "y.value_counts()"
   ]
  },
  {
   "cell_type": "code",
   "execution_count": null,
   "metadata": {},
   "outputs": [],
   "source": [
    "# Create a train/test split with 80% train, 20% test \n",
    "\n",
    "X_remainder, X_test, y_remainder, y_test=train_test_split(X, y, test_size=0.2, stratify=y, random_state=42)"
   ]
  },
  {
   "cell_type": "code",
   "execution_count": null,
   "metadata": {},
   "outputs": [],
   "source": [
    "from sklearn.linear_model import LogisticRegression\n",
    "\n",
    "# 1. Instantiate model\n",
    "churn_logistic_regression=LogisticRegression(random_state=42, max_iter=10000)\n",
    "\n",
    "# 2. Fit model\n",
    "churn_logistic_regression.fit(X_remainder, y_remainder)"
   ]
  },
  {
   "cell_type": "code",
   "execution_count": null,
   "metadata": {},
   "outputs": [],
   "source": [
    "# 3. Score model\n",
    "print(f'Score on train: {churn_logistic_regression.score(X_remainder, y_remainder)}')\n",
    "print(f'Score on test: {churn_logistic_regression.score(X_test, y_test)}')"
   ]
  },
  {
   "cell_type": "code",
   "execution_count": null,
   "metadata": {},
   "outputs": [],
   "source": [
    "from sklearn.tree import DecisionTreeClassifier\n",
    "\n",
    "DT=DecisionTreeClassifier(random_state=42).fit(X_remainder, y_remainder)\n",
    "\n",
    "# Accuracy scores\n",
    "print(DT.score(X_remainder, y_remainder))\n",
    "print(DT.score(X_test, y_test))"
   ]
  },
  {
   "cell_type": "code",
   "execution_count": null,
   "metadata": {},
   "outputs": [],
   "source": [
    "from sklearn.linear_model import LinearRegression"
   ]
  },
  {
   "cell_type": "code",
   "execution_count": null,
   "metadata": {},
   "outputs": [],
   "source": [
    "churn_linear_regression=LinearRegression()\n",
    "churn_linear_regression.fit(X_remainder, y_remainder)"
   ]
  },
  {
   "cell_type": "code",
   "execution_count": null,
   "metadata": {},
   "outputs": [],
   "source": [
    "print(f'Score on train: {churn_linear_regression.score(X_remainder, y_remainder)}')\n",
    "print(f'Score on test: {churn_linear_regression.score(X_test, y_test)}')"
   ]
  },
  {
   "cell_type": "code",
   "execution_count": null,
   "metadata": {},
   "outputs": [],
   "source": []
  }
 ],
 "metadata": {
  "kernelspec": {
   "display_name": "Python 3",
   "language": "python",
   "name": "python3"
  },
  "language_info": {
   "codemirror_mode": {
    "name": "ipython",
    "version": 3
   },
   "file_extension": ".py",
   "mimetype": "text/x-python",
   "name": "python",
   "nbconvert_exporter": "python",
   "pygments_lexer": "ipython3",
   "version": "3.7.6"
  }
 },
 "nbformat": 4,
 "nbformat_minor": 4
}
