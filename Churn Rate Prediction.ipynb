{
 "cells": [
  {
   "cell_type": "markdown",
   "metadata": {},
   "source": [
    "# EDA"
   ]
  },
  {
   "cell_type": "code",
   "execution_count": 1,
   "metadata": {},
   "outputs": [],
   "source": [
    "import numpy as np\n",
    "import pandas as pd\n",
    "import matplotlib.pyplot as plt\n",
    "from sklearn.model_selection import train_test_split\n",
    "import datetime"
   ]
  },
  {
   "cell_type": "markdown",
   "metadata": {},
   "source": [
    "Data can be accessed from this google drive link. The \"play log\" contains the records of users active session. There are 9 mini games inside the app \"Lengbear\", an social casino games made and publish exclusively for Cambodia. The transactions log is the records of user in app purchase."
   ]
  },
  {
   "cell_type": "code",
   "execution_count": 2,
   "metadata": {},
   "outputs": [],
   "source": [
    "# Columns name for player log, transactions and match length by GameID provided by data owner\n",
    "\n",
    "columns_play_log=('Sequence','UserID', 'GameID', 'Level', 'WinNo', 'DrawNo', 'LostNo', 'WinAmt', 'LostAmt', 'Date', 'Currency_Type1', 'Currency_Type2')\n",
    "columns_transactions=('UserID','Amount','Chips','Date', 'Channel')"
   ]
  },
  {
   "cell_type": "code",
   "execution_count": 3,
   "metadata": {},
   "outputs": [
    {
     "output_type": "execute_result",
     "data": {
      "text/plain": "   GameID  Match_Length\n0    9001            75\n1    9002            75\n2    9005            20\n3    9004            75\n4    9003            20\n5    9006            75\n6    9008            20\n7    1008            20\n8    9009           120",
      "text/html": "<div>\n<style scoped>\n    .dataframe tbody tr th:only-of-type {\n        vertical-align: middle;\n    }\n\n    .dataframe tbody tr th {\n        vertical-align: top;\n    }\n\n    .dataframe thead th {\n        text-align: right;\n    }\n</style>\n<table border=\"1\" class=\"dataframe\">\n  <thead>\n    <tr style=\"text-align: right;\">\n      <th></th>\n      <th>GameID</th>\n      <th>Match_Length</th>\n    </tr>\n  </thead>\n  <tbody>\n    <tr>\n      <th>0</th>\n      <td>9001</td>\n      <td>75</td>\n    </tr>\n    <tr>\n      <th>1</th>\n      <td>9002</td>\n      <td>75</td>\n    </tr>\n    <tr>\n      <th>2</th>\n      <td>9005</td>\n      <td>20</td>\n    </tr>\n    <tr>\n      <th>3</th>\n      <td>9004</td>\n      <td>75</td>\n    </tr>\n    <tr>\n      <th>4</th>\n      <td>9003</td>\n      <td>20</td>\n    </tr>\n    <tr>\n      <th>5</th>\n      <td>9006</td>\n      <td>75</td>\n    </tr>\n    <tr>\n      <th>6</th>\n      <td>9008</td>\n      <td>20</td>\n    </tr>\n    <tr>\n      <th>7</th>\n      <td>1008</td>\n      <td>20</td>\n    </tr>\n    <tr>\n      <th>8</th>\n      <td>9009</td>\n      <td>120</td>\n    </tr>\n  </tbody>\n</table>\n</div>"
     },
     "metadata": {},
     "execution_count": 3
    }
   ],
   "source": [
    "#making the dataframe for GameID and Match_Length (data provided by game owner)\n",
    "\n",
    "#define BINH                9001: 80 seconds\n",
    "#define POKDENG             9002: 80 seconds\n",
    "#define BAUCUA              9005: 20 seconds\n",
    "#define SHOW                9004: 80 seconds\n",
    "#define XOCDIA              9003: 20 seconds\n",
    "#define SIKU                9006: 80 seconds\n",
    "#define SLOT_20_LINE        9008: 20 seconds\n",
    "#define SLOT_100_LINE       1008: 20 seconds\n",
    "#define TIENLEN_CAM         9009: 120 seconds\n",
    "\n",
    "Game_Code_Length=pd.DataFrame({'GameID':[9001, 9002, 9005, 9004, 9003, 9006, 9008, 1008, 9009],\n",
    "                               'Match_Length':[75,75,20,75,20,75,20,20,120]})\n",
    "Game_Code_Length"
   ]
  },
  {
   "cell_type": "code",
   "execution_count": 4,
   "metadata": {},
   "outputs": [
    {
     "output_type": "execute_result",
     "data": {
      "text/plain": "Sequence          0\nUserID            0\nGameID            0\nLevel             0\nWinNo             0\nDrawNo            0\nLostNo            0\nWinAmt            0\nLostAmt           0\nDate              0\nCurrency_Type1    0\nCurrency_Type2    0\ndtype: int64"
     },
     "metadata": {},
     "execution_count": 4
    }
   ],
   "source": [
    "# Load the play log file and check if there is any missing values\n",
    "\n",
    "play_log_df=pd.read_csv('data/PlayerLog.csv', names=columns_play_log)\n",
    "play_log_df.isna().sum()"
   ]
  },
  {
   "cell_type": "code",
   "execution_count": 5,
   "metadata": {},
   "outputs": [
    {
     "output_type": "execute_result",
     "data": {
      "text/plain": "UserID     0\nAmount     0\nChips      0\nDate       0\nChannel    0\ndtype: int64"
     },
     "metadata": {},
     "execution_count": 5
    }
   ],
   "source": [
    "# Load the transactions log data and check if there is any missing values\n",
    "\n",
    "transactions_df=pd.read_csv('data/TransactionLog.csv', names=columns_transactions)\n",
    "transactions_df.isna().sum()"
   ]
  },
  {
   "cell_type": "code",
   "execution_count": 6,
   "metadata": {},
   "outputs": [],
   "source": [
    "# Getting the right format for date in transaction data\n",
    "\n",
    "transactions_df['Date']=pd.to_datetime(transactions_df['Date'].str[:10])"
   ]
  },
  {
   "cell_type": "code",
   "execution_count": 7,
   "metadata": {},
   "outputs": [
    {
     "output_type": "execute_result",
     "data": {
      "text/plain": "    UserID  GameID  Level  WinNo  DrawNo  LostNo  WinAmt  LostAmt       Date\n0  5894561    9009   1000      0       0       1       0    24964 2020-05-09\n1  6047531    9009     20      2       0       0     515        0 2020-05-09\n2  4972744    9009    100      1       0       3    1748     7800 2020-05-09\n3  5608136    9009   1000      9       0      15  128680   137000 2020-05-09\n4  4725768    9009    100     10       0      34   18272    27100 2020-05-09",
      "text/html": "<div>\n<style scoped>\n    .dataframe tbody tr th:only-of-type {\n        vertical-align: middle;\n    }\n\n    .dataframe tbody tr th {\n        vertical-align: top;\n    }\n\n    .dataframe thead th {\n        text-align: right;\n    }\n</style>\n<table border=\"1\" class=\"dataframe\">\n  <thead>\n    <tr style=\"text-align: right;\">\n      <th></th>\n      <th>UserID</th>\n      <th>GameID</th>\n      <th>Level</th>\n      <th>WinNo</th>\n      <th>DrawNo</th>\n      <th>LostNo</th>\n      <th>WinAmt</th>\n      <th>LostAmt</th>\n      <th>Date</th>\n    </tr>\n  </thead>\n  <tbody>\n    <tr>\n      <th>0</th>\n      <td>5894561</td>\n      <td>9009</td>\n      <td>1000</td>\n      <td>0</td>\n      <td>0</td>\n      <td>1</td>\n      <td>0</td>\n      <td>24964</td>\n      <td>2020-05-09</td>\n    </tr>\n    <tr>\n      <th>1</th>\n      <td>6047531</td>\n      <td>9009</td>\n      <td>20</td>\n      <td>2</td>\n      <td>0</td>\n      <td>0</td>\n      <td>515</td>\n      <td>0</td>\n      <td>2020-05-09</td>\n    </tr>\n    <tr>\n      <th>2</th>\n      <td>4972744</td>\n      <td>9009</td>\n      <td>100</td>\n      <td>1</td>\n      <td>0</td>\n      <td>3</td>\n      <td>1748</td>\n      <td>7800</td>\n      <td>2020-05-09</td>\n    </tr>\n    <tr>\n      <th>3</th>\n      <td>5608136</td>\n      <td>9009</td>\n      <td>1000</td>\n      <td>9</td>\n      <td>0</td>\n      <td>15</td>\n      <td>128680</td>\n      <td>137000</td>\n      <td>2020-05-09</td>\n    </tr>\n    <tr>\n      <th>4</th>\n      <td>4725768</td>\n      <td>9009</td>\n      <td>100</td>\n      <td>10</td>\n      <td>0</td>\n      <td>34</td>\n      <td>18272</td>\n      <td>27100</td>\n      <td>2020-05-09</td>\n    </tr>\n  </tbody>\n</table>\n</div>"
     },
     "metadata": {},
     "execution_count": 7
    }
   ],
   "source": [
    "# Remove redundant columns (suggested by data owner) and set the time to regular format\n",
    "\n",
    "play_log_df.drop(['Sequence','Currency_Type1','Currency_Type2'], axis=1, inplace=True)\n",
    "play_log_df['Date']=pd.to_datetime(play_log_df['Date'].str[:10])\n",
    "play_log_df.head()"
   ]
  },
  {
   "cell_type": "code",
   "execution_count": 8,
   "metadata": {},
   "outputs": [
    {
     "output_type": "execute_result",
     "data": {
      "text/plain": "    UserID  GameID  Level  WinNo  DrawNo  LostNo  WinAmt  LostAmt       Date  \\\n0  5894561    9009   1000      0       0       1       0    24964 2020-05-09   \n1  6047531    9009     20      2       0       0     515        0 2020-05-09   \n2  4972744    9009    100      1       0       3    1748     7800 2020-05-09   \n3  5608136    9009   1000      9       0      15  128680   137000 2020-05-09   \n4  4725768    9009    100     10       0      34   18272    27100 2020-05-09   \n\n   Match_Length  \n0           120  \n1           120  \n2           120  \n3           120  \n4           120  ",
      "text/html": "<div>\n<style scoped>\n    .dataframe tbody tr th:only-of-type {\n        vertical-align: middle;\n    }\n\n    .dataframe tbody tr th {\n        vertical-align: top;\n    }\n\n    .dataframe thead th {\n        text-align: right;\n    }\n</style>\n<table border=\"1\" class=\"dataframe\">\n  <thead>\n    <tr style=\"text-align: right;\">\n      <th></th>\n      <th>UserID</th>\n      <th>GameID</th>\n      <th>Level</th>\n      <th>WinNo</th>\n      <th>DrawNo</th>\n      <th>LostNo</th>\n      <th>WinAmt</th>\n      <th>LostAmt</th>\n      <th>Date</th>\n      <th>Match_Length</th>\n    </tr>\n  </thead>\n  <tbody>\n    <tr>\n      <th>0</th>\n      <td>5894561</td>\n      <td>9009</td>\n      <td>1000</td>\n      <td>0</td>\n      <td>0</td>\n      <td>1</td>\n      <td>0</td>\n      <td>24964</td>\n      <td>2020-05-09</td>\n      <td>120</td>\n    </tr>\n    <tr>\n      <th>1</th>\n      <td>6047531</td>\n      <td>9009</td>\n      <td>20</td>\n      <td>2</td>\n      <td>0</td>\n      <td>0</td>\n      <td>515</td>\n      <td>0</td>\n      <td>2020-05-09</td>\n      <td>120</td>\n    </tr>\n    <tr>\n      <th>2</th>\n      <td>4972744</td>\n      <td>9009</td>\n      <td>100</td>\n      <td>1</td>\n      <td>0</td>\n      <td>3</td>\n      <td>1748</td>\n      <td>7800</td>\n      <td>2020-05-09</td>\n      <td>120</td>\n    </tr>\n    <tr>\n      <th>3</th>\n      <td>5608136</td>\n      <td>9009</td>\n      <td>1000</td>\n      <td>9</td>\n      <td>0</td>\n      <td>15</td>\n      <td>128680</td>\n      <td>137000</td>\n      <td>2020-05-09</td>\n      <td>120</td>\n    </tr>\n    <tr>\n      <th>4</th>\n      <td>4725768</td>\n      <td>9009</td>\n      <td>100</td>\n      <td>10</td>\n      <td>0</td>\n      <td>34</td>\n      <td>18272</td>\n      <td>27100</td>\n      <td>2020-05-09</td>\n      <td>120</td>\n    </tr>\n  </tbody>\n</table>\n</div>"
     },
     "metadata": {},
     "execution_count": 8
    }
   ],
   "source": [
    "# Getting the Match_Length column ready to calculate the active session of user.\n",
    "\n",
    "play_log_df=play_log_df.merge(Game_Code_Length, on='GameID', how='left')\n",
    "play_log_df.head()"
   ]
  },
  {
   "cell_type": "code",
   "execution_count": 9,
   "metadata": {},
   "outputs": [
    {
     "output_type": "execute_result",
     "data": {
      "text/plain": "          UserID  GameID  Level  WinNo  DrawNo  LostNo  WinAmt  LostAmt  \\\n0        5894561    9009   1000      0       0       1       0    24964   \n1        6047531    9009     20      2       0       0     515        0   \n2        4972744    9009    100      1       0       3    1748     7800   \n3        5608136    9009   1000      9       0      15  128680   137000   \n4        4725768    9009    100     10       0      34   18272    27100   \n...          ...     ...    ...    ...     ...     ...     ...      ...   \n1768635  4969001    9009     20      2       0       0    1435        0   \n1768636   812253    9009   5000      0       0       3       0   335000   \n1768637  6037451    9009     20      0       0       1       0      294   \n1768638  4449836    9009   5000      0       0       1       0   135000   \n1768639  4458271    9009    500      0       0       2       0     8934   \n\n              Date  Match_Length  Games_Played  Active_Time  \n0       2020-05-09           120             1          120  \n1       2020-05-09           120             2          240  \n2       2020-05-09           120             4          480  \n3       2020-05-09           120            24         2880  \n4       2020-05-09           120            44         5280  \n...            ...           ...           ...          ...  \n1768635 2020-05-10           120             2          240  \n1768636 2020-05-10           120             3          360  \n1768637 2020-05-10           120             1          120  \n1768638 2020-05-10           120             1          120  \n1768639 2020-05-10           120             2          240  \n\n[1768640 rows x 12 columns]",
      "text/html": "<div>\n<style scoped>\n    .dataframe tbody tr th:only-of-type {\n        vertical-align: middle;\n    }\n\n    .dataframe tbody tr th {\n        vertical-align: top;\n    }\n\n    .dataframe thead th {\n        text-align: right;\n    }\n</style>\n<table border=\"1\" class=\"dataframe\">\n  <thead>\n    <tr style=\"text-align: right;\">\n      <th></th>\n      <th>UserID</th>\n      <th>GameID</th>\n      <th>Level</th>\n      <th>WinNo</th>\n      <th>DrawNo</th>\n      <th>LostNo</th>\n      <th>WinAmt</th>\n      <th>LostAmt</th>\n      <th>Date</th>\n      <th>Match_Length</th>\n      <th>Games_Played</th>\n      <th>Active_Time</th>\n    </tr>\n  </thead>\n  <tbody>\n    <tr>\n      <th>0</th>\n      <td>5894561</td>\n      <td>9009</td>\n      <td>1000</td>\n      <td>0</td>\n      <td>0</td>\n      <td>1</td>\n      <td>0</td>\n      <td>24964</td>\n      <td>2020-05-09</td>\n      <td>120</td>\n      <td>1</td>\n      <td>120</td>\n    </tr>\n    <tr>\n      <th>1</th>\n      <td>6047531</td>\n      <td>9009</td>\n      <td>20</td>\n      <td>2</td>\n      <td>0</td>\n      <td>0</td>\n      <td>515</td>\n      <td>0</td>\n      <td>2020-05-09</td>\n      <td>120</td>\n      <td>2</td>\n      <td>240</td>\n    </tr>\n    <tr>\n      <th>2</th>\n      <td>4972744</td>\n      <td>9009</td>\n      <td>100</td>\n      <td>1</td>\n      <td>0</td>\n      <td>3</td>\n      <td>1748</td>\n      <td>7800</td>\n      <td>2020-05-09</td>\n      <td>120</td>\n      <td>4</td>\n      <td>480</td>\n    </tr>\n    <tr>\n      <th>3</th>\n      <td>5608136</td>\n      <td>9009</td>\n      <td>1000</td>\n      <td>9</td>\n      <td>0</td>\n      <td>15</td>\n      <td>128680</td>\n      <td>137000</td>\n      <td>2020-05-09</td>\n      <td>120</td>\n      <td>24</td>\n      <td>2880</td>\n    </tr>\n    <tr>\n      <th>4</th>\n      <td>4725768</td>\n      <td>9009</td>\n      <td>100</td>\n      <td>10</td>\n      <td>0</td>\n      <td>34</td>\n      <td>18272</td>\n      <td>27100</td>\n      <td>2020-05-09</td>\n      <td>120</td>\n      <td>44</td>\n      <td>5280</td>\n    </tr>\n    <tr>\n      <th>...</th>\n      <td>...</td>\n      <td>...</td>\n      <td>...</td>\n      <td>...</td>\n      <td>...</td>\n      <td>...</td>\n      <td>...</td>\n      <td>...</td>\n      <td>...</td>\n      <td>...</td>\n      <td>...</td>\n      <td>...</td>\n    </tr>\n    <tr>\n      <th>1768635</th>\n      <td>4969001</td>\n      <td>9009</td>\n      <td>20</td>\n      <td>2</td>\n      <td>0</td>\n      <td>0</td>\n      <td>1435</td>\n      <td>0</td>\n      <td>2020-05-10</td>\n      <td>120</td>\n      <td>2</td>\n      <td>240</td>\n    </tr>\n    <tr>\n      <th>1768636</th>\n      <td>812253</td>\n      <td>9009</td>\n      <td>5000</td>\n      <td>0</td>\n      <td>0</td>\n      <td>3</td>\n      <td>0</td>\n      <td>335000</td>\n      <td>2020-05-10</td>\n      <td>120</td>\n      <td>3</td>\n      <td>360</td>\n    </tr>\n    <tr>\n      <th>1768637</th>\n      <td>6037451</td>\n      <td>9009</td>\n      <td>20</td>\n      <td>0</td>\n      <td>0</td>\n      <td>1</td>\n      <td>0</td>\n      <td>294</td>\n      <td>2020-05-10</td>\n      <td>120</td>\n      <td>1</td>\n      <td>120</td>\n    </tr>\n    <tr>\n      <th>1768638</th>\n      <td>4449836</td>\n      <td>9009</td>\n      <td>5000</td>\n      <td>0</td>\n      <td>0</td>\n      <td>1</td>\n      <td>0</td>\n      <td>135000</td>\n      <td>2020-05-10</td>\n      <td>120</td>\n      <td>1</td>\n      <td>120</td>\n    </tr>\n    <tr>\n      <th>1768639</th>\n      <td>4458271</td>\n      <td>9009</td>\n      <td>500</td>\n      <td>0</td>\n      <td>0</td>\n      <td>2</td>\n      <td>0</td>\n      <td>8934</td>\n      <td>2020-05-10</td>\n      <td>120</td>\n      <td>2</td>\n      <td>240</td>\n    </tr>\n  </tbody>\n</table>\n<p>1768640 rows × 12 columns</p>\n</div>"
     },
     "metadata": {},
     "execution_count": 9
    }
   ],
   "source": [
    "# Counting the number of games play in each log and get the actual active play time of users.\n",
    "\n",
    "play_log_df['Games_Played']=play_log_df['WinNo']+play_log_df['DrawNo']+play_log_df['LostNo']\n",
    "play_log_df['Active_Time']=play_log_df['Games_Played']*play_log_df['Match_Length']\n",
    "play_log_df"
   ]
  },
  {
   "cell_type": "code",
   "execution_count": 10,
   "metadata": {
    "tags": []
   },
   "outputs": [
    {
     "output_type": "stream",
     "name": "stdout",
     "text": "The data set can have t0 can start from: 2020-05-01 00:00:00, to: 2020-05-09 00:00:00, pass t_value[number] to function get_data to get the desired player data\n"
    }
   ],
   "source": [
    "# Getting t0 and list of days on which user data can be extracted\n",
    "\n",
    "t0=play_log_df['Date'].min()\n",
    "t_value=[]\n",
    "\n",
    "for i in range(0,9):\n",
    "    t_value.append(t0+datetime.timedelta(days=i))\n",
    "    \n",
    "print(f'The data set can have t0 can start from: {t_value[0]}, to: {t_value[-1]}, pass t_value[number] to function get_data to get the desired player data')"
   ]
  },
  {
   "cell_type": "code",
   "execution_count": 11,
   "metadata": {},
   "outputs": [],
   "source": [
    "def get_data(t0):\n",
    "    \n",
    "    # Pass in t0, t4 and tchurn\n",
    "    t0=t0\n",
    "    t4=t0+datetime.timedelta(days=3)\n",
    "    tchurn=t0+datetime.timedelta(days=4)\n",
    "    print(f't0={t0} \\nt4={t4} \\ntchurn={tchurn}')\n",
    "    \n",
    "    # Get unique users on t0\n",
    "    play_log_t0=play_log_df.loc[play_log_df['Date']==t0]\n",
    "    t0_users=pd.DataFrame(play_log_t0['UserID'].unique())\n",
    "    t0_users.columns=['UserID']\n",
    "    \n",
    "    # Slice out the dataframe that contains user playlog from t0 -> t4\n",
    "    play_log_t0_t4=play_log_df.loc[(play_log_df['Date']>=t0) & (play_log_df['Date']<=t4)]\n",
    "    \n",
    "    # Compute the Winning rate and Drawing rate, Losing Rate, Winning Amount, Losing Amount for each user in from t0->t4\n",
    "    WinNo=pd.DataFrame(play_log_t0_t4.groupby(['UserID']).sum()['WinNo'])\n",
    "    DrawNo=pd.DataFrame(play_log_t0_t4.groupby(['UserID']).sum()['DrawNo'])\n",
    "    LostNo=pd.DataFrame(play_log_t0_t4.groupby(['UserID']).sum()['LostNo'])\n",
    "    WinAmt=pd.DataFrame(play_log_t0_t4.groupby(['UserID']).sum()['WinAmt'])\n",
    "    LostAmt=pd.DataFrame(play_log_t0_t4.groupby(['UserID']).sum()['LostAmt'])\n",
    "    Games_Played=pd.DataFrame(play_log_t0_t4.groupby(['UserID']).sum()['Games_Played'])\n",
    "    Active_Time=pd.DataFrame(play_log_t0_t4.groupby(['UserID']).sum()['Active_Time'])\n",
    "    \n",
    "    # Merging user data into a single dataframe \n",
    "    play_log_summary=WinNo.merge(DrawNo, on='UserID', how='left')\\\n",
    "                        .merge(LostNo, on='UserID', how='left')\\\n",
    "                        .merge(WinAmt, on='UserID', how='left')\\\n",
    "                        .merge(LostAmt, on='UserID', how='left')\\\n",
    "                        .merge(Games_Played, on='UserID', how='left')\\\n",
    "                        .merge(Active_Time, on='UserID', how='left')\n",
    "    play_log_summary.columns=['WinNo', 'DrawNo', 'LostNo', 'WinAmt', 'LostAmt', 'Games_Played', 'Active_Time']\n",
    "    \n",
    "    # Reset index after merging all new \n",
    "    play_log_summary=play_log_summary.reset_index(level='UserID')\n",
    "        \n",
    "    # Slice out the time for study\n",
    "    transactions_df_t0_t4=transactions_df.loc[(transactions_df['Date']>=t0) & (transactions_df['Date']<=t4)]\n",
    "    \n",
    "    # Sum in-game purchase by users during t0 -> t4\n",
    "    transactions_df_t0_t4=pd.DataFrame(transactions_df_t0_t4.groupby(['UserID']).sum()['Amount'])\n",
    "    transactions_df_t0_t4.reset_index(level='UserID')\n",
    "    \n",
    "    # Merge transactions records with play log\n",
    "    play_log_summary=play_log_summary.merge(transactions_df_t0_t4, on='UserID', how='left')\n",
    "    play_log_summary=play_log_summary.fillna(0)\n",
    "    \n",
    "    # Create new features namely: Winning Rate, Drawing Rate, Losing Rate for all unique users\n",
    "    play_log_summary['WinningRate']=play_log_summary['WinNo']/play_log_summary['Games_Played']\n",
    "    play_log_summary['DrawRate']=play_log_summary['DrawNo']/play_log_summary['Games_Played']\n",
    "    play_log_summary['LosingRate']=play_log_summary['LostNo']/play_log_summary['Games_Played']\n",
    "    \n",
    "    # Slice out tchurn\n",
    "    play_log_tchurn=play_log_df.loc[play_log_df['Date']==tchurn]\n",
    "    \n",
    "    # Getting target \n",
    "    final_play_log=play_log_summary.assign(Churn=play_log_summary.UserID.isin(play_log_tchurn.UserID).astype(int))\n",
    "\n",
    "    return final_play_log"
   ]
  },
  {
   "cell_type": "code",
   "execution_count": 12,
   "metadata": {
    "tags": []
   },
   "outputs": [
    {
     "output_type": "stream",
     "name": "stdout",
     "text": "t0=2020-05-01 00:00:00 \nt4=2020-05-04 00:00:00 \ntchurn=2020-05-05 00:00:00\n"
    },
    {
     "output_type": "execute_result",
     "data": {
      "text/plain": "         UserID  WinNo  DrawNo  LostNo    WinAmt   LostAmt  Games_Played  \\\n0          1980      0       0       3         0    417197             3   \n1          3452      7       0      12   6800050   8971800            19   \n2          3700     73       0      72  18404347  21637393           145   \n3          4079     10       0      13  10639687  17156250            23   \n4          4732      3       0      12     10726     52726            15   \n...         ...    ...     ...     ...       ...       ...           ...   \n118805  5986120      4       0      22      8400     18000            26   \n118806  5986122      2       0       1       476       876             3   \n118807  5986131      3       0       6      7500      4590             9   \n118808  5986132      1       0       2       100       130             3   \n118809  5986133      1       0       8      1000      8000             9   \n\n        Active_Time  Amount  WinningRate  DrawRate  LosingRate  Churn  \n0                60     0.2     0.000000       0.0    1.000000      0  \n1              1095     0.0     0.368421       0.0    0.631579      1  \n2             10765     2.0     0.503448       0.0    0.496552      1  \n3              1725     0.0     0.434783       0.0    0.565217      0  \n4              1125     0.0     0.200000       0.0    0.800000      1  \n...             ...     ...          ...       ...         ...    ...  \n118805          520     0.0     0.153846       0.0    0.846154      0  \n118806          225     0.0     0.666667       0.0    0.333333      1  \n118807          180     0.0     0.333333       0.0    0.666667      1  \n118808           60     0.0     0.333333       0.0    0.666667      1  \n118809          180     0.0     0.111111       0.0    0.888889      1  \n\n[118810 rows x 13 columns]",
      "text/html": "<div>\n<style scoped>\n    .dataframe tbody tr th:only-of-type {\n        vertical-align: middle;\n    }\n\n    .dataframe tbody tr th {\n        vertical-align: top;\n    }\n\n    .dataframe thead th {\n        text-align: right;\n    }\n</style>\n<table border=\"1\" class=\"dataframe\">\n  <thead>\n    <tr style=\"text-align: right;\">\n      <th></th>\n      <th>UserID</th>\n      <th>WinNo</th>\n      <th>DrawNo</th>\n      <th>LostNo</th>\n      <th>WinAmt</th>\n      <th>LostAmt</th>\n      <th>Games_Played</th>\n      <th>Active_Time</th>\n      <th>Amount</th>\n      <th>WinningRate</th>\n      <th>DrawRate</th>\n      <th>LosingRate</th>\n      <th>Churn</th>\n    </tr>\n  </thead>\n  <tbody>\n    <tr>\n      <th>0</th>\n      <td>1980</td>\n      <td>0</td>\n      <td>0</td>\n      <td>3</td>\n      <td>0</td>\n      <td>417197</td>\n      <td>3</td>\n      <td>60</td>\n      <td>0.2</td>\n      <td>0.000000</td>\n      <td>0.0</td>\n      <td>1.000000</td>\n      <td>0</td>\n    </tr>\n    <tr>\n      <th>1</th>\n      <td>3452</td>\n      <td>7</td>\n      <td>0</td>\n      <td>12</td>\n      <td>6800050</td>\n      <td>8971800</td>\n      <td>19</td>\n      <td>1095</td>\n      <td>0.0</td>\n      <td>0.368421</td>\n      <td>0.0</td>\n      <td>0.631579</td>\n      <td>1</td>\n    </tr>\n    <tr>\n      <th>2</th>\n      <td>3700</td>\n      <td>73</td>\n      <td>0</td>\n      <td>72</td>\n      <td>18404347</td>\n      <td>21637393</td>\n      <td>145</td>\n      <td>10765</td>\n      <td>2.0</td>\n      <td>0.503448</td>\n      <td>0.0</td>\n      <td>0.496552</td>\n      <td>1</td>\n    </tr>\n    <tr>\n      <th>3</th>\n      <td>4079</td>\n      <td>10</td>\n      <td>0</td>\n      <td>13</td>\n      <td>10639687</td>\n      <td>17156250</td>\n      <td>23</td>\n      <td>1725</td>\n      <td>0.0</td>\n      <td>0.434783</td>\n      <td>0.0</td>\n      <td>0.565217</td>\n      <td>0</td>\n    </tr>\n    <tr>\n      <th>4</th>\n      <td>4732</td>\n      <td>3</td>\n      <td>0</td>\n      <td>12</td>\n      <td>10726</td>\n      <td>52726</td>\n      <td>15</td>\n      <td>1125</td>\n      <td>0.0</td>\n      <td>0.200000</td>\n      <td>0.0</td>\n      <td>0.800000</td>\n      <td>1</td>\n    </tr>\n    <tr>\n      <th>...</th>\n      <td>...</td>\n      <td>...</td>\n      <td>...</td>\n      <td>...</td>\n      <td>...</td>\n      <td>...</td>\n      <td>...</td>\n      <td>...</td>\n      <td>...</td>\n      <td>...</td>\n      <td>...</td>\n      <td>...</td>\n      <td>...</td>\n    </tr>\n    <tr>\n      <th>118805</th>\n      <td>5986120</td>\n      <td>4</td>\n      <td>0</td>\n      <td>22</td>\n      <td>8400</td>\n      <td>18000</td>\n      <td>26</td>\n      <td>520</td>\n      <td>0.0</td>\n      <td>0.153846</td>\n      <td>0.0</td>\n      <td>0.846154</td>\n      <td>0</td>\n    </tr>\n    <tr>\n      <th>118806</th>\n      <td>5986122</td>\n      <td>2</td>\n      <td>0</td>\n      <td>1</td>\n      <td>476</td>\n      <td>876</td>\n      <td>3</td>\n      <td>225</td>\n      <td>0.0</td>\n      <td>0.666667</td>\n      <td>0.0</td>\n      <td>0.333333</td>\n      <td>1</td>\n    </tr>\n    <tr>\n      <th>118807</th>\n      <td>5986131</td>\n      <td>3</td>\n      <td>0</td>\n      <td>6</td>\n      <td>7500</td>\n      <td>4590</td>\n      <td>9</td>\n      <td>180</td>\n      <td>0.0</td>\n      <td>0.333333</td>\n      <td>0.0</td>\n      <td>0.666667</td>\n      <td>1</td>\n    </tr>\n    <tr>\n      <th>118808</th>\n      <td>5986132</td>\n      <td>1</td>\n      <td>0</td>\n      <td>2</td>\n      <td>100</td>\n      <td>130</td>\n      <td>3</td>\n      <td>60</td>\n      <td>0.0</td>\n      <td>0.333333</td>\n      <td>0.0</td>\n      <td>0.666667</td>\n      <td>1</td>\n    </tr>\n    <tr>\n      <th>118809</th>\n      <td>5986133</td>\n      <td>1</td>\n      <td>0</td>\n      <td>8</td>\n      <td>1000</td>\n      <td>8000</td>\n      <td>9</td>\n      <td>180</td>\n      <td>0.0</td>\n      <td>0.111111</td>\n      <td>0.0</td>\n      <td>0.888889</td>\n      <td>1</td>\n    </tr>\n  </tbody>\n</table>\n<p>118810 rows × 13 columns</p>\n</div>"
     },
     "metadata": {},
     "execution_count": 12
    }
   ],
   "source": [
    "play_log_train=get_data(t_value[0])\n",
    "play_log_train"
   ]
  },
  {
   "cell_type": "code",
   "execution_count": 28,
   "metadata": {},
   "outputs": [
    {
     "output_type": "error",
     "ename": "AttributeError",
     "evalue": "'DataFrame' object has no attribute 'unique'",
     "traceback": [
      "\u001b[0;31m---------------------------------------------------------------------------\u001b[0m",
      "\u001b[0;31mAttributeError\u001b[0m                            Traceback (most recent call last)",
      "\u001b[0;32m<ipython-input-28-4746e9e36dc4>\u001b[0m in \u001b[0;36m<module>\u001b[0;34m\u001b[0m\n\u001b[0;32m----> 1\u001b[0;31m \u001b[0mplay_log_df\u001b[0m\u001b[0;34m.\u001b[0m\u001b[0munique\u001b[0m\u001b[0;34m(\u001b[0m\u001b[0;34m)\u001b[0m\u001b[0;34m\u001b[0m\u001b[0;34m\u001b[0m\u001b[0m\n\u001b[0m",
      "\u001b[0;32m~/opt/anaconda3/envs/deeplearning/lib/python3.6/site-packages/pandas/core/generic.py\u001b[0m in \u001b[0;36m__getattr__\u001b[0;34m(self, name)\u001b[0m\n\u001b[1;32m   5272\u001b[0m             \u001b[0;32mif\u001b[0m \u001b[0mself\u001b[0m\u001b[0;34m.\u001b[0m\u001b[0m_info_axis\u001b[0m\u001b[0;34m.\u001b[0m\u001b[0m_can_hold_identifiers_and_holds_name\u001b[0m\u001b[0;34m(\u001b[0m\u001b[0mname\u001b[0m\u001b[0;34m)\u001b[0m\u001b[0;34m:\u001b[0m\u001b[0;34m\u001b[0m\u001b[0;34m\u001b[0m\u001b[0m\n\u001b[1;32m   5273\u001b[0m                 \u001b[0;32mreturn\u001b[0m \u001b[0mself\u001b[0m\u001b[0;34m[\u001b[0m\u001b[0mname\u001b[0m\u001b[0;34m]\u001b[0m\u001b[0;34m\u001b[0m\u001b[0;34m\u001b[0m\u001b[0m\n\u001b[0;32m-> 5274\u001b[0;31m             \u001b[0;32mreturn\u001b[0m \u001b[0mobject\u001b[0m\u001b[0;34m.\u001b[0m\u001b[0m__getattribute__\u001b[0m\u001b[0;34m(\u001b[0m\u001b[0mself\u001b[0m\u001b[0;34m,\u001b[0m \u001b[0mname\u001b[0m\u001b[0;34m)\u001b[0m\u001b[0;34m\u001b[0m\u001b[0;34m\u001b[0m\u001b[0m\n\u001b[0m\u001b[1;32m   5275\u001b[0m \u001b[0;34m\u001b[0m\u001b[0m\n\u001b[1;32m   5276\u001b[0m     \u001b[0;32mdef\u001b[0m \u001b[0m__setattr__\u001b[0m\u001b[0;34m(\u001b[0m\u001b[0mself\u001b[0m\u001b[0;34m,\u001b[0m \u001b[0mname\u001b[0m\u001b[0;34m:\u001b[0m \u001b[0mstr\u001b[0m\u001b[0;34m,\u001b[0m \u001b[0mvalue\u001b[0m\u001b[0;34m)\u001b[0m \u001b[0;34m->\u001b[0m \u001b[0;32mNone\u001b[0m\u001b[0;34m:\u001b[0m\u001b[0;34m\u001b[0m\u001b[0;34m\u001b[0m\u001b[0m\n",
      "\u001b[0;31mAttributeError\u001b[0m: 'DataFrame' object has no attribute 'unique'"
     ]
    }
   ],
   "source": []
  },
  {
   "cell_type": "markdown",
   "metadata": {},
   "source": [
    "# Correlation with churn"
   ]
  },
  {
   "cell_type": "code",
   "execution_count": 14,
   "metadata": {},
   "outputs": [
    {
     "output_type": "execute_result",
     "data": {
      "text/plain": "<pandas.io.formats.style.Styler at 0x7fceae26e860>",
      "text/html": "<style  type=\"text/css\" >\n    #T_51756c1c_b19f_11ea_be33_acde48001122row0_col0 {\n            background-color:  #023858;\n            color:  #f1f1f1;\n        }    #T_51756c1c_b19f_11ea_be33_acde48001122row0_col1 {\n            background-color:  #f0eaf4;\n            color:  #000000;\n        }    #T_51756c1c_b19f_11ea_be33_acde48001122row0_col2 {\n            background-color:  #fff7fb;\n            color:  #000000;\n        }    #T_51756c1c_b19f_11ea_be33_acde48001122row0_col3 {\n            background-color:  #f8f1f8;\n            color:  #000000;\n        }    #T_51756c1c_b19f_11ea_be33_acde48001122row0_col4 {\n            background-color:  #000000;\n            color:  #f1f1f1;\n        }    #T_51756c1c_b19f_11ea_be33_acde48001122row0_col5 {\n            background-color:  #f1ebf4;\n            color:  #000000;\n        }    #T_51756c1c_b19f_11ea_be33_acde48001122row0_col6 {\n            background-color:  #fff7fb;\n            color:  #000000;\n        }    #T_51756c1c_b19f_11ea_be33_acde48001122row0_col7 {\n            background-color:  #fff7fb;\n            color:  #000000;\n        }    #T_51756c1c_b19f_11ea_be33_acde48001122row0_col8 {\n            background-color:  #fbf4f9;\n            color:  #000000;\n        }    #T_51756c1c_b19f_11ea_be33_acde48001122row0_col9 {\n            background-color:  #f2ecf5;\n            color:  #000000;\n        }    #T_51756c1c_b19f_11ea_be33_acde48001122row0_col10 {\n            background-color:  #fff7fb;\n            color:  #000000;\n        }    #T_51756c1c_b19f_11ea_be33_acde48001122row1_col0 {\n            background-color:  #f8f1f8;\n            color:  #000000;\n        }    #T_51756c1c_b19f_11ea_be33_acde48001122row1_col1 {\n            background-color:  #023858;\n            color:  #f1f1f1;\n        }    #T_51756c1c_b19f_11ea_be33_acde48001122row1_col2 {\n            background-color:  #f8f1f8;\n            color:  #000000;\n        }    #T_51756c1c_b19f_11ea_be33_acde48001122row1_col3 {\n            background-color:  #fff7fb;\n            color:  #000000;\n        }    #T_51756c1c_b19f_11ea_be33_acde48001122row1_col4 {\n            background-color:  #000000;\n            color:  #f1f1f1;\n        }    #T_51756c1c_b19f_11ea_be33_acde48001122row1_col5 {\n            background-color:  #fff7fb;\n            color:  #000000;\n        }    #T_51756c1c_b19f_11ea_be33_acde48001122row1_col6 {\n            background-color:  #f8f1f8;\n            color:  #000000;\n        }    #T_51756c1c_b19f_11ea_be33_acde48001122row1_col7 {\n            background-color:  #f8f1f8;\n            color:  #000000;\n        }    #T_51756c1c_b19f_11ea_be33_acde48001122row1_col8 {\n            background-color:  #97b7d7;\n            color:  #000000;\n        }    #T_51756c1c_b19f_11ea_be33_acde48001122row1_col9 {\n            background-color:  #fff7fb;\n            color:  #000000;\n        }    #T_51756c1c_b19f_11ea_be33_acde48001122row1_col10 {\n            background-color:  #f8f1f8;\n            color:  #000000;\n        }    #T_51756c1c_b19f_11ea_be33_acde48001122row2_col0 {\n            background-color:  #fff7fb;\n            color:  #000000;\n        }    #T_51756c1c_b19f_11ea_be33_acde48001122row2_col1 {\n            background-color:  #efe9f3;\n            color:  #000000;\n        }    #T_51756c1c_b19f_11ea_be33_acde48001122row2_col2 {\n            background-color:  #023858;\n            color:  #f1f1f1;\n        }    #T_51756c1c_b19f_11ea_be33_acde48001122row2_col3 {\n            background-color:  #f1ebf5;\n            color:  #000000;\n        }    #T_51756c1c_b19f_11ea_be33_acde48001122row2_col4 {\n            background-color:  #000000;\n            color:  #f1f1f1;\n        }    #T_51756c1c_b19f_11ea_be33_acde48001122row2_col5 {\n            background-color:  #eae6f1;\n            color:  #000000;\n        }    #T_51756c1c_b19f_11ea_be33_acde48001122row2_col6 {\n            background-color:  #c9cee4;\n            color:  #000000;\n        }    #T_51756c1c_b19f_11ea_be33_acde48001122row2_col7 {\n            background-color:  #c1cae2;\n            color:  #000000;\n        }    #T_51756c1c_b19f_11ea_be33_acde48001122row2_col8 {\n            background-color:  #faf3f9;\n            color:  #000000;\n        }    #T_51756c1c_b19f_11ea_be33_acde48001122row2_col9 {\n            background-color:  #ebe6f2;\n            color:  #000000;\n        }    #T_51756c1c_b19f_11ea_be33_acde48001122row2_col10 {\n            background-color:  #f9f2f8;\n            color:  #000000;\n        }    #T_51756c1c_b19f_11ea_be33_acde48001122row3_col0 {\n            background-color:  #f9f2f8;\n            color:  #000000;\n        }    #T_51756c1c_b19f_11ea_be33_acde48001122row3_col1 {\n            background-color:  #f7f0f7;\n            color:  #000000;\n        }    #T_51756c1c_b19f_11ea_be33_acde48001122row3_col2 {\n            background-color:  #f2ecf5;\n            color:  #000000;\n        }    #T_51756c1c_b19f_11ea_be33_acde48001122row3_col3 {\n            background-color:  #023858;\n            color:  #f1f1f1;\n        }    #T_51756c1c_b19f_11ea_be33_acde48001122row3_col4 {\n            background-color:  #000000;\n            color:  #f1f1f1;\n        }    #T_51756c1c_b19f_11ea_be33_acde48001122row3_col5 {\n            background-color:  #045b8e;\n            color:  #f1f1f1;\n        }    #T_51756c1c_b19f_11ea_be33_acde48001122row3_col6 {\n            background-color:  #d6d6e9;\n            color:  #000000;\n        }    #T_51756c1c_b19f_11ea_be33_acde48001122row3_col7 {\n            background-color:  #d9d8ea;\n            color:  #000000;\n        }    #T_51756c1c_b19f_11ea_be33_acde48001122row3_col8 {\n            background-color:  #faf3f9;\n            color:  #000000;\n        }    #T_51756c1c_b19f_11ea_be33_acde48001122row3_col9 {\n            background-color:  #034d79;\n            color:  #f1f1f1;\n        }    #T_51756c1c_b19f_11ea_be33_acde48001122row3_col10 {\n            background-color:  #046096;\n            color:  #f1f1f1;\n        }    #T_51756c1c_b19f_11ea_be33_acde48001122row4_col0 {\n            background-color:  #000000;\n            color:  #f1f1f1;\n        }    #T_51756c1c_b19f_11ea_be33_acde48001122row4_col1 {\n            background-color:  #000000;\n            color:  #f1f1f1;\n        }    #T_51756c1c_b19f_11ea_be33_acde48001122row4_col2 {\n            background-color:  #000000;\n            color:  #f1f1f1;\n        }    #T_51756c1c_b19f_11ea_be33_acde48001122row4_col3 {\n            background-color:  #000000;\n            color:  #f1f1f1;\n        }    #T_51756c1c_b19f_11ea_be33_acde48001122row4_col4 {\n            background-color:  #000000;\n            color:  #f1f1f1;\n        }    #T_51756c1c_b19f_11ea_be33_acde48001122row4_col5 {\n            background-color:  #000000;\n            color:  #f1f1f1;\n        }    #T_51756c1c_b19f_11ea_be33_acde48001122row4_col6 {\n            background-color:  #000000;\n            color:  #f1f1f1;\n        }    #T_51756c1c_b19f_11ea_be33_acde48001122row4_col7 {\n            background-color:  #000000;\n            color:  #f1f1f1;\n        }    #T_51756c1c_b19f_11ea_be33_acde48001122row4_col8 {\n            background-color:  #000000;\n            color:  #f1f1f1;\n        }    #T_51756c1c_b19f_11ea_be33_acde48001122row4_col9 {\n            background-color:  #000000;\n            color:  #f1f1f1;\n        }    #T_51756c1c_b19f_11ea_be33_acde48001122row4_col10 {\n            background-color:  #000000;\n            color:  #f1f1f1;\n        }    #T_51756c1c_b19f_11ea_be33_acde48001122row5_col0 {\n            background-color:  #faf3f9;\n            color:  #000000;\n        }    #T_51756c1c_b19f_11ea_be33_acde48001122row5_col1 {\n            background-color:  #fff7fb;\n            color:  #000000;\n        }    #T_51756c1c_b19f_11ea_be33_acde48001122row5_col2 {\n            background-color:  #f4edf6;\n            color:  #000000;\n        }    #T_51756c1c_b19f_11ea_be33_acde48001122row5_col3 {\n            background-color:  #045c90;\n            color:  #f1f1f1;\n        }    #T_51756c1c_b19f_11ea_be33_acde48001122row5_col4 {\n            background-color:  #000000;\n            color:  #f1f1f1;\n        }    #T_51756c1c_b19f_11ea_be33_acde48001122row5_col5 {\n            background-color:  #023858;\n            color:  #f1f1f1;\n        }    #T_51756c1c_b19f_11ea_be33_acde48001122row5_col6 {\n            background-color:  #e3e0ee;\n            color:  #000000;\n        }    #T_51756c1c_b19f_11ea_be33_acde48001122row5_col7 {\n            background-color:  #e3e0ee;\n            color:  #000000;\n        }    #T_51756c1c_b19f_11ea_be33_acde48001122row5_col8 {\n            background-color:  #fff7fb;\n            color:  #000000;\n        }    #T_51756c1c_b19f_11ea_be33_acde48001122row5_col9 {\n            background-color:  #02395a;\n            color:  #f1f1f1;\n        }    #T_51756c1c_b19f_11ea_be33_acde48001122row5_col10 {\n            background-color:  #2f8bbe;\n            color:  #000000;\n        }    #T_51756c1c_b19f_11ea_be33_acde48001122row6_col0 {\n            background-color:  #fcf4fa;\n            color:  #000000;\n        }    #T_51756c1c_b19f_11ea_be33_acde48001122row6_col1 {\n            background-color:  #ede7f2;\n            color:  #000000;\n        }    #T_51756c1c_b19f_11ea_be33_acde48001122row6_col2 {\n            background-color:  #c4cbe3;\n            color:  #000000;\n        }    #T_51756c1c_b19f_11ea_be33_acde48001122row6_col3 {\n            background-color:  #d1d2e6;\n            color:  #000000;\n        }    #T_51756c1c_b19f_11ea_be33_acde48001122row6_col4 {\n            background-color:  #000000;\n            color:  #f1f1f1;\n        }    #T_51756c1c_b19f_11ea_be33_acde48001122row6_col5 {\n            background-color:  #d3d4e7;\n            color:  #000000;\n        }    #T_51756c1c_b19f_11ea_be33_acde48001122row6_col6 {\n            background-color:  #023858;\n            color:  #f1f1f1;\n        }    #T_51756c1c_b19f_11ea_be33_acde48001122row6_col7 {\n            background-color:  #03446a;\n            color:  #f1f1f1;\n        }    #T_51756c1c_b19f_11ea_be33_acde48001122row6_col8 {\n            background-color:  #f2ecf5;\n            color:  #000000;\n        }    #T_51756c1c_b19f_11ea_be33_acde48001122row6_col9 {\n            background-color:  #d2d2e7;\n            color:  #000000;\n        }    #T_51756c1c_b19f_11ea_be33_acde48001122row6_col10 {\n            background-color:  #d4d4e8;\n            color:  #000000;\n        }    #T_51756c1c_b19f_11ea_be33_acde48001122row7_col0 {\n            background-color:  #fdf5fa;\n            color:  #000000;\n        }    #T_51756c1c_b19f_11ea_be33_acde48001122row7_col1 {\n            background-color:  #ede7f2;\n            color:  #000000;\n        }    #T_51756c1c_b19f_11ea_be33_acde48001122row7_col2 {\n            background-color:  #bdc8e1;\n            color:  #000000;\n        }    #T_51756c1c_b19f_11ea_be33_acde48001122row7_col3 {\n            background-color:  #d3d4e7;\n            color:  #000000;\n        }    #T_51756c1c_b19f_11ea_be33_acde48001122row7_col4 {\n            background-color:  #000000;\n            color:  #f1f1f1;\n        }    #T_51756c1c_b19f_11ea_be33_acde48001122row7_col5 {\n            background-color:  #d4d4e8;\n            color:  #000000;\n        }    #T_51756c1c_b19f_11ea_be33_acde48001122row7_col6 {\n            background-color:  #03446a;\n            color:  #f1f1f1;\n        }    #T_51756c1c_b19f_11ea_be33_acde48001122row7_col7 {\n            background-color:  #023858;\n            color:  #f1f1f1;\n        }    #T_51756c1c_b19f_11ea_be33_acde48001122row7_col8 {\n            background-color:  #f2ecf5;\n            color:  #000000;\n        }    #T_51756c1c_b19f_11ea_be33_acde48001122row7_col9 {\n            background-color:  #d2d3e7;\n            color:  #000000;\n        }    #T_51756c1c_b19f_11ea_be33_acde48001122row7_col10 {\n            background-color:  #d6d6e9;\n            color:  #000000;\n        }    #T_51756c1c_b19f_11ea_be33_acde48001122row8_col0 {\n            background-color:  #fef6fb;\n            color:  #000000;\n        }    #T_51756c1c_b19f_11ea_be33_acde48001122row8_col1 {\n            background-color:  #8cb3d5;\n            color:  #000000;\n        }    #T_51756c1c_b19f_11ea_be33_acde48001122row8_col2 {\n            background-color:  #fdf5fa;\n            color:  #000000;\n        }    #T_51756c1c_b19f_11ea_be33_acde48001122row8_col3 {\n            background-color:  #fbf4f9;\n            color:  #000000;\n        }    #T_51756c1c_b19f_11ea_be33_acde48001122row8_col4 {\n            background-color:  #000000;\n            color:  #f1f1f1;\n        }    #T_51756c1c_b19f_11ea_be33_acde48001122row8_col5 {\n            background-color:  #f8f1f8;\n            color:  #000000;\n        }    #T_51756c1c_b19f_11ea_be33_acde48001122row8_col6 {\n            background-color:  #f7f0f7;\n            color:  #000000;\n        }    #T_51756c1c_b19f_11ea_be33_acde48001122row8_col7 {\n            background-color:  #f7f0f7;\n            color:  #000000;\n        }    #T_51756c1c_b19f_11ea_be33_acde48001122row8_col8 {\n            background-color:  #023858;\n            color:  #f1f1f1;\n        }    #T_51756c1c_b19f_11ea_be33_acde48001122row8_col9 {\n            background-color:  #f9f2f8;\n            color:  #000000;\n        }    #T_51756c1c_b19f_11ea_be33_acde48001122row8_col10 {\n            background-color:  #dbdaeb;\n            color:  #000000;\n        }    #T_51756c1c_b19f_11ea_be33_acde48001122row9_col0 {\n            background-color:  #faf3f9;\n            color:  #000000;\n        }    #T_51756c1c_b19f_11ea_be33_acde48001122row9_col1 {\n            background-color:  #fef6fa;\n            color:  #000000;\n        }    #T_51756c1c_b19f_11ea_be33_acde48001122row9_col2 {\n            background-color:  #f3edf5;\n            color:  #000000;\n        }    #T_51756c1c_b19f_11ea_be33_acde48001122row9_col3 {\n            background-color:  #034e7b;\n            color:  #f1f1f1;\n        }    #T_51756c1c_b19f_11ea_be33_acde48001122row9_col4 {\n            background-color:  #000000;\n            color:  #f1f1f1;\n        }    #T_51756c1c_b19f_11ea_be33_acde48001122row9_col5 {\n            background-color:  #02395a;\n            color:  #f1f1f1;\n        }    #T_51756c1c_b19f_11ea_be33_acde48001122row9_col6 {\n            background-color:  #dfddec;\n            color:  #000000;\n        }    #T_51756c1c_b19f_11ea_be33_acde48001122row9_col7 {\n            background-color:  #e0dded;\n            color:  #000000;\n        }    #T_51756c1c_b19f_11ea_be33_acde48001122row9_col8 {\n            background-color:  #fef6fb;\n            color:  #000000;\n        }    #T_51756c1c_b19f_11ea_be33_acde48001122row9_col9 {\n            background-color:  #023858;\n            color:  #f1f1f1;\n        }    #T_51756c1c_b19f_11ea_be33_acde48001122row9_col10 {\n            background-color:  #157ab5;\n            color:  #000000;\n        }    #T_51756c1c_b19f_11ea_be33_acde48001122row10_col0 {\n            background-color:  #faf2f8;\n            color:  #000000;\n        }    #T_51756c1c_b19f_11ea_be33_acde48001122row10_col1 {\n            background-color:  #e9e5f1;\n            color:  #000000;\n        }    #T_51756c1c_b19f_11ea_be33_acde48001122row10_col2 {\n            background-color:  #f4edf6;\n            color:  #000000;\n        }    #T_51756c1c_b19f_11ea_be33_acde48001122row10_col3 {\n            background-color:  #045e94;\n            color:  #f1f1f1;\n        }    #T_51756c1c_b19f_11ea_be33_acde48001122row10_col4 {\n            background-color:  #000000;\n            color:  #f1f1f1;\n        }    #T_51756c1c_b19f_11ea_be33_acde48001122row10_col5 {\n            background-color:  #2182b9;\n            color:  #000000;\n        }    #T_51756c1c_b19f_11ea_be33_acde48001122row10_col6 {\n            background-color:  #d2d2e7;\n            color:  #000000;\n        }    #T_51756c1c_b19f_11ea_be33_acde48001122row10_col7 {\n            background-color:  #d3d4e7;\n            color:  #000000;\n        }    #T_51756c1c_b19f_11ea_be33_acde48001122row10_col8 {\n            background-color:  #d2d2e7;\n            color:  #000000;\n        }    #T_51756c1c_b19f_11ea_be33_acde48001122row10_col9 {\n            background-color:  #0c74b2;\n            color:  #f1f1f1;\n        }    #T_51756c1c_b19f_11ea_be33_acde48001122row10_col10 {\n            background-color:  #023858;\n            color:  #f1f1f1;\n        }</style><table id=\"T_51756c1c_b19f_11ea_be33_acde48001122\" ><thead>    <tr>        <th class=\"blank level0\" ></th>        <th class=\"col_heading level0 col0\" >UserID</th>        <th class=\"col_heading level0 col1\" >GameID</th>        <th class=\"col_heading level0 col2\" >Level</th>        <th class=\"col_heading level0 col3\" >WinNo</th>        <th class=\"col_heading level0 col4\" >DrawNo</th>        <th class=\"col_heading level0 col5\" >LostNo</th>        <th class=\"col_heading level0 col6\" >WinAmt</th>        <th class=\"col_heading level0 col7\" >LostAmt</th>        <th class=\"col_heading level0 col8\" >Match_Length</th>        <th class=\"col_heading level0 col9\" >Games_Played</th>        <th class=\"col_heading level0 col10\" >Active_Time</th>    </tr></thead><tbody>\n                <tr>\n                        <th id=\"T_51756c1c_b19f_11ea_be33_acde48001122level0_row0\" class=\"row_heading level0 row0\" >UserID</th>\n                        <td id=\"T_51756c1c_b19f_11ea_be33_acde48001122row0_col0\" class=\"data row0 col0\" >1.000000</td>\n                        <td id=\"T_51756c1c_b19f_11ea_be33_acde48001122row0_col1\" class=\"data row0 col1\" >-0.019892</td>\n                        <td id=\"T_51756c1c_b19f_11ea_be33_acde48001122row0_col2\" class=\"data row0 col2\" >-0.066279</td>\n                        <td id=\"T_51756c1c_b19f_11ea_be33_acde48001122row0_col3\" class=\"data row0 col3\" >-0.022627</td>\n                        <td id=\"T_51756c1c_b19f_11ea_be33_acde48001122row0_col4\" class=\"data row0 col4\" >nan</td>\n                        <td id=\"T_51756c1c_b19f_11ea_be33_acde48001122row0_col5\" class=\"data row0 col5\" >-0.030673</td>\n                        <td id=\"T_51756c1c_b19f_11ea_be33_acde48001122row0_col6\" class=\"data row0 col6\" >-0.045419</td>\n                        <td id=\"T_51756c1c_b19f_11ea_be33_acde48001122row0_col7\" class=\"data row0 col7\" >-0.047102</td>\n                        <td id=\"T_51756c1c_b19f_11ea_be33_acde48001122row0_col8\" class=\"data row0 col8\" >-0.060496</td>\n                        <td id=\"T_51756c1c_b19f_11ea_be33_acde48001122row0_col9\" class=\"data row0 col9\" >-0.029573</td>\n                        <td id=\"T_51756c1c_b19f_11ea_be33_acde48001122row0_col10\" class=\"data row0 col10\" >-0.027013</td>\n            </tr>\n            <tr>\n                        <th id=\"T_51756c1c_b19f_11ea_be33_acde48001122level0_row1\" class=\"row_heading level0 row1\" >GameID</th>\n                        <td id=\"T_51756c1c_b19f_11ea_be33_acde48001122row1_col0\" class=\"data row1 col0\" >-0.019892</td>\n                        <td id=\"T_51756c1c_b19f_11ea_be33_acde48001122row1_col1\" class=\"data row1 col1\" >1.000000</td>\n                        <td id=\"T_51756c1c_b19f_11ea_be33_acde48001122row1_col2\" class=\"data row1 col2\" >-0.018684</td>\n                        <td id=\"T_51756c1c_b19f_11ea_be33_acde48001122row1_col3\" class=\"data row1 col3\" >-0.076436</td>\n                        <td id=\"T_51756c1c_b19f_11ea_be33_acde48001122row1_col4\" class=\"data row1 col4\" >nan</td>\n                        <td id=\"T_51756c1c_b19f_11ea_be33_acde48001122row1_col5\" class=\"data row1 col5\" >-0.139091</td>\n                        <td id=\"T_51756c1c_b19f_11ea_be33_acde48001122row1_col6\" class=\"data row1 col6\" >0.000197</td>\n                        <td id=\"T_51756c1c_b19f_11ea_be33_acde48001122row1_col7\" class=\"data row1 col7\" >-0.000004</td>\n                        <td id=\"T_51756c1c_b19f_11ea_be33_acde48001122row1_col8\" class=\"data row1 col8\" >0.359621</td>\n                        <td id=\"T_51756c1c_b19f_11ea_be33_acde48001122row1_col9\" class=\"data row1 col9\" >-0.127733</td>\n                        <td id=\"T_51756c1c_b19f_11ea_be33_acde48001122row1_col10\" class=\"data row1 col10\" >0.019294</td>\n            </tr>\n            <tr>\n                        <th id=\"T_51756c1c_b19f_11ea_be33_acde48001122level0_row2\" class=\"row_heading level0 row2\" >Level</th>\n                        <td id=\"T_51756c1c_b19f_11ea_be33_acde48001122row2_col0\" class=\"data row2 col0\" >-0.066279</td>\n                        <td id=\"T_51756c1c_b19f_11ea_be33_acde48001122row2_col1\" class=\"data row2 col1\" >-0.018684</td>\n                        <td id=\"T_51756c1c_b19f_11ea_be33_acde48001122row2_col2\" class=\"data row2 col2\" >1.000000</td>\n                        <td id=\"T_51756c1c_b19f_11ea_be33_acde48001122row2_col3\" class=\"data row2 col3\" >0.023687</td>\n                        <td id=\"T_51756c1c_b19f_11ea_be33_acde48001122row2_col4\" class=\"data row2 col4\" >nan</td>\n                        <td id=\"T_51756c1c_b19f_11ea_be33_acde48001122row2_col5\" class=\"data row2 col5\" >0.016064</td>\n                        <td id=\"T_51756c1c_b19f_11ea_be33_acde48001122row2_col6\" class=\"data row2 col6\" >0.239252</td>\n                        <td id=\"T_51756c1c_b19f_11ea_be33_acde48001122row2_col7\" class=\"data row2 col7\" >0.261220</td>\n                        <td id=\"T_51756c1c_b19f_11ea_be33_acde48001122row2_col8\" class=\"data row2 col8\" >-0.052492</td>\n                        <td id=\"T_51756c1c_b19f_11ea_be33_acde48001122row2_col9\" class=\"data row2 col9\" >0.018370</td>\n                        <td id=\"T_51756c1c_b19f_11ea_be33_acde48001122row2_col10\" class=\"data row2 col10\" >0.014081</td>\n            </tr>\n            <tr>\n                        <th id=\"T_51756c1c_b19f_11ea_be33_acde48001122level0_row3\" class=\"row_heading level0 row3\" >WinNo</th>\n                        <td id=\"T_51756c1c_b19f_11ea_be33_acde48001122row3_col0\" class=\"data row3 col0\" >-0.022627</td>\n                        <td id=\"T_51756c1c_b19f_11ea_be33_acde48001122row3_col1\" class=\"data row3 col1\" >-0.076436</td>\n                        <td id=\"T_51756c1c_b19f_11ea_be33_acde48001122row3_col2\" class=\"data row3 col2\" >0.023687</td>\n                        <td id=\"T_51756c1c_b19f_11ea_be33_acde48001122row3_col3\" class=\"data row3 col3\" >1.000000</td>\n                        <td id=\"T_51756c1c_b19f_11ea_be33_acde48001122row3_col4\" class=\"data row3 col4\" >nan</td>\n                        <td id=\"T_51756c1c_b19f_11ea_be33_acde48001122row3_col5\" class=\"data row3 col5\" >0.851288</td>\n                        <td id=\"T_51756c1c_b19f_11ea_be33_acde48001122row3_col6\" class=\"data row3 col6\" >0.190399</td>\n                        <td id=\"T_51756c1c_b19f_11ea_be33_acde48001122row3_col7\" class=\"data row3 col7\" >0.177562</td>\n                        <td id=\"T_51756c1c_b19f_11ea_be33_acde48001122row3_col8\" class=\"data row3 col8\" >-0.049228</td>\n                        <td id=\"T_51756c1c_b19f_11ea_be33_acde48001122row3_col9\" class=\"data row3 col9\" >0.911341</td>\n                        <td id=\"T_51756c1c_b19f_11ea_be33_acde48001122row3_col10\" class=\"data row3 col10\" >0.836991</td>\n            </tr>\n            <tr>\n                        <th id=\"T_51756c1c_b19f_11ea_be33_acde48001122level0_row4\" class=\"row_heading level0 row4\" >DrawNo</th>\n                        <td id=\"T_51756c1c_b19f_11ea_be33_acde48001122row4_col0\" class=\"data row4 col0\" >nan</td>\n                        <td id=\"T_51756c1c_b19f_11ea_be33_acde48001122row4_col1\" class=\"data row4 col1\" >nan</td>\n                        <td id=\"T_51756c1c_b19f_11ea_be33_acde48001122row4_col2\" class=\"data row4 col2\" >nan</td>\n                        <td id=\"T_51756c1c_b19f_11ea_be33_acde48001122row4_col3\" class=\"data row4 col3\" >nan</td>\n                        <td id=\"T_51756c1c_b19f_11ea_be33_acde48001122row4_col4\" class=\"data row4 col4\" >nan</td>\n                        <td id=\"T_51756c1c_b19f_11ea_be33_acde48001122row4_col5\" class=\"data row4 col5\" >nan</td>\n                        <td id=\"T_51756c1c_b19f_11ea_be33_acde48001122row4_col6\" class=\"data row4 col6\" >nan</td>\n                        <td id=\"T_51756c1c_b19f_11ea_be33_acde48001122row4_col7\" class=\"data row4 col7\" >nan</td>\n                        <td id=\"T_51756c1c_b19f_11ea_be33_acde48001122row4_col8\" class=\"data row4 col8\" >nan</td>\n                        <td id=\"T_51756c1c_b19f_11ea_be33_acde48001122row4_col9\" class=\"data row4 col9\" >nan</td>\n                        <td id=\"T_51756c1c_b19f_11ea_be33_acde48001122row4_col10\" class=\"data row4 col10\" >nan</td>\n            </tr>\n            <tr>\n                        <th id=\"T_51756c1c_b19f_11ea_be33_acde48001122level0_row5\" class=\"row_heading level0 row5\" >LostNo</th>\n                        <td id=\"T_51756c1c_b19f_11ea_be33_acde48001122row5_col0\" class=\"data row5 col0\" >-0.030673</td>\n                        <td id=\"T_51756c1c_b19f_11ea_be33_acde48001122row5_col1\" class=\"data row5 col1\" >-0.139091</td>\n                        <td id=\"T_51756c1c_b19f_11ea_be33_acde48001122row5_col2\" class=\"data row5 col2\" >0.016064</td>\n                        <td id=\"T_51756c1c_b19f_11ea_be33_acde48001122row5_col3\" class=\"data row5 col3\" >0.851288</td>\n                        <td id=\"T_51756c1c_b19f_11ea_be33_acde48001122row5_col4\" class=\"data row5 col4\" >nan</td>\n                        <td id=\"T_51756c1c_b19f_11ea_be33_acde48001122row5_col5\" class=\"data row5 col5\" >1.000000</td>\n                        <td id=\"T_51756c1c_b19f_11ea_be33_acde48001122row5_col6\" class=\"data row5 col6\" >0.129723</td>\n                        <td id=\"T_51756c1c_b19f_11ea_be33_acde48001122row5_col7\" class=\"data row5 col7\" >0.126613</td>\n                        <td id=\"T_51756c1c_b19f_11ea_be33_acde48001122row5_col8\" class=\"data row5 col8\" >-0.087411</td>\n                        <td id=\"T_51756c1c_b19f_11ea_be33_acde48001122row5_col9\" class=\"data row5 col9\" >0.991807</td>\n                        <td id=\"T_51756c1c_b19f_11ea_be33_acde48001122row5_col10\" class=\"data row5 col10\" >0.631980</td>\n            </tr>\n            <tr>\n                        <th id=\"T_51756c1c_b19f_11ea_be33_acde48001122level0_row6\" class=\"row_heading level0 row6\" >WinAmt</th>\n                        <td id=\"T_51756c1c_b19f_11ea_be33_acde48001122row6_col0\" class=\"data row6 col0\" >-0.045419</td>\n                        <td id=\"T_51756c1c_b19f_11ea_be33_acde48001122row6_col1\" class=\"data row6 col1\" >0.000197</td>\n                        <td id=\"T_51756c1c_b19f_11ea_be33_acde48001122row6_col2\" class=\"data row6 col2\" >0.239252</td>\n                        <td id=\"T_51756c1c_b19f_11ea_be33_acde48001122row6_col3\" class=\"data row6 col3\" >0.190399</td>\n                        <td id=\"T_51756c1c_b19f_11ea_be33_acde48001122row6_col4\" class=\"data row6 col4\" >nan</td>\n                        <td id=\"T_51756c1c_b19f_11ea_be33_acde48001122row6_col5\" class=\"data row6 col5\" >0.129723</td>\n                        <td id=\"T_51756c1c_b19f_11ea_be33_acde48001122row6_col6\" class=\"data row6 col6\" >1.000000</td>\n                        <td id=\"T_51756c1c_b19f_11ea_be33_acde48001122row6_col7\" class=\"data row6 col7\" >0.951299</td>\n                        <td id=\"T_51756c1c_b19f_11ea_be33_acde48001122row6_col8\" class=\"data row6 col8\" >0.009474</td>\n                        <td id=\"T_51756c1c_b19f_11ea_be33_acde48001122row6_col9\" class=\"data row6 col9\" >0.148130</td>\n                        <td id=\"T_51756c1c_b19f_11ea_be33_acde48001122row6_col10\" class=\"data row6 col10\" >0.211561</td>\n            </tr>\n            <tr>\n                        <th id=\"T_51756c1c_b19f_11ea_be33_acde48001122level0_row7\" class=\"row_heading level0 row7\" >LostAmt</th>\n                        <td id=\"T_51756c1c_b19f_11ea_be33_acde48001122row7_col0\" class=\"data row7 col0\" >-0.047102</td>\n                        <td id=\"T_51756c1c_b19f_11ea_be33_acde48001122row7_col1\" class=\"data row7 col1\" >-0.000004</td>\n                        <td id=\"T_51756c1c_b19f_11ea_be33_acde48001122row7_col2\" class=\"data row7 col2\" >0.261220</td>\n                        <td id=\"T_51756c1c_b19f_11ea_be33_acde48001122row7_col3\" class=\"data row7 col3\" >0.177562</td>\n                        <td id=\"T_51756c1c_b19f_11ea_be33_acde48001122row7_col4\" class=\"data row7 col4\" >nan</td>\n                        <td id=\"T_51756c1c_b19f_11ea_be33_acde48001122row7_col5\" class=\"data row7 col5\" >0.126613</td>\n                        <td id=\"T_51756c1c_b19f_11ea_be33_acde48001122row7_col6\" class=\"data row7 col6\" >0.951299</td>\n                        <td id=\"T_51756c1c_b19f_11ea_be33_acde48001122row7_col7\" class=\"data row7 col7\" >1.000000</td>\n                        <td id=\"T_51756c1c_b19f_11ea_be33_acde48001122row7_col8\" class=\"data row7 col8\" >0.007655</td>\n                        <td id=\"T_51756c1c_b19f_11ea_be33_acde48001122row7_col9\" class=\"data row7 col9\" >0.142564</td>\n                        <td id=\"T_51756c1c_b19f_11ea_be33_acde48001122row7_col10\" class=\"data row7 col10\" >0.201689</td>\n            </tr>\n            <tr>\n                        <th id=\"T_51756c1c_b19f_11ea_be33_acde48001122level0_row8\" class=\"row_heading level0 row8\" >Match_Length</th>\n                        <td id=\"T_51756c1c_b19f_11ea_be33_acde48001122row8_col0\" class=\"data row8 col0\" >-0.060496</td>\n                        <td id=\"T_51756c1c_b19f_11ea_be33_acde48001122row8_col1\" class=\"data row8 col1\" >0.359621</td>\n                        <td id=\"T_51756c1c_b19f_11ea_be33_acde48001122row8_col2\" class=\"data row8 col2\" >-0.052492</td>\n                        <td id=\"T_51756c1c_b19f_11ea_be33_acde48001122row8_col3\" class=\"data row8 col3\" >-0.049228</td>\n                        <td id=\"T_51756c1c_b19f_11ea_be33_acde48001122row8_col4\" class=\"data row8 col4\" >nan</td>\n                        <td id=\"T_51756c1c_b19f_11ea_be33_acde48001122row8_col5\" class=\"data row8 col5\" >-0.087411</td>\n                        <td id=\"T_51756c1c_b19f_11ea_be33_acde48001122row8_col6\" class=\"data row8 col6\" >0.009474</td>\n                        <td id=\"T_51756c1c_b19f_11ea_be33_acde48001122row8_col7\" class=\"data row8 col7\" >0.007655</td>\n                        <td id=\"T_51756c1c_b19f_11ea_be33_acde48001122row8_col8\" class=\"data row8 col8\" >1.000000</td>\n                        <td id=\"T_51756c1c_b19f_11ea_be33_acde48001122row8_col9\" class=\"data row8 col9\" >-0.080564</td>\n                        <td id=\"T_51756c1c_b19f_11ea_be33_acde48001122row8_col10\" class=\"data row8 col10\" >0.177603</td>\n            </tr>\n            <tr>\n                        <th id=\"T_51756c1c_b19f_11ea_be33_acde48001122level0_row9\" class=\"row_heading level0 row9\" >Games_Played</th>\n                        <td id=\"T_51756c1c_b19f_11ea_be33_acde48001122row9_col0\" class=\"data row9 col0\" >-0.029573</td>\n                        <td id=\"T_51756c1c_b19f_11ea_be33_acde48001122row9_col1\" class=\"data row9 col1\" >-0.127733</td>\n                        <td id=\"T_51756c1c_b19f_11ea_be33_acde48001122row9_col2\" class=\"data row9 col2\" >0.018370</td>\n                        <td id=\"T_51756c1c_b19f_11ea_be33_acde48001122row9_col3\" class=\"data row9 col3\" >0.911341</td>\n                        <td id=\"T_51756c1c_b19f_11ea_be33_acde48001122row9_col4\" class=\"data row9 col4\" >nan</td>\n                        <td id=\"T_51756c1c_b19f_11ea_be33_acde48001122row9_col5\" class=\"data row9 col5\" >0.991807</td>\n                        <td id=\"T_51756c1c_b19f_11ea_be33_acde48001122row9_col6\" class=\"data row9 col6\" >0.148130</td>\n                        <td id=\"T_51756c1c_b19f_11ea_be33_acde48001122row9_col7\" class=\"data row9 col7\" >0.142564</td>\n                        <td id=\"T_51756c1c_b19f_11ea_be33_acde48001122row9_col8\" class=\"data row9 col8\" >-0.080564</td>\n                        <td id=\"T_51756c1c_b19f_11ea_be33_acde48001122row9_col9\" class=\"data row9 col9\" >1.000000</td>\n                        <td id=\"T_51756c1c_b19f_11ea_be33_acde48001122row9_col10\" class=\"data row9 col10\" >0.699597</td>\n            </tr>\n            <tr>\n                        <th id=\"T_51756c1c_b19f_11ea_be33_acde48001122level0_row10\" class=\"row_heading level0 row10\" >Active_Time</th>\n                        <td id=\"T_51756c1c_b19f_11ea_be33_acde48001122row10_col0\" class=\"data row10 col0\" >-0.027013</td>\n                        <td id=\"T_51756c1c_b19f_11ea_be33_acde48001122row10_col1\" class=\"data row10 col1\" >0.019294</td>\n                        <td id=\"T_51756c1c_b19f_11ea_be33_acde48001122row10_col2\" class=\"data row10 col2\" >0.014081</td>\n                        <td id=\"T_51756c1c_b19f_11ea_be33_acde48001122row10_col3\" class=\"data row10 col3\" >0.836991</td>\n                        <td id=\"T_51756c1c_b19f_11ea_be33_acde48001122row10_col4\" class=\"data row10 col4\" >nan</td>\n                        <td id=\"T_51756c1c_b19f_11ea_be33_acde48001122row10_col5\" class=\"data row10 col5\" >0.631980</td>\n                        <td id=\"T_51756c1c_b19f_11ea_be33_acde48001122row10_col6\" class=\"data row10 col6\" >0.211561</td>\n                        <td id=\"T_51756c1c_b19f_11ea_be33_acde48001122row10_col7\" class=\"data row10 col7\" >0.201689</td>\n                        <td id=\"T_51756c1c_b19f_11ea_be33_acde48001122row10_col8\" class=\"data row10 col8\" >0.177603</td>\n                        <td id=\"T_51756c1c_b19f_11ea_be33_acde48001122row10_col9\" class=\"data row10 col9\" >0.699597</td>\n                        <td id=\"T_51756c1c_b19f_11ea_be33_acde48001122row10_col10\" class=\"data row10 col10\" >1.000000</td>\n            </tr>\n    </tbody></table>"
     },
     "metadata": {},
     "execution_count": 14
    }
   ],
   "source": [
    "play_log_df.corr().style.background_gradient()"
   ]
  },
  {
   "cell_type": "code",
   "execution_count": 15,
   "metadata": {},
   "outputs": [
    {
     "output_type": "execute_result",
     "data": {
      "text/plain": "(118810, 11)"
     },
     "metadata": {},
     "execution_count": 15
    }
   ],
   "source": [
    "# Assigning X_train and y_train\n",
    "X_train=play_log_train.iloc[:,:-1]\n",
    "X_train=X_train.drop(['UserID'], axis=1)\n",
    "\n",
    "# Fill na for some value of \n",
    "X_train=X_train.fillna(0) \n",
    "X_train.shape"
   ]
  },
  {
   "cell_type": "code",
   "execution_count": 16,
   "metadata": {},
   "outputs": [],
   "source": [
    "y_train=play_log_train.iloc[:,-1]"
   ]
  },
  {
   "cell_type": "code",
   "execution_count": 17,
   "metadata": {},
   "outputs": [
    {
     "output_type": "execute_result",
     "data": {
      "text/plain": "0    80464\n1    38346\nName: Churn, dtype: int64"
     },
     "metadata": {},
     "execution_count": 17
    }
   ],
   "source": [
    "y_train.value_counts()"
   ]
  },
  {
   "cell_type": "markdown",
   "metadata": {},
   "source": [
    "## Clearly, this is an imbalance data set which can result in inaccuracy for classification models. We will resample the data sets to make it more balance."
   ]
  },
  {
   "cell_type": "code",
   "execution_count": 18,
   "metadata": {},
   "outputs": [],
   "source": [
    "from sklearn.utils import resample"
   ]
  },
  {
   "cell_type": "code",
   "execution_count": 19,
   "metadata": {
    "tags": []
   },
   "outputs": [
    {
     "output_type": "stream",
     "name": "stdout",
     "text": "Number of class 0 examples before: 80464\nNumber of class 0 examples after: 38346\n"
    }
   ],
   "source": [
    "\n",
    "print('Number of class 0 examples before:', X_train[y_train == 0].shape[0])\n",
    "\n",
    "X_downsampled, y_downsampled = resample(X_train[y_train == 0], \n",
    "                                        y_train[y_train == 0], \n",
    "                                        replace=True, \n",
    "                                        n_samples=X_train[y_train == 1].shape[0], \n",
    "                                        random_state=42)\n",
    "\n",
    "print('Number of class 0 examples after:', X_downsampled.shape[0])\n",
    "\n",
    "# Combine upsample with original data\n",
    "X_train_downsampled = np.vstack((X_train[y_train == 1], X_downsampled))\n",
    "y_train_downsampled = np.hstack((y_train[y_train == 1], y_downsampled))"
   ]
  },
  {
   "cell_type": "code",
   "execution_count": 20,
   "metadata": {
    "tags": []
   },
   "outputs": [
    {
     "output_type": "stream",
     "name": "stdout",
     "text": "t0=2020-05-07 00:00:00 \nt4=2020-05-10 00:00:00 \ntchurn=2020-05-11 00:00:00\n"
    },
    {
     "output_type": "execute_result",
     "data": {
      "text/plain": "         UserID  WinNo  DrawNo  LostNo   WinAmt  LostAmt  Games_Played  \\\n0           123      0       0       1        0     5700             1   \n1          1406      0       0       2        0     7000             2   \n2          3452      5       0       8  3378423  5006784            13   \n3          3700      1       0       4    32555   364044             5   \n4          4891     37       0      47   329163   322689            84   \n...         ...    ...     ...     ...      ...      ...           ...   \n109343  6064980      1       0       1     1170    10000             2   \n109344  6064985      1       0       1       92      300             2   \n109345  6064986      0       0       1        0      900             1   \n109346  6064993      1       0       5    21000    24400             6   \n109347  6064994      2       0       1    72000    10000             3   \n\n        Active_Time  Amount  WinningRate  DrawRate  LosingRate  Churn  \n0                75     0.0     0.000000       0.0    1.000000      0  \n1               150     0.0     0.000000       0.0    1.000000      0  \n2               535     0.0     0.384615       0.0    0.615385      1  \n3               375     0.0     0.200000       0.0    0.800000      1  \n4              6245     0.0     0.440476       0.0    0.559524      1  \n...             ...     ...          ...       ...         ...    ...  \n109343           40     0.0     0.500000       0.0    0.500000      0  \n109344          150     0.0     0.500000       0.0    0.500000      1  \n109345           75     0.0     0.000000       0.0    1.000000      1  \n109346          120     0.0     0.166667       0.0    0.833333      1  \n109347           60     0.0     0.666667       0.0    0.333333      1  \n\n[109348 rows x 13 columns]",
      "text/html": "<div>\n<style scoped>\n    .dataframe tbody tr th:only-of-type {\n        vertical-align: middle;\n    }\n\n    .dataframe tbody tr th {\n        vertical-align: top;\n    }\n\n    .dataframe thead th {\n        text-align: right;\n    }\n</style>\n<table border=\"1\" class=\"dataframe\">\n  <thead>\n    <tr style=\"text-align: right;\">\n      <th></th>\n      <th>UserID</th>\n      <th>WinNo</th>\n      <th>DrawNo</th>\n      <th>LostNo</th>\n      <th>WinAmt</th>\n      <th>LostAmt</th>\n      <th>Games_Played</th>\n      <th>Active_Time</th>\n      <th>Amount</th>\n      <th>WinningRate</th>\n      <th>DrawRate</th>\n      <th>LosingRate</th>\n      <th>Churn</th>\n    </tr>\n  </thead>\n  <tbody>\n    <tr>\n      <th>0</th>\n      <td>123</td>\n      <td>0</td>\n      <td>0</td>\n      <td>1</td>\n      <td>0</td>\n      <td>5700</td>\n      <td>1</td>\n      <td>75</td>\n      <td>0.0</td>\n      <td>0.000000</td>\n      <td>0.0</td>\n      <td>1.000000</td>\n      <td>0</td>\n    </tr>\n    <tr>\n      <th>1</th>\n      <td>1406</td>\n      <td>0</td>\n      <td>0</td>\n      <td>2</td>\n      <td>0</td>\n      <td>7000</td>\n      <td>2</td>\n      <td>150</td>\n      <td>0.0</td>\n      <td>0.000000</td>\n      <td>0.0</td>\n      <td>1.000000</td>\n      <td>0</td>\n    </tr>\n    <tr>\n      <th>2</th>\n      <td>3452</td>\n      <td>5</td>\n      <td>0</td>\n      <td>8</td>\n      <td>3378423</td>\n      <td>5006784</td>\n      <td>13</td>\n      <td>535</td>\n      <td>0.0</td>\n      <td>0.384615</td>\n      <td>0.0</td>\n      <td>0.615385</td>\n      <td>1</td>\n    </tr>\n    <tr>\n      <th>3</th>\n      <td>3700</td>\n      <td>1</td>\n      <td>0</td>\n      <td>4</td>\n      <td>32555</td>\n      <td>364044</td>\n      <td>5</td>\n      <td>375</td>\n      <td>0.0</td>\n      <td>0.200000</td>\n      <td>0.0</td>\n      <td>0.800000</td>\n      <td>1</td>\n    </tr>\n    <tr>\n      <th>4</th>\n      <td>4891</td>\n      <td>37</td>\n      <td>0</td>\n      <td>47</td>\n      <td>329163</td>\n      <td>322689</td>\n      <td>84</td>\n      <td>6245</td>\n      <td>0.0</td>\n      <td>0.440476</td>\n      <td>0.0</td>\n      <td>0.559524</td>\n      <td>1</td>\n    </tr>\n    <tr>\n      <th>...</th>\n      <td>...</td>\n      <td>...</td>\n      <td>...</td>\n      <td>...</td>\n      <td>...</td>\n      <td>...</td>\n      <td>...</td>\n      <td>...</td>\n      <td>...</td>\n      <td>...</td>\n      <td>...</td>\n      <td>...</td>\n      <td>...</td>\n    </tr>\n    <tr>\n      <th>109343</th>\n      <td>6064980</td>\n      <td>1</td>\n      <td>0</td>\n      <td>1</td>\n      <td>1170</td>\n      <td>10000</td>\n      <td>2</td>\n      <td>40</td>\n      <td>0.0</td>\n      <td>0.500000</td>\n      <td>0.0</td>\n      <td>0.500000</td>\n      <td>0</td>\n    </tr>\n    <tr>\n      <th>109344</th>\n      <td>6064985</td>\n      <td>1</td>\n      <td>0</td>\n      <td>1</td>\n      <td>92</td>\n      <td>300</td>\n      <td>2</td>\n      <td>150</td>\n      <td>0.0</td>\n      <td>0.500000</td>\n      <td>0.0</td>\n      <td>0.500000</td>\n      <td>1</td>\n    </tr>\n    <tr>\n      <th>109345</th>\n      <td>6064986</td>\n      <td>0</td>\n      <td>0</td>\n      <td>1</td>\n      <td>0</td>\n      <td>900</td>\n      <td>1</td>\n      <td>75</td>\n      <td>0.0</td>\n      <td>0.000000</td>\n      <td>0.0</td>\n      <td>1.000000</td>\n      <td>1</td>\n    </tr>\n    <tr>\n      <th>109346</th>\n      <td>6064993</td>\n      <td>1</td>\n      <td>0</td>\n      <td>5</td>\n      <td>21000</td>\n      <td>24400</td>\n      <td>6</td>\n      <td>120</td>\n      <td>0.0</td>\n      <td>0.166667</td>\n      <td>0.0</td>\n      <td>0.833333</td>\n      <td>1</td>\n    </tr>\n    <tr>\n      <th>109347</th>\n      <td>6064994</td>\n      <td>2</td>\n      <td>0</td>\n      <td>1</td>\n      <td>72000</td>\n      <td>10000</td>\n      <td>3</td>\n      <td>60</td>\n      <td>0.0</td>\n      <td>0.666667</td>\n      <td>0.0</td>\n      <td>0.333333</td>\n      <td>1</td>\n    </tr>\n  </tbody>\n</table>\n<p>109348 rows × 13 columns</p>\n</div>"
     },
     "metadata": {},
     "execution_count": 20
    }
   ],
   "source": [
    "# Get a new set of users as the test set \n",
    "\n",
    "play_log_test=get_data(t_value[6])\n",
    "play_log_test"
   ]
  },
  {
   "cell_type": "code",
   "execution_count": 21,
   "metadata": {},
   "outputs": [],
   "source": [
    "# Assigning X_test and y_test\n",
    "X_test=play_log_test.iloc[:,:-1]\n",
    "X_test=X_test.drop(['UserID'], axis=1)\n",
    "\n",
    "# Fill na for some value of \n",
    "X_test=X_test.fillna(0) "
   ]
  },
  {
   "cell_type": "code",
   "execution_count": 22,
   "metadata": {},
   "outputs": [
    {
     "output_type": "execute_result",
     "data": {
      "text/plain": "0    69097\n1    40251\nName: Churn, dtype: int64"
     },
     "metadata": {},
     "execution_count": 22
    }
   ],
   "source": [
    "y_test=play_log_test.iloc[:,-1]\n",
    "y_test.value_counts()"
   ]
  },
  {
   "cell_type": "code",
   "execution_count": 23,
   "metadata": {},
   "outputs": [
    {
     "output_type": "execute_result",
     "data": {
      "text/plain": "LogisticRegression(max_iter=10000, random_state=42)"
     },
     "metadata": {},
     "execution_count": 23
    }
   ],
   "source": [
    "from sklearn.linear_model import LogisticRegression\n",
    "\n",
    "# 1. Instantiate model\n",
    "churn_logistic_regression=LogisticRegression(random_state=42, max_iter=10000)\n",
    "\n",
    "# 2. Fit model\n",
    "churn_logistic_regression.fit(X_train_downsampled, y_train_downsampled)"
   ]
  },
  {
   "cell_type": "code",
   "execution_count": 24,
   "metadata": {
    "tags": []
   },
   "outputs": [
    {
     "output_type": "stream",
     "name": "stdout",
     "text": "Score on train: 0.4998956866426746\nScore on test: 0.36823718769433367\n"
    }
   ],
   "source": [
    "# 3. Score model\n",
    "print(f'Score on train: {churn_logistic_regression.score(X_train_downsampled, y_train_downsampled)}')\n",
    "print(f'Score on test: {churn_logistic_regression.score(X_test, y_test)}')"
   ]
  },
  {
   "cell_type": "code",
   "execution_count": 25,
   "metadata": {
    "tags": []
   },
   "outputs": [
    {
     "output_type": "stream",
     "name": "stdout",
     "text": "0.7299066395451937\n0.7330083769250466\n"
    }
   ],
   "source": [
    "from sklearn.tree import DecisionTreeClassifier\n",
    "\n",
    "DT=DecisionTreeClassifier(random_state=42, max_depth=11)\n",
    "DT.fit(X_train, y_train)\n",
    "\n",
    "# Accuracy scores\n",
    "print(DT.score(X_train_downsampled, y_train_downsampled))\n",
    "print(DT.score(X_test, y_test))"
   ]
  },
  {
   "cell_type": "code",
   "execution_count": 26,
   "metadata": {
    "tags": []
   },
   "outputs": [
    {
     "output_type": "stream",
     "name": "stdout",
     "text": "0.7328274135503051\n0.7080605040787211\n"
    }
   ],
   "source": [
    "from sklearn.neighbors import KNeighborsClassifier\n",
    "\n",
    "# k_ranges = range(1,15)\n",
    "# train_scores = []\n",
    "# validation_scores = []\n",
    "\n",
    "# for k in k_ranges:\n",
    "my_knn = KNeighborsClassifier(n_neighbors=13)\n",
    "my_knn.fit(X_train, y_train)\n",
    "    \n",
    "# train_scores.append(my_knn.score(X_train, y_train))\n",
    "# validation_scores.append(my_knn.score(X_test, y_test))\n",
    "\n",
    "print(my_knn.score(X_train_downsampled, y_train_downsampled))\n",
    "print(my_knn.score(X_test, y_test))"
   ]
  },
  {
   "cell_type": "code",
   "execution_count": 27,
   "metadata": {
    "tags": []
   },
   "outputs": [
    {
     "output_type": "stream",
     "name": "stdout",
     "text": "finished 9 estimatorsfinished 10 estimatorsfinished 11 estimatorsfinished 12 estimatorsfinished 13 estimatorsfinished 14 estimatorsfinished 15 estimatorsfinished 16 estimatorsfinished 17 estimatorsfinished 18 estimatorsfinished 19 estimatorsfinished 20 estimatorsfinished 21 estimatorsfinished 22 estimatorsfinished 23 estimatorsfinished 24 estimatorsfinished 25 estimatorsfinished 26 estimatorsfinished 27 estimatorsfinished 28 estimatorsfinished 29 estimatorsfinished 30 estimatorsfinished 31 estimatorsfinished 32 estimatorsfinished 33 estimatorsfinished 34 estimatorsfinished 35 estimatorsfinished 36 estimatorsfinished 37 estimatorsfinished 38 estimatorsfinished 39 estimatorsfinished 40 estimatorsfinished 41 estimatorsfinished 42 estimatorsfinished 43 estimatorsfinished 44 estimatorsfinished 45 estimatorsfinished 46 estimatorsfinished 47 estimatorsfinished 48 estimatorsfinished 49 estimatorsfinished 50 estimatorsfinished 51 estimatorsfinished 52 estimatorsfinished 53 estimatorsfinished 54 estimatorsfinished 55 estimatorsfinished 56 estimatorsfinished 57 estimatorsfinished 58 estimatorsfinished 59 estimatorsfinished 60 estimatorsfinished 61 estimatorsfinished 62 estimatorsfinished 63 estimatorsfinished 64 estimatorsfinished 65 estimatorsfinished 66 estimatorsfinished 67 estimatorsfinished 68 estimatorsfinished 69 estimatorsfinished 70 estimatorsfinished 71 estimatorsfinished 72 estimatorsfinished 73 estimatorsfinished 74 estimatorsfinished 75 estimatorsfinished 76 estimatorsfinished 77 estimatorsfinished 78 estimatorsfinished 79 estimatorsfinished 80 estimatorsfinished 81 estimatorsfinished 82 estimatorsfinished 83 estimatorsfinished 84 estimatorsfinished 85 estimatorsfinished 86 estimatorsfinished 87 estimatorsfinished 88 estimatorsfinished 89 estimatorsfinished 90 estimatorsfinished 91 estimatorsfinished 92 estimatorsfinished 93 estimatorsfinished 94 estimatorsfinished 95 estimatorsfinished 96 estimatorsfinished 97 estimatorsfinished 98 estimatorsfinished 99 estimators"
    }
   ],
   "source": [
    "from sklearn.ensemble import RandomForestClassifier\n",
    "\n",
    "estimator_number = list(range(1, 100))\n",
    "train_scores = []\n",
    "test_scores = []\n",
    "\n",
    "\n",
    "for number in estimator_number:\n",
    "    my_model = RandomForestClassifier(n_estimators=number, \n",
    "                                      max_depth=1,\n",
    "                                      random_state=1)\n",
    "    my_model.fit(X_train_downsampled, y_train_downsampled)\n",
    "\n",
    "    train_scores.append(my_model.score(X_train_downsampled, y_train_downsampled))\n",
    "    test_scores.append(my_model.score(X_test, y_test))\n",
    "    \n",
    "    print(f'finished {number} estimators', end='\\r')"
   ]
  },
  {
   "cell_type": "code",
   "execution_count": 39,
   "metadata": {},
   "outputs": [
    {
     "output_type": "display_data",
     "data": {
      "text/plain": "<Figure size 432x288 with 1 Axes>",
      "image/svg+xml": "<?xml version=\"1.0\" encoding=\"utf-8\" standalone=\"no\"?>\n<!DOCTYPE svg PUBLIC \"-//W3C//DTD SVG 1.1//EN\"\n  \"http://www.w3.org/Graphics/SVG/1.1/DTD/svg11.dtd\">\n<!-- Created with matplotlib (https://matplotlib.org/) -->\n<svg height=\"262.19625pt\" version=\"1.1\" viewBox=\"0 0 392.14375 262.19625\" width=\"392.14375pt\" xmlns=\"http://www.w3.org/2000/svg\" xmlns:xlink=\"http://www.w3.org/1999/xlink\">\n <defs>\n  <style type=\"text/css\">\n*{stroke-linecap:butt;stroke-linejoin:round;}\n  </style>\n </defs>\n <g id=\"figure_1\">\n  <g id=\"patch_1\">\n   <path d=\"M 0 262.19625 \nL 392.14375 262.19625 \nL 392.14375 0 \nL 0 0 \nz\n\" style=\"fill:none;\"/>\n  </g>\n  <g id=\"axes_1\">\n   <g id=\"patch_2\">\n    <path d=\"M 50.14375 224.64 \nL 384.94375 224.64 \nL 384.94375 7.2 \nL 50.14375 7.2 \nz\n\" style=\"fill:#ffffff;\"/>\n   </g>\n   <g id=\"matplotlib.axis_1\">\n    <g id=\"xtick_1\">\n     <g id=\"line2d_1\">\n      <defs>\n       <path d=\"M 0 0 \nL 0 3.5 \n\" id=\"ma6a049940c\" style=\"stroke:#000000;stroke-width:0.8;\"/>\n      </defs>\n      <g>\n       <use style=\"stroke:#000000;stroke-width:0.8;\" x=\"62.25618\" xlink:href=\"#ma6a049940c\" y=\"224.64\"/>\n      </g>\n     </g>\n     <g id=\"text_1\">\n      <!-- 0 -->\n      <defs>\n       <path d=\"M 31.78125 66.40625 \nQ 24.171875 66.40625 20.328125 58.90625 \nQ 16.5 51.421875 16.5 36.375 \nQ 16.5 21.390625 20.328125 13.890625 \nQ 24.171875 6.390625 31.78125 6.390625 \nQ 39.453125 6.390625 43.28125 13.890625 \nQ 47.125 21.390625 47.125 36.375 \nQ 47.125 51.421875 43.28125 58.90625 \nQ 39.453125 66.40625 31.78125 66.40625 \nz\nM 31.78125 74.21875 \nQ 44.046875 74.21875 50.515625 64.515625 \nQ 56.984375 54.828125 56.984375 36.375 \nQ 56.984375 17.96875 50.515625 8.265625 \nQ 44.046875 -1.421875 31.78125 -1.421875 \nQ 19.53125 -1.421875 13.0625 8.265625 \nQ 6.59375 17.96875 6.59375 36.375 \nQ 6.59375 54.828125 13.0625 64.515625 \nQ 19.53125 74.21875 31.78125 74.21875 \nz\n\" id=\"DejaVuSans-48\"/>\n      </defs>\n      <g transform=\"translate(59.07493 239.238438)scale(0.1 -0.1)\">\n       <use xlink:href=\"#DejaVuSans-48\"/>\n      </g>\n     </g>\n    </g>\n    <g id=\"xtick_2\">\n     <g id=\"line2d_2\">\n      <g>\n       <use style=\"stroke:#000000;stroke-width:0.8;\" x=\"124.371208\" xlink:href=\"#ma6a049940c\" y=\"224.64\"/>\n      </g>\n     </g>\n     <g id=\"text_2\">\n      <!-- 20 -->\n      <defs>\n       <path d=\"M 19.1875 8.296875 \nL 53.609375 8.296875 \nL 53.609375 0 \nL 7.328125 0 \nL 7.328125 8.296875 \nQ 12.9375 14.109375 22.625 23.890625 \nQ 32.328125 33.6875 34.8125 36.53125 \nQ 39.546875 41.84375 41.421875 45.53125 \nQ 43.3125 49.21875 43.3125 52.78125 \nQ 43.3125 58.59375 39.234375 62.25 \nQ 35.15625 65.921875 28.609375 65.921875 \nQ 23.96875 65.921875 18.8125 64.3125 \nQ 13.671875 62.703125 7.8125 59.421875 \nL 7.8125 69.390625 \nQ 13.765625 71.78125 18.9375 73 \nQ 24.125 74.21875 28.421875 74.21875 \nQ 39.75 74.21875 46.484375 68.546875 \nQ 53.21875 62.890625 53.21875 53.421875 \nQ 53.21875 48.921875 51.53125 44.890625 \nQ 49.859375 40.875 45.40625 35.40625 \nQ 44.1875 33.984375 37.640625 27.21875 \nQ 31.109375 20.453125 19.1875 8.296875 \nz\n\" id=\"DejaVuSans-50\"/>\n      </defs>\n      <g transform=\"translate(118.008708 239.238438)scale(0.1 -0.1)\">\n       <use xlink:href=\"#DejaVuSans-50\"/>\n       <use x=\"63.623047\" xlink:href=\"#DejaVuSans-48\"/>\n      </g>\n     </g>\n    </g>\n    <g id=\"xtick_3\">\n     <g id=\"line2d_3\">\n      <g>\n       <use style=\"stroke:#000000;stroke-width:0.8;\" x=\"186.486236\" xlink:href=\"#ma6a049940c\" y=\"224.64\"/>\n      </g>\n     </g>\n     <g id=\"text_3\">\n      <!-- 40 -->\n      <defs>\n       <path d=\"M 37.796875 64.3125 \nL 12.890625 25.390625 \nL 37.796875 25.390625 \nz\nM 35.203125 72.90625 \nL 47.609375 72.90625 \nL 47.609375 25.390625 \nL 58.015625 25.390625 \nL 58.015625 17.1875 \nL 47.609375 17.1875 \nL 47.609375 0 \nL 37.796875 0 \nL 37.796875 17.1875 \nL 4.890625 17.1875 \nL 4.890625 26.703125 \nz\n\" id=\"DejaVuSans-52\"/>\n      </defs>\n      <g transform=\"translate(180.123736 239.238438)scale(0.1 -0.1)\">\n       <use xlink:href=\"#DejaVuSans-52\"/>\n       <use x=\"63.623047\" xlink:href=\"#DejaVuSans-48\"/>\n      </g>\n     </g>\n    </g>\n    <g id=\"xtick_4\">\n     <g id=\"line2d_4\">\n      <g>\n       <use style=\"stroke:#000000;stroke-width:0.8;\" x=\"248.601264\" xlink:href=\"#ma6a049940c\" y=\"224.64\"/>\n      </g>\n     </g>\n     <g id=\"text_4\">\n      <!-- 60 -->\n      <defs>\n       <path d=\"M 33.015625 40.375 \nQ 26.375 40.375 22.484375 35.828125 \nQ 18.609375 31.296875 18.609375 23.390625 \nQ 18.609375 15.53125 22.484375 10.953125 \nQ 26.375 6.390625 33.015625 6.390625 \nQ 39.65625 6.390625 43.53125 10.953125 \nQ 47.40625 15.53125 47.40625 23.390625 \nQ 47.40625 31.296875 43.53125 35.828125 \nQ 39.65625 40.375 33.015625 40.375 \nz\nM 52.59375 71.296875 \nL 52.59375 62.3125 \nQ 48.875 64.0625 45.09375 64.984375 \nQ 41.3125 65.921875 37.59375 65.921875 \nQ 27.828125 65.921875 22.671875 59.328125 \nQ 17.53125 52.734375 16.796875 39.40625 \nQ 19.671875 43.65625 24.015625 45.921875 \nQ 28.375 48.1875 33.59375 48.1875 \nQ 44.578125 48.1875 50.953125 41.515625 \nQ 57.328125 34.859375 57.328125 23.390625 \nQ 57.328125 12.15625 50.6875 5.359375 \nQ 44.046875 -1.421875 33.015625 -1.421875 \nQ 20.359375 -1.421875 13.671875 8.265625 \nQ 6.984375 17.96875 6.984375 36.375 \nQ 6.984375 53.65625 15.1875 63.9375 \nQ 23.390625 74.21875 37.203125 74.21875 \nQ 40.921875 74.21875 44.703125 73.484375 \nQ 48.484375 72.75 52.59375 71.296875 \nz\n\" id=\"DejaVuSans-54\"/>\n      </defs>\n      <g transform=\"translate(242.238764 239.238438)scale(0.1 -0.1)\">\n       <use xlink:href=\"#DejaVuSans-54\"/>\n       <use x=\"63.623047\" xlink:href=\"#DejaVuSans-48\"/>\n      </g>\n     </g>\n    </g>\n    <g id=\"xtick_5\">\n     <g id=\"line2d_5\">\n      <g>\n       <use style=\"stroke:#000000;stroke-width:0.8;\" x=\"310.716292\" xlink:href=\"#ma6a049940c\" y=\"224.64\"/>\n      </g>\n     </g>\n     <g id=\"text_5\">\n      <!-- 80 -->\n      <defs>\n       <path d=\"M 31.78125 34.625 \nQ 24.75 34.625 20.71875 30.859375 \nQ 16.703125 27.09375 16.703125 20.515625 \nQ 16.703125 13.921875 20.71875 10.15625 \nQ 24.75 6.390625 31.78125 6.390625 \nQ 38.8125 6.390625 42.859375 10.171875 \nQ 46.921875 13.96875 46.921875 20.515625 \nQ 46.921875 27.09375 42.890625 30.859375 \nQ 38.875 34.625 31.78125 34.625 \nz\nM 21.921875 38.8125 \nQ 15.578125 40.375 12.03125 44.71875 \nQ 8.5 49.078125 8.5 55.328125 \nQ 8.5 64.0625 14.71875 69.140625 \nQ 20.953125 74.21875 31.78125 74.21875 \nQ 42.671875 74.21875 48.875 69.140625 \nQ 55.078125 64.0625 55.078125 55.328125 \nQ 55.078125 49.078125 51.53125 44.71875 \nQ 48 40.375 41.703125 38.8125 \nQ 48.828125 37.15625 52.796875 32.3125 \nQ 56.78125 27.484375 56.78125 20.515625 \nQ 56.78125 9.90625 50.3125 4.234375 \nQ 43.84375 -1.421875 31.78125 -1.421875 \nQ 19.734375 -1.421875 13.25 4.234375 \nQ 6.78125 9.90625 6.78125 20.515625 \nQ 6.78125 27.484375 10.78125 32.3125 \nQ 14.796875 37.15625 21.921875 38.8125 \nz\nM 18.3125 54.390625 \nQ 18.3125 48.734375 21.84375 45.5625 \nQ 25.390625 42.390625 31.78125 42.390625 \nQ 38.140625 42.390625 41.71875 45.5625 \nQ 45.3125 48.734375 45.3125 54.390625 \nQ 45.3125 60.0625 41.71875 63.234375 \nQ 38.140625 66.40625 31.78125 66.40625 \nQ 25.390625 66.40625 21.84375 63.234375 \nQ 18.3125 60.0625 18.3125 54.390625 \nz\n\" id=\"DejaVuSans-56\"/>\n      </defs>\n      <g transform=\"translate(304.353792 239.238438)scale(0.1 -0.1)\">\n       <use xlink:href=\"#DejaVuSans-56\"/>\n       <use x=\"63.623047\" xlink:href=\"#DejaVuSans-48\"/>\n      </g>\n     </g>\n    </g>\n    <g id=\"xtick_6\">\n     <g id=\"line2d_6\">\n      <g>\n       <use style=\"stroke:#000000;stroke-width:0.8;\" x=\"372.83132\" xlink:href=\"#ma6a049940c\" y=\"224.64\"/>\n      </g>\n     </g>\n     <g id=\"text_6\">\n      <!-- 100 -->\n      <defs>\n       <path d=\"M 12.40625 8.296875 \nL 28.515625 8.296875 \nL 28.515625 63.921875 \nL 10.984375 60.40625 \nL 10.984375 69.390625 \nL 28.421875 72.90625 \nL 38.28125 72.90625 \nL 38.28125 8.296875 \nL 54.390625 8.296875 \nL 54.390625 0 \nL 12.40625 0 \nz\n\" id=\"DejaVuSans-49\"/>\n      </defs>\n      <g transform=\"translate(363.28757 239.238438)scale(0.1 -0.1)\">\n       <use xlink:href=\"#DejaVuSans-49\"/>\n       <use x=\"63.623047\" xlink:href=\"#DejaVuSans-48\"/>\n       <use x=\"127.246094\" xlink:href=\"#DejaVuSans-48\"/>\n      </g>\n     </g>\n    </g>\n    <g id=\"text_7\">\n     <!-- Estimator number -->\n     <defs>\n      <path d=\"M 9.8125 72.90625 \nL 55.90625 72.90625 \nL 55.90625 64.59375 \nL 19.671875 64.59375 \nL 19.671875 43.015625 \nL 54.390625 43.015625 \nL 54.390625 34.71875 \nL 19.671875 34.71875 \nL 19.671875 8.296875 \nL 56.78125 8.296875 \nL 56.78125 0 \nL 9.8125 0 \nz\n\" id=\"DejaVuSans-69\"/>\n      <path d=\"M 44.28125 53.078125 \nL 44.28125 44.578125 \nQ 40.484375 46.53125 36.375 47.5 \nQ 32.28125 48.484375 27.875 48.484375 \nQ 21.1875 48.484375 17.84375 46.4375 \nQ 14.5 44.390625 14.5 40.28125 \nQ 14.5 37.15625 16.890625 35.375 \nQ 19.28125 33.59375 26.515625 31.984375 \nL 29.59375 31.296875 \nQ 39.15625 29.25 43.1875 25.515625 \nQ 47.21875 21.78125 47.21875 15.09375 \nQ 47.21875 7.46875 41.1875 3.015625 \nQ 35.15625 -1.421875 24.609375 -1.421875 \nQ 20.21875 -1.421875 15.453125 -0.5625 \nQ 10.6875 0.296875 5.421875 2 \nL 5.421875 11.28125 \nQ 10.40625 8.6875 15.234375 7.390625 \nQ 20.0625 6.109375 24.8125 6.109375 \nQ 31.15625 6.109375 34.5625 8.28125 \nQ 37.984375 10.453125 37.984375 14.40625 \nQ 37.984375 18.0625 35.515625 20.015625 \nQ 33.0625 21.96875 24.703125 23.78125 \nL 21.578125 24.515625 \nQ 13.234375 26.265625 9.515625 29.90625 \nQ 5.8125 33.546875 5.8125 39.890625 \nQ 5.8125 47.609375 11.28125 51.796875 \nQ 16.75 56 26.8125 56 \nQ 31.78125 56 36.171875 55.265625 \nQ 40.578125 54.546875 44.28125 53.078125 \nz\n\" id=\"DejaVuSans-115\"/>\n      <path d=\"M 18.3125 70.21875 \nL 18.3125 54.6875 \nL 36.8125 54.6875 \nL 36.8125 47.703125 \nL 18.3125 47.703125 \nL 18.3125 18.015625 \nQ 18.3125 11.328125 20.140625 9.421875 \nQ 21.96875 7.515625 27.59375 7.515625 \nL 36.8125 7.515625 \nL 36.8125 0 \nL 27.59375 0 \nQ 17.1875 0 13.234375 3.875 \nQ 9.28125 7.765625 9.28125 18.015625 \nL 9.28125 47.703125 \nL 2.6875 47.703125 \nL 2.6875 54.6875 \nL 9.28125 54.6875 \nL 9.28125 70.21875 \nz\n\" id=\"DejaVuSans-116\"/>\n      <path d=\"M 9.421875 54.6875 \nL 18.40625 54.6875 \nL 18.40625 0 \nL 9.421875 0 \nz\nM 9.421875 75.984375 \nL 18.40625 75.984375 \nL 18.40625 64.59375 \nL 9.421875 64.59375 \nz\n\" id=\"DejaVuSans-105\"/>\n      <path d=\"M 52 44.1875 \nQ 55.375 50.25 60.0625 53.125 \nQ 64.75 56 71.09375 56 \nQ 79.640625 56 84.28125 50.015625 \nQ 88.921875 44.046875 88.921875 33.015625 \nL 88.921875 0 \nL 79.890625 0 \nL 79.890625 32.71875 \nQ 79.890625 40.578125 77.09375 44.375 \nQ 74.3125 48.1875 68.609375 48.1875 \nQ 61.625 48.1875 57.5625 43.546875 \nQ 53.515625 38.921875 53.515625 30.90625 \nL 53.515625 0 \nL 44.484375 0 \nL 44.484375 32.71875 \nQ 44.484375 40.625 41.703125 44.40625 \nQ 38.921875 48.1875 33.109375 48.1875 \nQ 26.21875 48.1875 22.15625 43.53125 \nQ 18.109375 38.875 18.109375 30.90625 \nL 18.109375 0 \nL 9.078125 0 \nL 9.078125 54.6875 \nL 18.109375 54.6875 \nL 18.109375 46.1875 \nQ 21.1875 51.21875 25.484375 53.609375 \nQ 29.78125 56 35.6875 56 \nQ 41.65625 56 45.828125 52.96875 \nQ 50 49.953125 52 44.1875 \nz\n\" id=\"DejaVuSans-109\"/>\n      <path d=\"M 34.28125 27.484375 \nQ 23.390625 27.484375 19.1875 25 \nQ 14.984375 22.515625 14.984375 16.5 \nQ 14.984375 11.71875 18.140625 8.90625 \nQ 21.296875 6.109375 26.703125 6.109375 \nQ 34.1875 6.109375 38.703125 11.40625 \nQ 43.21875 16.703125 43.21875 25.484375 \nL 43.21875 27.484375 \nz\nM 52.203125 31.203125 \nL 52.203125 0 \nL 43.21875 0 \nL 43.21875 8.296875 \nQ 40.140625 3.328125 35.546875 0.953125 \nQ 30.953125 -1.421875 24.3125 -1.421875 \nQ 15.921875 -1.421875 10.953125 3.296875 \nQ 6 8.015625 6 15.921875 \nQ 6 25.140625 12.171875 29.828125 \nQ 18.359375 34.515625 30.609375 34.515625 \nL 43.21875 34.515625 \nL 43.21875 35.40625 \nQ 43.21875 41.609375 39.140625 45 \nQ 35.0625 48.390625 27.6875 48.390625 \nQ 23 48.390625 18.546875 47.265625 \nQ 14.109375 46.140625 10.015625 43.890625 \nL 10.015625 52.203125 \nQ 14.9375 54.109375 19.578125 55.046875 \nQ 24.21875 56 28.609375 56 \nQ 40.484375 56 46.34375 49.84375 \nQ 52.203125 43.703125 52.203125 31.203125 \nz\n\" id=\"DejaVuSans-97\"/>\n      <path d=\"M 30.609375 48.390625 \nQ 23.390625 48.390625 19.1875 42.75 \nQ 14.984375 37.109375 14.984375 27.296875 \nQ 14.984375 17.484375 19.15625 11.84375 \nQ 23.34375 6.203125 30.609375 6.203125 \nQ 37.796875 6.203125 41.984375 11.859375 \nQ 46.1875 17.53125 46.1875 27.296875 \nQ 46.1875 37.015625 41.984375 42.703125 \nQ 37.796875 48.390625 30.609375 48.390625 \nz\nM 30.609375 56 \nQ 42.328125 56 49.015625 48.375 \nQ 55.71875 40.765625 55.71875 27.296875 \nQ 55.71875 13.875 49.015625 6.21875 \nQ 42.328125 -1.421875 30.609375 -1.421875 \nQ 18.84375 -1.421875 12.171875 6.21875 \nQ 5.515625 13.875 5.515625 27.296875 \nQ 5.515625 40.765625 12.171875 48.375 \nQ 18.84375 56 30.609375 56 \nz\n\" id=\"DejaVuSans-111\"/>\n      <path d=\"M 41.109375 46.296875 \nQ 39.59375 47.171875 37.8125 47.578125 \nQ 36.03125 48 33.890625 48 \nQ 26.265625 48 22.1875 43.046875 \nQ 18.109375 38.09375 18.109375 28.8125 \nL 18.109375 0 \nL 9.078125 0 \nL 9.078125 54.6875 \nL 18.109375 54.6875 \nL 18.109375 46.1875 \nQ 20.953125 51.171875 25.484375 53.578125 \nQ 30.03125 56 36.53125 56 \nQ 37.453125 56 38.578125 55.875 \nQ 39.703125 55.765625 41.0625 55.515625 \nz\n\" id=\"DejaVuSans-114\"/>\n      <path id=\"DejaVuSans-32\"/>\n      <path d=\"M 54.890625 33.015625 \nL 54.890625 0 \nL 45.90625 0 \nL 45.90625 32.71875 \nQ 45.90625 40.484375 42.875 44.328125 \nQ 39.84375 48.1875 33.796875 48.1875 \nQ 26.515625 48.1875 22.3125 43.546875 \nQ 18.109375 38.921875 18.109375 30.90625 \nL 18.109375 0 \nL 9.078125 0 \nL 9.078125 54.6875 \nL 18.109375 54.6875 \nL 18.109375 46.1875 \nQ 21.34375 51.125 25.703125 53.5625 \nQ 30.078125 56 35.796875 56 \nQ 45.21875 56 50.046875 50.171875 \nQ 54.890625 44.34375 54.890625 33.015625 \nz\n\" id=\"DejaVuSans-110\"/>\n      <path d=\"M 8.5 21.578125 \nL 8.5 54.6875 \nL 17.484375 54.6875 \nL 17.484375 21.921875 \nQ 17.484375 14.15625 20.5 10.265625 \nQ 23.53125 6.390625 29.59375 6.390625 \nQ 36.859375 6.390625 41.078125 11.03125 \nQ 45.3125 15.671875 45.3125 23.6875 \nL 45.3125 54.6875 \nL 54.296875 54.6875 \nL 54.296875 0 \nL 45.3125 0 \nL 45.3125 8.40625 \nQ 42.046875 3.421875 37.71875 1 \nQ 33.40625 -1.421875 27.6875 -1.421875 \nQ 18.265625 -1.421875 13.375 4.4375 \nQ 8.5 10.296875 8.5 21.578125 \nz\nM 31.109375 56 \nz\n\" id=\"DejaVuSans-117\"/>\n      <path d=\"M 48.6875 27.296875 \nQ 48.6875 37.203125 44.609375 42.84375 \nQ 40.53125 48.484375 33.40625 48.484375 \nQ 26.265625 48.484375 22.1875 42.84375 \nQ 18.109375 37.203125 18.109375 27.296875 \nQ 18.109375 17.390625 22.1875 11.75 \nQ 26.265625 6.109375 33.40625 6.109375 \nQ 40.53125 6.109375 44.609375 11.75 \nQ 48.6875 17.390625 48.6875 27.296875 \nz\nM 18.109375 46.390625 \nQ 20.953125 51.265625 25.265625 53.625 \nQ 29.59375 56 35.59375 56 \nQ 45.5625 56 51.78125 48.09375 \nQ 58.015625 40.1875 58.015625 27.296875 \nQ 58.015625 14.40625 51.78125 6.484375 \nQ 45.5625 -1.421875 35.59375 -1.421875 \nQ 29.59375 -1.421875 25.265625 0.953125 \nQ 20.953125 3.328125 18.109375 8.203125 \nL 18.109375 0 \nL 9.078125 0 \nL 9.078125 75.984375 \nL 18.109375 75.984375 \nz\n\" id=\"DejaVuSans-98\"/>\n      <path d=\"M 56.203125 29.59375 \nL 56.203125 25.203125 \nL 14.890625 25.203125 \nQ 15.484375 15.921875 20.484375 11.0625 \nQ 25.484375 6.203125 34.421875 6.203125 \nQ 39.59375 6.203125 44.453125 7.46875 \nQ 49.3125 8.734375 54.109375 11.28125 \nL 54.109375 2.78125 \nQ 49.265625 0.734375 44.1875 -0.34375 \nQ 39.109375 -1.421875 33.890625 -1.421875 \nQ 20.796875 -1.421875 13.15625 6.1875 \nQ 5.515625 13.8125 5.515625 26.8125 \nQ 5.515625 40.234375 12.765625 48.109375 \nQ 20.015625 56 32.328125 56 \nQ 43.359375 56 49.78125 48.890625 \nQ 56.203125 41.796875 56.203125 29.59375 \nz\nM 47.21875 32.234375 \nQ 47.125 39.59375 43.09375 43.984375 \nQ 39.0625 48.390625 32.421875 48.390625 \nQ 24.90625 48.390625 20.390625 44.140625 \nQ 15.875 39.890625 15.1875 32.171875 \nz\n\" id=\"DejaVuSans-101\"/>\n     </defs>\n     <g transform=\"translate(172.317969 252.916563)scale(0.1 -0.1)\">\n      <use xlink:href=\"#DejaVuSans-69\"/>\n      <use x=\"63.183594\" xlink:href=\"#DejaVuSans-115\"/>\n      <use x=\"115.283203\" xlink:href=\"#DejaVuSans-116\"/>\n      <use x=\"154.492188\" xlink:href=\"#DejaVuSans-105\"/>\n      <use x=\"182.275391\" xlink:href=\"#DejaVuSans-109\"/>\n      <use x=\"279.6875\" xlink:href=\"#DejaVuSans-97\"/>\n      <use x=\"340.966797\" xlink:href=\"#DejaVuSans-116\"/>\n      <use x=\"380.175781\" xlink:href=\"#DejaVuSans-111\"/>\n      <use x=\"441.357422\" xlink:href=\"#DejaVuSans-114\"/>\n      <use x=\"482.470703\" xlink:href=\"#DejaVuSans-32\"/>\n      <use x=\"514.257812\" xlink:href=\"#DejaVuSans-110\"/>\n      <use x=\"577.636719\" xlink:href=\"#DejaVuSans-117\"/>\n      <use x=\"641.015625\" xlink:href=\"#DejaVuSans-109\"/>\n      <use x=\"738.427734\" xlink:href=\"#DejaVuSans-98\"/>\n      <use x=\"801.904297\" xlink:href=\"#DejaVuSans-101\"/>\n      <use x=\"863.427734\" xlink:href=\"#DejaVuSans-114\"/>\n     </g>\n    </g>\n   </g>\n   <g id=\"matplotlib.axis_2\">\n    <g id=\"ytick_1\">\n     <g id=\"line2d_7\">\n      <defs>\n       <path d=\"M 0 0 \nL -3.5 0 \n\" id=\"mcc95cb7858\" style=\"stroke:#000000;stroke-width:0.8;\"/>\n      </defs>\n      <g>\n       <use style=\"stroke:#000000;stroke-width:0.8;\" x=\"50.14375\" xlink:href=\"#mcc95cb7858\" y=\"215.886205\"/>\n      </g>\n     </g>\n     <g id=\"text_8\">\n      <!-- 0.62 -->\n      <defs>\n       <path d=\"M 10.6875 12.40625 \nL 21 12.40625 \nL 21 0 \nL 10.6875 0 \nz\n\" id=\"DejaVuSans-46\"/>\n      </defs>\n      <g transform=\"translate(20.878125 219.685424)scale(0.1 -0.1)\">\n       <use xlink:href=\"#DejaVuSans-48\"/>\n       <use x=\"63.623047\" xlink:href=\"#DejaVuSans-46\"/>\n       <use x=\"95.410156\" xlink:href=\"#DejaVuSans-54\"/>\n       <use x=\"159.033203\" xlink:href=\"#DejaVuSans-50\"/>\n      </g>\n     </g>\n    </g>\n    <g id=\"ytick_2\">\n     <g id=\"line2d_8\">\n      <g>\n       <use style=\"stroke:#000000;stroke-width:0.8;\" x=\"50.14375\" xlink:href=\"#mcc95cb7858\" y=\"179.138459\"/>\n      </g>\n     </g>\n     <g id=\"text_9\">\n      <!-- 0.64 -->\n      <g transform=\"translate(20.878125 182.937677)scale(0.1 -0.1)\">\n       <use xlink:href=\"#DejaVuSans-48\"/>\n       <use x=\"63.623047\" xlink:href=\"#DejaVuSans-46\"/>\n       <use x=\"95.410156\" xlink:href=\"#DejaVuSans-54\"/>\n       <use x=\"159.033203\" xlink:href=\"#DejaVuSans-52\"/>\n      </g>\n     </g>\n    </g>\n    <g id=\"ytick_3\">\n     <g id=\"line2d_9\">\n      <g>\n       <use style=\"stroke:#000000;stroke-width:0.8;\" x=\"50.14375\" xlink:href=\"#mcc95cb7858\" y=\"142.390712\"/>\n      </g>\n     </g>\n     <g id=\"text_10\">\n      <!-- 0.66 -->\n      <g transform=\"translate(20.878125 146.189931)scale(0.1 -0.1)\">\n       <use xlink:href=\"#DejaVuSans-48\"/>\n       <use x=\"63.623047\" xlink:href=\"#DejaVuSans-46\"/>\n       <use x=\"95.410156\" xlink:href=\"#DejaVuSans-54\"/>\n       <use x=\"159.033203\" xlink:href=\"#DejaVuSans-54\"/>\n      </g>\n     </g>\n    </g>\n    <g id=\"ytick_4\">\n     <g id=\"line2d_10\">\n      <g>\n       <use style=\"stroke:#000000;stroke-width:0.8;\" x=\"50.14375\" xlink:href=\"#mcc95cb7858\" y=\"105.642965\"/>\n      </g>\n     </g>\n     <g id=\"text_11\">\n      <!-- 0.68 -->\n      <g transform=\"translate(20.878125 109.442184)scale(0.1 -0.1)\">\n       <use xlink:href=\"#DejaVuSans-48\"/>\n       <use x=\"63.623047\" xlink:href=\"#DejaVuSans-46\"/>\n       <use x=\"95.410156\" xlink:href=\"#DejaVuSans-54\"/>\n       <use x=\"159.033203\" xlink:href=\"#DejaVuSans-56\"/>\n      </g>\n     </g>\n    </g>\n    <g id=\"ytick_5\">\n     <g id=\"line2d_11\">\n      <g>\n       <use style=\"stroke:#000000;stroke-width:0.8;\" x=\"50.14375\" xlink:href=\"#mcc95cb7858\" y=\"68.895218\"/>\n      </g>\n     </g>\n     <g id=\"text_12\">\n      <!-- 0.70 -->\n      <defs>\n       <path d=\"M 8.203125 72.90625 \nL 55.078125 72.90625 \nL 55.078125 68.703125 \nL 28.609375 0 \nL 18.3125 0 \nL 43.21875 64.59375 \nL 8.203125 64.59375 \nz\n\" id=\"DejaVuSans-55\"/>\n      </defs>\n      <g transform=\"translate(20.878125 72.694437)scale(0.1 -0.1)\">\n       <use xlink:href=\"#DejaVuSans-48\"/>\n       <use x=\"63.623047\" xlink:href=\"#DejaVuSans-46\"/>\n       <use x=\"95.410156\" xlink:href=\"#DejaVuSans-55\"/>\n       <use x=\"159.033203\" xlink:href=\"#DejaVuSans-48\"/>\n      </g>\n     </g>\n    </g>\n    <g id=\"ytick_6\">\n     <g id=\"line2d_12\">\n      <g>\n       <use style=\"stroke:#000000;stroke-width:0.8;\" x=\"50.14375\" xlink:href=\"#mcc95cb7858\" y=\"32.147472\"/>\n      </g>\n     </g>\n     <g id=\"text_13\">\n      <!-- 0.72 -->\n      <g transform=\"translate(20.878125 35.94669)scale(0.1 -0.1)\">\n       <use xlink:href=\"#DejaVuSans-48\"/>\n       <use x=\"63.623047\" xlink:href=\"#DejaVuSans-46\"/>\n       <use x=\"95.410156\" xlink:href=\"#DejaVuSans-55\"/>\n       <use x=\"159.033203\" xlink:href=\"#DejaVuSans-50\"/>\n      </g>\n     </g>\n    </g>\n    <g id=\"text_14\">\n     <!-- Accuracy -->\n     <defs>\n      <path d=\"M 34.1875 63.1875 \nL 20.796875 26.90625 \nL 47.609375 26.90625 \nz\nM 28.609375 72.90625 \nL 39.796875 72.90625 \nL 67.578125 0 \nL 57.328125 0 \nL 50.6875 18.703125 \nL 17.828125 18.703125 \nL 11.1875 0 \nL 0.78125 0 \nz\n\" id=\"DejaVuSans-65\"/>\n      <path d=\"M 48.78125 52.59375 \nL 48.78125 44.1875 \nQ 44.96875 46.296875 41.140625 47.34375 \nQ 37.3125 48.390625 33.40625 48.390625 \nQ 24.65625 48.390625 19.8125 42.84375 \nQ 14.984375 37.3125 14.984375 27.296875 \nQ 14.984375 17.28125 19.8125 11.734375 \nQ 24.65625 6.203125 33.40625 6.203125 \nQ 37.3125 6.203125 41.140625 7.25 \nQ 44.96875 8.296875 48.78125 10.40625 \nL 48.78125 2.09375 \nQ 45.015625 0.34375 40.984375 -0.53125 \nQ 36.96875 -1.421875 32.421875 -1.421875 \nQ 20.0625 -1.421875 12.78125 6.34375 \nQ 5.515625 14.109375 5.515625 27.296875 \nQ 5.515625 40.671875 12.859375 48.328125 \nQ 20.21875 56 33.015625 56 \nQ 37.15625 56 41.109375 55.140625 \nQ 45.0625 54.296875 48.78125 52.59375 \nz\n\" id=\"DejaVuSans-99\"/>\n      <path d=\"M 32.171875 -5.078125 \nQ 28.375 -14.84375 24.75 -17.8125 \nQ 21.140625 -20.796875 15.09375 -20.796875 \nL 7.90625 -20.796875 \nL 7.90625 -13.28125 \nL 13.1875 -13.28125 \nQ 16.890625 -13.28125 18.9375 -11.515625 \nQ 21 -9.765625 23.484375 -3.21875 \nL 25.09375 0.875 \nL 2.984375 54.6875 \nL 12.5 54.6875 \nL 29.59375 11.921875 \nL 46.6875 54.6875 \nL 56.203125 54.6875 \nz\n\" id=\"DejaVuSans-121\"/>\n     </defs>\n     <g transform=\"translate(14.798438 138.748125)rotate(-90)scale(0.1 -0.1)\">\n      <use xlink:href=\"#DejaVuSans-65\"/>\n      <use x=\"66.658203\" xlink:href=\"#DejaVuSans-99\"/>\n      <use x=\"121.638672\" xlink:href=\"#DejaVuSans-99\"/>\n      <use x=\"176.619141\" xlink:href=\"#DejaVuSans-117\"/>\n      <use x=\"239.998047\" xlink:href=\"#DejaVuSans-114\"/>\n      <use x=\"281.111328\" xlink:href=\"#DejaVuSans-97\"/>\n      <use x=\"342.390625\" xlink:href=\"#DejaVuSans-99\"/>\n      <use x=\"397.371094\" xlink:href=\"#DejaVuSans-121\"/>\n     </g>\n    </g>\n   </g>\n   <g id=\"line2d_13\">\n    <path clip-path=\"url(#pca7d1a45fa)\" d=\"M 65.361932 112.220875 \nL 68.467683 32.273012 \nL 71.573435 111.837547 \nL 74.679186 26.834544 \nL 77.784937 33.638618 \nL 80.890689 25.68456 \nL 83.99644 25.540812 \nL 87.102192 23.983542 \nL 90.207943 25.852266 \nL 93.313694 23.312718 \nL 96.419446 25.44498 \nL 99.525197 25.492896 \nL 102.630949 24.24708 \nL 105.7367 23.504382 \nL 108.842451 24.72624 \nL 111.948203 23.384592 \nL 115.053954 21.108581 \nL 118.159705 23.576256 \nL 121.265457 23.336676 \nL 124.371208 23.480424 \nL 127.47696 20.629421 \nL 130.582711 24.031458 \nL 133.688462 20.413799 \nL 136.794214 23.480424 \nL 139.899965 23.360634 \nL 143.005717 23.624172 \nL 146.111468 23.791878 \nL 149.217219 24.151248 \nL 152.322971 23.88771 \nL 155.428722 23.264802 \nL 158.534474 20.389841 \nL 161.640225 20.892959 \nL 164.745976 20.078387 \nL 167.851728 19.072151 \nL 170.957479 19.215899 \nL 174.063231 17.610712 \nL 177.168982 18.976319 \nL 180.274733 19.623185 \nL 183.380485 18.592991 \nL 186.486236 19.144025 \nL 189.591987 18.353411 \nL 192.697739 19.431521 \nL 195.80349 18.521117 \nL 198.909242 19.191941 \nL 202.014993 18.401327 \nL 205.120744 18.425285 \nL 208.226496 17.179468 \nL 211.332247 17.083636 \nL 214.437999 17.419048 \nL 217.54375 18.089873 \nL 220.649501 19.048193 \nL 223.755253 20.294009 \nL 226.861004 19.695059 \nL 229.966756 20.246093 \nL 233.072507 19.599227 \nL 236.178258 20.413799 \nL 239.28401 19.551311 \nL 242.389761 19.551311 \nL 245.495513 19.695059 \nL 248.601264 19.311731 \nL 251.707015 19.814849 \nL 254.812767 19.719017 \nL 257.918518 21.132539 \nL 261.024269 21.324203 \nL 264.130021 20.509631 \nL 267.235772 21.276287 \nL 270.341524 21.467951 \nL 273.447275 20.557547 \nL 276.553026 19.431521 \nL 279.658778 20.581505 \nL 282.764529 21.515867 \nL 285.870281 20.773169 \nL 288.976032 19.886723 \nL 292.081783 20.413799 \nL 295.187535 19.455479 \nL 298.293286 19.239857 \nL 301.399038 19.503395 \nL 304.504789 19.287773 \nL 307.61054 19.335689 \nL 310.716292 19.000277 \nL 313.822043 19.215899 \nL 316.927795 18.592991 \nL 320.033546 19.024235 \nL 323.139297 18.952361 \nL 326.245049 19.359647 \nL 329.3508 18.784655 \nL 332.456551 18.736739 \nL 335.562303 18.856529 \nL 338.668054 19.239857 \nL 341.773806 19.287773 \nL 344.879557 19.311731 \nL 347.985308 19.239857 \nL 351.09106 19.431521 \nL 354.196811 19.287773 \nL 357.302563 19.239857 \nL 360.408314 19.048193 \nL 363.514065 20.030471 \nL 366.619817 20.533589 \nL 369.725568 19.958597 \n\" style=\"fill:none;stroke:#1f77b4;stroke-linecap:square;stroke-width:1.5;\"/>\n   </g>\n   <g id=\"line2d_14\">\n    <path clip-path=\"url(#pca7d1a45fa)\" d=\"M 65.361932 214.537923 \nL 68.467683 71.207327 \nL 71.573435 214.756364 \nL 74.679186 69.308575 \nL 77.784937 78.81914 \nL 80.890689 79.239218 \nL 83.99644 75.391304 \nL 87.102192 80.012161 \nL 90.207943 79.35684 \nL 93.313694 75.996216 \nL 96.419446 74.467132 \nL 99.525197 74.601557 \nL 102.630949 74.383117 \nL 105.7367 73.425339 \nL 108.842451 72.265924 \nL 111.948203 72.635592 \nL 115.053954 68.14916 \nL 118.159705 70.215943 \nL 121.265457 74.93762 \nL 124.371208 69.106938 \nL 127.47696 64.603702 \nL 130.582711 66.670486 \nL 133.688462 65.141402 \nL 136.794214 72.198711 \nL 139.899965 71.963468 \nL 143.005717 72.148302 \nL 146.111468 74.752785 \nL 149.217219 75.9122 \nL 152.322971 72.938049 \nL 155.428722 69.543819 \nL 158.534474 66.082376 \nL 161.640225 63.276256 \nL 164.745976 63.343468 \nL 167.851728 61.797581 \nL 170.957479 61.730369 \nL 174.063231 58.705808 \nL 177.168982 62.049628 \nL 180.274733 63.72994 \nL 183.380485 61.663156 \nL 186.486236 63.948381 \nL 189.591987 61.159063 \nL 192.697739 62.620934 \nL 195.80349 61.545535 \nL 198.909242 62.956997 \nL 202.014993 61.932006 \nL 205.120744 62.083234 \nL 208.226496 62.100038 \nL 211.332247 59.260311 \nL 214.437999 59.84842 \nL 217.54375 61.595944 \nL 220.649501 64.704521 \nL 223.755253 64.284443 \nL 226.861004 66.636879 \nL 229.966756 67.510642 \nL 233.072507 66.267211 \nL 236.178258 67.594657 \nL 239.28401 66.132786 \nL 242.389761 62.872981 \nL 245.495513 66.300817 \nL 248.601264 64.838946 \nL 251.707015 66.384833 \nL 254.812767 67.056957 \nL 257.918518 69.476606 \nL 261.024269 70.047912 \nL 264.130021 68.233176 \nL 267.235772 70.081519 \nL 270.341524 70.535203 \nL 273.447275 69.022922 \nL 276.553026 66.804911 \nL 279.658778 68.9053 \nL 282.764529 70.636021 \nL 285.870281 69.762259 \nL 288.976032 67.628263 \nL 292.081783 69.325378 \nL 295.187535 67.056957 \nL 298.293286 66.737698 \nL 301.399038 67.090564 \nL 304.504789 67.224989 \nL 307.61054 67.527445 \nL 310.716292 66.216801 \nL 313.822043 67.023351 \nL 316.927795 65.863936 \nL 320.033546 66.653683 \nL 323.139297 66.502454 \nL 326.245049 66.939336 \nL 329.3508 66.216801 \nL 332.456551 65.914345 \nL 335.562303 65.83033 \nL 338.668054 66.519258 \nL 341.773806 66.636879 \nL 344.879557 66.653683 \nL 347.985308 66.804911 \nL 351.09106 67.426626 \nL 354.196811 67.426626 \nL 357.302563 67.39302 \nL 360.408314 67.762688 \nL 363.514065 68.95571 \nL 366.619817 69.745456 \nL 369.725568 68.922103 \n\" style=\"fill:none;stroke:#ff7f0e;stroke-linecap:square;stroke-width:1.5;\"/>\n   </g>\n   <g id=\"patch_3\">\n    <path d=\"M 50.14375 224.64 \nL 50.14375 7.2 \n\" style=\"fill:none;stroke:#000000;stroke-linecap:square;stroke-linejoin:miter;stroke-width:0.8;\"/>\n   </g>\n   <g id=\"patch_4\">\n    <path d=\"M 384.94375 224.64 \nL 384.94375 7.2 \n\" style=\"fill:none;stroke:#000000;stroke-linecap:square;stroke-linejoin:miter;stroke-width:0.8;\"/>\n   </g>\n   <g id=\"patch_5\">\n    <path d=\"M 50.14375 224.64 \nL 384.94375 224.64 \n\" style=\"fill:none;stroke:#000000;stroke-linecap:square;stroke-linejoin:miter;stroke-width:0.8;\"/>\n   </g>\n   <g id=\"patch_6\">\n    <path d=\"M 50.14375 7.2 \nL 384.94375 7.2 \n\" style=\"fill:none;stroke:#000000;stroke-linecap:square;stroke-linejoin:miter;stroke-width:0.8;\"/>\n   </g>\n   <g id=\"legend_1\">\n    <g id=\"patch_7\">\n     <path d=\"M 321.95625 219.64 \nL 377.94375 219.64 \nQ 379.94375 219.64 379.94375 217.64 \nL 379.94375 189.28375 \nQ 379.94375 187.28375 377.94375 187.28375 \nL 321.95625 187.28375 \nQ 319.95625 187.28375 319.95625 189.28375 \nL 319.95625 217.64 \nQ 319.95625 219.64 321.95625 219.64 \nz\n\" style=\"fill:#ffffff;opacity:0.8;stroke:#cccccc;stroke-linejoin:miter;\"/>\n    </g>\n    <g id=\"line2d_15\">\n     <path d=\"M 323.95625 195.382188 \nL 343.95625 195.382188 \n\" style=\"fill:none;stroke:#1f77b4;stroke-linecap:square;stroke-width:1.5;\"/>\n    </g>\n    <g id=\"line2d_16\"/>\n    <g id=\"text_15\">\n     <!-- Train -->\n     <defs>\n      <path d=\"M -0.296875 72.90625 \nL 61.375 72.90625 \nL 61.375 64.59375 \nL 35.5 64.59375 \nL 35.5 0 \nL 25.59375 0 \nL 25.59375 64.59375 \nL -0.296875 64.59375 \nz\n\" id=\"DejaVuSans-84\"/>\n     </defs>\n     <g transform=\"translate(351.95625 198.882188)scale(0.1 -0.1)\">\n      <use xlink:href=\"#DejaVuSans-84\"/>\n      <use x=\"46.333984\" xlink:href=\"#DejaVuSans-114\"/>\n      <use x=\"87.447266\" xlink:href=\"#DejaVuSans-97\"/>\n      <use x=\"148.726562\" xlink:href=\"#DejaVuSans-105\"/>\n      <use x=\"176.509766\" xlink:href=\"#DejaVuSans-110\"/>\n     </g>\n    </g>\n    <g id=\"line2d_17\">\n     <path d=\"M 323.95625 210.060313 \nL 343.95625 210.060313 \n\" style=\"fill:none;stroke:#ff7f0e;stroke-linecap:square;stroke-width:1.5;\"/>\n    </g>\n    <g id=\"line2d_18\"/>\n    <g id=\"text_16\">\n     <!-- Test -->\n     <g transform=\"translate(351.95625 213.560313)scale(0.1 -0.1)\">\n      <use xlink:href=\"#DejaVuSans-84\"/>\n      <use x=\"44.083984\" xlink:href=\"#DejaVuSans-101\"/>\n      <use x=\"105.607422\" xlink:href=\"#DejaVuSans-115\"/>\n      <use x=\"157.707031\" xlink:href=\"#DejaVuSans-116\"/>\n     </g>\n    </g>\n   </g>\n  </g>\n </g>\n <defs>\n  <clipPath id=\"pca7d1a45fa\">\n   <rect height=\"217.44\" width=\"334.8\" x=\"50.14375\" y=\"7.2\"/>\n  </clipPath>\n </defs>\n</svg>\n",
      "image/png": "[encoded data removed]"
     },
     "metadata": {
      "needs_background": "light"
     }
    }
   ],
   "source": [
    "plt.figure()\n",
    "plt.plot(estimator_number, train_scores, label=\"Train\")\n",
    "plt.plot(estimator_number, test_scores, label=\"Test\")\n",
    "plt.xlabel(\"Estimator number\")\n",
    "plt.ylabel(\"Accuracy\")\n",
    "plt.legend()\n",
    "plt.show()"
   ]
  },
  {
   "cell_type": "code",
   "execution_count": null,
   "metadata": {},
   "outputs": [],
   "source": []
  },
  {
   "cell_type": "code",
   "execution_count": 40,
   "metadata": {},
   "outputs": [],
   "source": [
    "from sklearn.neural_network import MLPClassifier"
   ]
  },
  {
   "cell_type": "code",
   "execution_count": 31,
   "metadata": {},
   "outputs": [],
   "source": [
    "my_skl_model = MLPClassifier(hidden_layer_sizes=(10), \n",
    "                             activation='relu',\n",
    "                             max_iter=2000,\n",
    "                             solver = 'adam')"
   ]
  },
  {
   "cell_type": "code",
   "execution_count": 32,
   "metadata": {},
   "outputs": [
    {
     "output_type": "execute_result",
     "data": {
      "text/plain": "MLPClassifier(hidden_layer_sizes=10, max_iter=2000)"
     },
     "metadata": {},
     "execution_count": 32
    }
   ],
   "source": [
    "# 3. Fit\n",
    "my_skl_model.fit(X_train_downsampled, y_train_downsampled)"
   ]
  },
  {
   "cell_type": "code",
   "execution_count": 33,
   "metadata": {
    "tags": []
   },
   "outputs": [
    {
     "output_type": "stream",
     "name": "stdout",
     "text": "0.6782063318207896\n0.6630025240516516\n"
    }
   ],
   "source": [
    "# 3. Score\n",
    "print(my_skl_model.score(X_train_downsampled, y_train_downsampled))\n",
    "print(my_skl_model.score(X_test, y_test))"
   ]
  },
  {
   "cell_type": "code",
   "execution_count": 34,
   "metadata": {},
   "outputs": [],
   "source": [
    "# importing the feed-forward network object\n",
    "from tensorflow.keras.models import Sequential\n",
    "\n",
    "# importing the required type of layers\n",
    "from tensorflow.keras.layers import Dense, Dropout, BatchNormalization"
   ]
  },
  {
   "cell_type": "code",
   "execution_count": 35,
   "metadata": {},
   "outputs": [],
   "source": [
    "# Instantiate feed-forward neural network\n",
    "my_keras_model = Sequential()"
   ]
  },
  {
   "cell_type": "code",
   "execution_count": 36,
   "metadata": {},
   "outputs": [],
   "source": [
    "# adding appropriate layers\n",
    "\n",
    "# hidden layer with relu activation function and 10 nodes\n",
    "my_keras_model.add(Dense(units=10, \n",
    "                         activation='relu', \n",
    "                         input_shape=(11,))) \n",
    "# shape of data points come in the model\n",
    "# the next layer you dont need to put in input_shape\n",
    "# output layer with softmax and 3 output nodes\n",
    "my_keras_model.add(Dense(units=2,\n",
    "                         activation='softmax')) #classification problem use softmax"
   ]
  },
  {
   "cell_type": "code",
   "execution_count": 37,
   "metadata": {},
   "outputs": [],
   "source": [
    "# compile model with proper optimizer, loss and a metric\n",
    "my_keras_model.compile(optimizer='adam',\n",
    "                       loss='sparse_categorical_crossentropy',\n",
    "                       metrics=['accuracy']) #loss function is what we want to optimize"
   ]
  },
  {
   "cell_type": "code",
   "execution_count": 38,
   "metadata": {},
   "outputs": [
    {
     "output_type": "error",
     "ename": "KeyboardInterrupt",
     "evalue": "",
     "traceback": [
      "\u001b[0;31m---------------------------------------------------------------------------\u001b[0m",
      "\u001b[0;31mKeyboardInterrupt\u001b[0m                         Traceback (most recent call last)",
      "\u001b[0;32m<ipython-input-38-77511ca24d2c>\u001b[0m in \u001b[0;36m<module>\u001b[0;34m\u001b[0m\n\u001b[1;32m      1\u001b[0m \u001b[0;31m# fit model\u001b[0m\u001b[0;34m\u001b[0m\u001b[0;34m\u001b[0m\u001b[0;34m\u001b[0m\u001b[0m\n\u001b[0;32m----> 2\u001b[0;31m \u001b[0mmy_keras_model\u001b[0m\u001b[0;34m.\u001b[0m\u001b[0mfit\u001b[0m\u001b[0;34m(\u001b[0m\u001b[0mX_train_downsampled\u001b[0m\u001b[0;34m,\u001b[0m \u001b[0my_train_downsampled\u001b[0m\u001b[0;34m,\u001b[0m \u001b[0mepochs\u001b[0m\u001b[0;34m=\u001b[0m\u001b[0;36m2000\u001b[0m\u001b[0;34m,\u001b[0m \u001b[0mverbose\u001b[0m\u001b[0;34m=\u001b[0m\u001b[0;36m0\u001b[0m\u001b[0;34m)\u001b[0m\u001b[0;34m\u001b[0m\u001b[0;34m\u001b[0m\u001b[0m\n\u001b[0m\u001b[1;32m      3\u001b[0m \u001b[0;31m# epoch is the number of iteration,\u001b[0m\u001b[0;34m\u001b[0m\u001b[0;34m\u001b[0m\u001b[0;34m\u001b[0m\u001b[0m\n\u001b[1;32m      4\u001b[0m \u001b[0;31m# verbose stops the function printing everytime it finishes one iteration\u001b[0m\u001b[0;34m\u001b[0m\u001b[0;34m\u001b[0m\u001b[0;34m\u001b[0m\u001b[0m\n",
      "\u001b[0;32m~/opt/anaconda3/envs/deeplearning/lib/python3.6/site-packages/tensorflow/python/keras/engine/training.py\u001b[0m in \u001b[0;36mfit\u001b[0;34m(self, x, y, batch_size, epochs, verbose, callbacks, validation_split, validation_data, shuffle, class_weight, sample_weight, initial_epoch, steps_per_epoch, validation_steps, **kwargs)\u001b[0m\n\u001b[1;32m   1346\u001b[0m           \u001b[0minitial_epoch\u001b[0m\u001b[0;34m=\u001b[0m\u001b[0minitial_epoch\u001b[0m\u001b[0;34m,\u001b[0m\u001b[0;34m\u001b[0m\u001b[0;34m\u001b[0m\u001b[0m\n\u001b[1;32m   1347\u001b[0m           \u001b[0msteps_per_epoch\u001b[0m\u001b[0;34m=\u001b[0m\u001b[0msteps_per_epoch\u001b[0m\u001b[0;34m,\u001b[0m\u001b[0;34m\u001b[0m\u001b[0;34m\u001b[0m\u001b[0m\n\u001b[0;32m-> 1348\u001b[0;31m           validation_steps=validation_steps)\n\u001b[0m\u001b[1;32m   1349\u001b[0m \u001b[0;34m\u001b[0m\u001b[0m\n\u001b[1;32m   1350\u001b[0m   def evaluate(self,\n",
      "\u001b[0;32m~/opt/anaconda3/envs/deeplearning/lib/python3.6/site-packages/tensorflow/python/keras/engine/training_arrays.py\u001b[0m in \u001b[0;36mfit_loop\u001b[0;34m(model, inputs, targets, sample_weights, batch_size, epochs, verbose, callbacks, val_inputs, val_targets, val_sample_weights, shuffle, callback_metrics, initial_epoch, steps_per_epoch, validation_steps)\u001b[0m\n\u001b[1;32m    251\u001b[0m           \u001b[0mins_batch\u001b[0m\u001b[0;34m[\u001b[0m\u001b[0mi\u001b[0m\u001b[0;34m]\u001b[0m \u001b[0;34m=\u001b[0m \u001b[0mins_batch\u001b[0m\u001b[0;34m[\u001b[0m\u001b[0mi\u001b[0m\u001b[0;34m]\u001b[0m\u001b[0;34m.\u001b[0m\u001b[0mtoarray\u001b[0m\u001b[0;34m(\u001b[0m\u001b[0;34m)\u001b[0m\u001b[0;34m\u001b[0m\u001b[0;34m\u001b[0m\u001b[0m\n\u001b[1;32m    252\u001b[0m \u001b[0;34m\u001b[0m\u001b[0m\n\u001b[0;32m--> 253\u001b[0;31m         \u001b[0mouts\u001b[0m \u001b[0;34m=\u001b[0m \u001b[0mf\u001b[0m\u001b[0;34m(\u001b[0m\u001b[0mins_batch\u001b[0m\u001b[0;34m)\u001b[0m\u001b[0;34m\u001b[0m\u001b[0;34m\u001b[0m\u001b[0m\n\u001b[0m\u001b[1;32m    254\u001b[0m         \u001b[0;32mif\u001b[0m \u001b[0;32mnot\u001b[0m \u001b[0misinstance\u001b[0m\u001b[0;34m(\u001b[0m\u001b[0mouts\u001b[0m\u001b[0;34m,\u001b[0m \u001b[0mlist\u001b[0m\u001b[0;34m)\u001b[0m\u001b[0;34m:\u001b[0m\u001b[0;34m\u001b[0m\u001b[0;34m\u001b[0m\u001b[0m\n\u001b[1;32m    255\u001b[0m           \u001b[0mouts\u001b[0m \u001b[0;34m=\u001b[0m \u001b[0;34m[\u001b[0m\u001b[0mouts\u001b[0m\u001b[0;34m]\u001b[0m\u001b[0;34m\u001b[0m\u001b[0;34m\u001b[0m\u001b[0m\n",
      "\u001b[0;32m~/opt/anaconda3/envs/deeplearning/lib/python3.6/site-packages/tensorflow/python/keras/backend.py\u001b[0m in \u001b[0;36m__call__\u001b[0;34m(self, inputs)\u001b[0m\n\u001b[1;32m   2895\u001b[0m       \u001b[0mself\u001b[0m\u001b[0;34m.\u001b[0m\u001b[0m_make_callable\u001b[0m\u001b[0;34m(\u001b[0m\u001b[0mfeed_arrays\u001b[0m\u001b[0;34m,\u001b[0m \u001b[0mfeed_symbols\u001b[0m\u001b[0;34m,\u001b[0m \u001b[0msymbol_vals\u001b[0m\u001b[0;34m,\u001b[0m \u001b[0msession\u001b[0m\u001b[0;34m)\u001b[0m\u001b[0;34m\u001b[0m\u001b[0;34m\u001b[0m\u001b[0m\n\u001b[1;32m   2896\u001b[0m \u001b[0;34m\u001b[0m\u001b[0m\n\u001b[0;32m-> 2897\u001b[0;31m     \u001b[0mfetched\u001b[0m \u001b[0;34m=\u001b[0m \u001b[0mself\u001b[0m\u001b[0;34m.\u001b[0m\u001b[0m_callable_fn\u001b[0m\u001b[0;34m(\u001b[0m\u001b[0;34m*\u001b[0m\u001b[0marray_vals\u001b[0m\u001b[0;34m)\u001b[0m\u001b[0;34m\u001b[0m\u001b[0;34m\u001b[0m\u001b[0m\n\u001b[0m\u001b[1;32m   2898\u001b[0m     \u001b[0;32mreturn\u001b[0m \u001b[0mfetched\u001b[0m\u001b[0;34m[\u001b[0m\u001b[0;34m:\u001b[0m\u001b[0mlen\u001b[0m\u001b[0;34m(\u001b[0m\u001b[0mself\u001b[0m\u001b[0;34m.\u001b[0m\u001b[0moutputs\u001b[0m\u001b[0;34m)\u001b[0m\u001b[0;34m]\u001b[0m\u001b[0;34m\u001b[0m\u001b[0;34m\u001b[0m\u001b[0m\n\u001b[1;32m   2899\u001b[0m \u001b[0;34m\u001b[0m\u001b[0m\n",
      "\u001b[0;32m~/opt/anaconda3/envs/deeplearning/lib/python3.6/site-packages/tensorflow/python/client/session.py\u001b[0m in \u001b[0;36m__call__\u001b[0;34m(self, *args)\u001b[0m\n\u001b[1;32m   1449\u001b[0m         \u001b[0;32mif\u001b[0m \u001b[0mself\u001b[0m\u001b[0;34m.\u001b[0m\u001b[0m_session\u001b[0m\u001b[0;34m.\u001b[0m\u001b[0m_created_with_new_api\u001b[0m\u001b[0;34m:\u001b[0m\u001b[0;34m\u001b[0m\u001b[0;34m\u001b[0m\u001b[0m\n\u001b[1;32m   1450\u001b[0m           return tf_session.TF_SessionRunCallable(\n\u001b[0;32m-> 1451\u001b[0;31m               self._session._session, self._handle, args, status, None)\n\u001b[0m\u001b[1;32m   1452\u001b[0m         \u001b[0;32melse\u001b[0m\u001b[0;34m:\u001b[0m\u001b[0;34m\u001b[0m\u001b[0;34m\u001b[0m\u001b[0m\n\u001b[1;32m   1453\u001b[0m           return tf_session.TF_DeprecatedSessionRunCallable(\n",
      "\u001b[0;31mKeyboardInterrupt\u001b[0m: "
     ]
    }
   ],
   "source": [
    "# fit model \n",
    "my_keras_model.fit(X_train_downsampled, y_train_downsampled, epochs=2000, verbose=0) \n",
    "# epoch is the number of iteration, \n",
    "# verbose stops the function printing everytime it finishes one iteration "
   ]
  },
  {
   "cell_type": "code",
   "execution_count": 46,
   "metadata": {},
   "outputs": [
    {
     "ename": "ValueError",
     "evalue": "Error when checking input: expected dense_input to have shape (4,) but got array with shape (11,)",
     "output_type": "error",
     "traceback": [
      "\u001b[0;31m---------------------------------------------------------------------------\u001b[0m",
      "\u001b[0;31mValueError\u001b[0m                                Traceback (most recent call last)",
      "\u001b[0;32m<ipython-input-46-7a5bd7b7b861>\u001b[0m in \u001b[0;36m<module>\u001b[0;34m\u001b[0m\n\u001b[1;32m      1\u001b[0m \u001b[0;31m# training score\u001b[0m\u001b[0;34m\u001b[0m\u001b[0;34m\u001b[0m\u001b[0;34m\u001b[0m\u001b[0m\n\u001b[0;32m----> 2\u001b[0;31m \u001b[0mmy_keras_model\u001b[0m\u001b[0;34m.\u001b[0m\u001b[0mevaluate\u001b[0m\u001b[0;34m(\u001b[0m\u001b[0mX_train_downsampled\u001b[0m\u001b[0;34m,\u001b[0m \u001b[0my_train_downsampled\u001b[0m\u001b[0;34m)\u001b[0m\u001b[0;34m\u001b[0m\u001b[0;34m\u001b[0m\u001b[0m\n\u001b[0m",
      "\u001b[0;32m~/opt/anaconda3/envs/deeplearning/lib/python3.6/site-packages/tensorflow/python/keras/engine/training.py\u001b[0m in \u001b[0;36mevaluate\u001b[0;34m(self, x, y, batch_size, verbose, sample_weight, steps)\u001b[0m\n\u001b[1;32m   1420\u001b[0m         \u001b[0mcheck_steps\u001b[0m\u001b[0;34m=\u001b[0m\u001b[0;32mTrue\u001b[0m\u001b[0;34m,\u001b[0m\u001b[0;34m\u001b[0m\u001b[0;34m\u001b[0m\u001b[0m\n\u001b[1;32m   1421\u001b[0m         \u001b[0msteps_name\u001b[0m\u001b[0;34m=\u001b[0m\u001b[0;34m'steps'\u001b[0m\u001b[0;34m,\u001b[0m\u001b[0;34m\u001b[0m\u001b[0;34m\u001b[0m\u001b[0m\n\u001b[0;32m-> 1422\u001b[0;31m         steps=steps)\n\u001b[0m\u001b[1;32m   1423\u001b[0m \u001b[0;34m\u001b[0m\u001b[0m\n\u001b[1;32m   1424\u001b[0m     \u001b[0;32mif\u001b[0m \u001b[0mcontext\u001b[0m\u001b[0;34m.\u001b[0m\u001b[0mexecuting_eagerly\u001b[0m\u001b[0;34m(\u001b[0m\u001b[0;34m)\u001b[0m\u001b[0;34m:\u001b[0m\u001b[0;34m\u001b[0m\u001b[0;34m\u001b[0m\u001b[0m\n",
      "\u001b[0;32m~/opt/anaconda3/envs/deeplearning/lib/python3.6/site-packages/tensorflow/python/keras/engine/training.py\u001b[0m in \u001b[0;36m_standardize_user_data\u001b[0;34m(self, x, y, sample_weight, class_weight, batch_size, check_steps, steps_name, steps, validation_split)\u001b[0m\n\u001b[1;32m    866\u001b[0m         \u001b[0mfeed_input_shapes\u001b[0m\u001b[0;34m,\u001b[0m\u001b[0;34m\u001b[0m\u001b[0;34m\u001b[0m\u001b[0m\n\u001b[1;32m    867\u001b[0m         \u001b[0mcheck_batch_axis\u001b[0m\u001b[0;34m=\u001b[0m\u001b[0;32mFalse\u001b[0m\u001b[0;34m,\u001b[0m  \u001b[0;31m# Don't enforce the batch size.\u001b[0m\u001b[0;34m\u001b[0m\u001b[0;34m\u001b[0m\u001b[0m\n\u001b[0;32m--> 868\u001b[0;31m         exception_prefix='input')\n\u001b[0m\u001b[1;32m    869\u001b[0m \u001b[0;34m\u001b[0m\u001b[0m\n\u001b[1;32m    870\u001b[0m     \u001b[0;32mif\u001b[0m \u001b[0my\u001b[0m \u001b[0;32mis\u001b[0m \u001b[0;32mnot\u001b[0m \u001b[0;32mNone\u001b[0m\u001b[0;34m:\u001b[0m\u001b[0;34m\u001b[0m\u001b[0;34m\u001b[0m\u001b[0m\n",
      "\u001b[0;32m~/opt/anaconda3/envs/deeplearning/lib/python3.6/site-packages/tensorflow/python/keras/engine/training_utils.py\u001b[0m in \u001b[0;36mstandardize_input_data\u001b[0;34m(data, names, shapes, check_batch_axis, exception_prefix)\u001b[0m\n\u001b[1;32m    189\u001b[0m                 \u001b[0;34m'Error when checking '\u001b[0m \u001b[0;34m+\u001b[0m \u001b[0mexception_prefix\u001b[0m \u001b[0;34m+\u001b[0m \u001b[0;34m': expected '\u001b[0m \u001b[0;34m+\u001b[0m\u001b[0;34m\u001b[0m\u001b[0;34m\u001b[0m\u001b[0m\n\u001b[1;32m    190\u001b[0m                 \u001b[0mnames\u001b[0m\u001b[0;34m[\u001b[0m\u001b[0mi\u001b[0m\u001b[0;34m]\u001b[0m \u001b[0;34m+\u001b[0m \u001b[0;34m' to have shape '\u001b[0m \u001b[0;34m+\u001b[0m \u001b[0mstr\u001b[0m\u001b[0;34m(\u001b[0m\u001b[0mshape\u001b[0m\u001b[0;34m)\u001b[0m \u001b[0;34m+\u001b[0m\u001b[0;34m\u001b[0m\u001b[0;34m\u001b[0m\u001b[0m\n\u001b[0;32m--> 191\u001b[0;31m                 ' but got array with shape ' + str(data_shape))\n\u001b[0m\u001b[1;32m    192\u001b[0m   \u001b[0;32mreturn\u001b[0m \u001b[0mdata\u001b[0m\u001b[0;34m\u001b[0m\u001b[0;34m\u001b[0m\u001b[0m\n\u001b[1;32m    193\u001b[0m \u001b[0;34m\u001b[0m\u001b[0m\n",
      "\u001b[0;31mValueError\u001b[0m: Error when checking input: expected dense_input to have shape (4,) but got array with shape (11,)"
     ]
    }
   ],
   "source": [
    "# training score\n",
    "my_keras_model.evaluate(X_train_downsampled, y_train_downsampled)"
   ]
  },
  {
   "cell_type": "code",
   "execution_count": null,
   "metadata": {},
   "outputs": [],
   "source": [
    "# testing score\n",
    "my_keras_model.evaluate(X_test, y_test)"
   ]
  }
 ],
 "metadata": {
  "kernelspec": {
   "display_name": "pytorch",
   "language": "python",
   "name": "pytorch"
  },
  "language_info": {
   "codemirror_mode": {
    "name": "ipython",
    "version": 3
   },
   "file_extension": ".py",
   "mimetype": "text/x-python",
   "name": "python",
   "nbconvert_exporter": "python",
   "pygments_lexer": "ipython3",
   "version": "3.7.6-final"
  }
 },
 "nbformat": 4,
 "nbformat_minor": 4
}